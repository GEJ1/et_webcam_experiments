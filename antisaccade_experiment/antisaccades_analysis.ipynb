{
 "cells": [
  {
   "cell_type": "code",
   "execution_count": 18,
   "metadata": {},
   "outputs": [],
   "source": [
    "import pandas as pd\n",
    "import numpy as np\n",
    "import matplotlib.pyplot as plt\n",
    "import matplotlib.gridspec as gridspec\n",
    "import seaborn as sns\n",
    "from pathlib import Path\n",
    "from scipy.interpolate import interp1d\n",
    "from scipy.signal import savgol_filter\n",
    "from scipy.stats import ttest_ind, ranksums\n",
    "from decimal import Decimal\n",
    "import math\n",
    "import warnings\n",
    "import statsmodels.api as sm\n",
    "import os\n",
    "import glob\n",
    "\n",
    "\n",
    "\n",
    "# Format\n",
    "pd.set_option(\"display.max_columns\", None)\n",
    "pd.set_option(\"display.max_rows\", 700)\n",
    "sns.set(font_scale=1.1)  \n",
    "\n",
    "# Warnings\n",
    "pd.options.mode.chained_assignment = None  # default='warn'\n",
    "warnings.filterwarnings(\"ignore\", category=RuntimeWarning)\n",
    "\n",
    "\n",
    "from matplotlib.cbook import boxplot_stats  # Para obtener los outliers en un boxplot\n",
    "# boxplot_stats(df_blocks_filtered['antisaccade_errors']).pop(0)['fliers']\n"
   ]
  },
  {
   "cell_type": "code",
   "execution_count": 3,
   "metadata": {},
   "outputs": [],
   "source": [
    "def pre_processing(\n",
    "    df: pd.DataFrame,\n",
    "    type_of_saccade: str,\n",
    "    NEW_SAMPLING_RATE=30,\n",
    "    baseline_start=-200.0,\n",
    "    baseline_end=100.0,\n",
    "    interpolate=False,\n",
    "    cue_shown_at_left=None,\n",
    "    threshold_to_accept_sacc=0.5,\n",
    "    FILTER=1.5,\n",
    "    filter_by_block=False,\n",
    "    selected_block=1,\n",
    "    savgol_flag=True\n",
    ") -> dict:\n",
    "    \"\"\"Pre process webcam eye tracking data\n",
    "\n",
    "    Args:\n",
    "        df (pd.DataFrame): _description_\n",
    "        type_of_saccade (str): _description_\n",
    "        NEW_SAMPLING_RATE (int, optional): _description_. Defaults to 30.\n",
    "        interpolate (bool, optional): _description_. Defaults to False.\n",
    "        cue_shown_at_left (_type_, optional): _description_. Defaults to None.\n",
    "        threshold_to_accept_sacc (float, optional): _description_. Defaults to 0.5.\n",
    "\n",
    "    Returns:\n",
    "        dict: _description_\n",
    "    \"\"\"\n",
    "\n",
    "    # 0. Estoy sacando los trials de practica (`isTutorial`) y quedandome con las filas que tengan datos de webgazer\n",
    "    df_saccade = df.query(\"not webgazer_data.isnull() and isTutorial == False\")\n",
    "\n",
    "    # Le agrego numero de bloque al df\n",
    "    blocks = sum([[i] * 20 for i in range(1, 17)], [])\n",
    "    df_saccade.loc[:, \"block\"] = blocks\n",
    "\n",
    "    # Filtro por tipo de sacada\n",
    "    df_saccade = df_saccade.query(\"typeOfSaccade == @type_of_saccade\")\n",
    "\n",
    "    # filtro por bloque\n",
    "    if filter_by_block == True:\n",
    "        df_saccade = df_saccade.query(\"block == @selected_block\")\n",
    "\n",
    "    webgazer_data = df_saccade[\"webgazer_data\"].map(eval)\n",
    "\n",
    "    pro_sacc_errors = 0\n",
    "    anti_sacc_errors = 0\n",
    "\n",
    "    ts_xs = []\n",
    "    pro_sacc_errors_rt = []\n",
    "    pro_sacc_correct_rt = []\n",
    "    anti_sacc_errors_rt = []\n",
    "    anti_sacc_correct_rt = []\n",
    "\n",
    "    for trial in range(len(webgazer_data)):\n",
    "        t0 = df_saccade[\"intraEnd\"].iloc[trial]\n",
    "        tf = df_saccade[\"fixEnd\"].iloc[trial]  # Deberia ser t0 - 200\n",
    "        xs = np.array([i[\"x\"] for i in webgazer_data.iloc[trial]])\n",
    "        ts = np.array([i[\"t\"] - t0 for i in webgazer_data.iloc[trial]])\n",
    "\n",
    "        # Interpolate\n",
    "        if interpolate:\n",
    "            f1 = interp1d(ts, xs, kind=\"linear\")\n",
    "            samples = int((ts[-1] - (-200)) / 30) #  900 ms / 30 Hz te daria 30 samples\n",
    "            ts_new = np.linspace(-200, ts[-1], samples)\n",
    "            xs = f1(ts_new)\n",
    "            ts = ts_new\n",
    "\n",
    "        # LOW_FILTER_PIX = 168 # Un 10% para cada lado\n",
    "        # HIGH_FILTER_PIX = 1512 # Un 10% para cada lado\n",
    "        # # filtro pasa banda de trials\n",
    "        # if any(xs > HIGH_FILTER_PIX) or any(xs < LOW_FILTER_PIX):\n",
    "        #     continue\n",
    "\n",
    "        # 1. Calcular la mediana entre [baseline_start baseline_end] = Xbase\n",
    "        x_base = np.median(\n",
    "            xs[(ts > baseline_start) & (ts < baseline_end)]\n",
    "        )  # [-200, 100]\n",
    "\n",
    "        # 2. Calcular la mediana entre [500 700] (se puede antibar) = Xmax (o Xmin segun el signo)\n",
    "        x_max = np.median(xs[(ts > 500.0) & (ts <= 700.0)])\n",
    "\n",
    "        # 3. y despues transformas tal que antes de 0 sea 0 y al final sea 1 o -1\n",
    "        # eso seria: (xs - Xbase) / abs(Xbase - Xmax)\n",
    "        xs = (xs - x_base) / np.abs(x_base - x_max)\n",
    "\n",
    "        # 4. Luego de normalizar las estimaciones se espejó la mitad de ellas tal que pudiera asu-\n",
    "        # mirse que el estímulo visual lateral aparecía siempre del mismo lado. El espejado se realizó\n",
    "        # multiplicando por −1 las estimaciones de los ensayos en los cuales el estímulo lateral\n",
    "        # apareciera a izquierda. -> Por lo tanto lo que quede para arriba es mirar en la direccion del estimulo y\n",
    "        #  para abajo en la direccion opuesta\n",
    "        if df_saccade[\"cueShownAtLeft\"].iloc[trial] == True:\n",
    "            xs = xs * -1\n",
    "\n",
    "        # 5. filtro pasa banda de trials\n",
    "        if any(xs > FILTER) or any(xs < -FILTER):\n",
    "            continue\n",
    "\n",
    "        # # 6. Savitzky-Golay filter\n",
    "        # https://docs.scipy.org/doc/scipy/reference/generated/scipy.signal.savgol_filter.html\n",
    "        if savgol_flag:\n",
    "            xs = savgol_filter(xs, 5, 2)\n",
    "\n",
    "        # 7. Detectar lado en que mira\n",
    "        xs_after_baseline = xs[ts > baseline_end]\n",
    "        ts_after_baseline = ts[ts > baseline_end]\n",
    "        if type_of_saccade == \"prosaccade\":\n",
    "            is_sacc_error_in_trial = np.any(\n",
    "                xs_after_baseline < -threshold_to_accept_sacc\n",
    "            )\n",
    "            if is_sacc_error_in_trial:\n",
    "                pro_sacc_errors += 1\n",
    "                err_prosacc_idx = np.where(\n",
    "                    xs_after_baseline < -threshold_to_accept_sacc\n",
    "                )[0][0]\n",
    "                err_prosacc_time = ts_after_baseline[err_prosacc_idx]\n",
    "                pro_sacc_errors_rt.append(f\"{err_prosacc_time:.2f}\")\n",
    "            else:\n",
    "                corr_prosacc_idx = np.where(\n",
    "                    xs_after_baseline >= threshold_to_accept_sacc\n",
    "                )[0][0]\n",
    "                corr_prosacc_time = ts_after_baseline[corr_prosacc_idx]\n",
    "                pro_sacc_correct_rt.append(f\"{corr_prosacc_time:.2f}\")\n",
    "\n",
    "        elif type_of_saccade == \"antisaccade\":\n",
    "            is_anti_sacc_error_in_trial = np.any(\n",
    "                xs_after_baseline > threshold_to_accept_sacc\n",
    "            )\n",
    "            if is_anti_sacc_error_in_trial:\n",
    "                anti_sacc_errors += 1\n",
    "                err_antisacc_idx = np.where(\n",
    "                    xs_after_baseline > threshold_to_accept_sacc\n",
    "                )[0][0]\n",
    "                err_antisacc_time = ts_after_baseline[err_antisacc_idx]\n",
    "                anti_sacc_errors_rt.append(f\"{err_antisacc_time:.2f}\")\n",
    "\n",
    "            else:\n",
    "                corr_antisacc_idx = np.where(\n",
    "                    xs_after_baseline <= -threshold_to_accept_sacc\n",
    "                )[0][0]\n",
    "                corr_antisacc_time = ts_after_baseline[corr_antisacc_idx]\n",
    "                anti_sacc_correct_rt.append(f\"{corr_antisacc_time:.2f}\")\n",
    "\n",
    "        ts_xs.append((ts, xs))\n",
    "\n",
    "    try:\n",
    "        trials_rejected = 100 - (\n",
    "            len(ts_xs) / len(webgazer_data) * 100\n",
    "        )  # len(webgazer_data) = 160 siempre\n",
    "        pro_saccades_errors_perc = (pro_sacc_errors / len(ts_xs)) * 100\n",
    "        anti_saccades_errors_perc = (anti_sacc_errors / len(ts_xs)) * 100\n",
    "    except ZeroDivisionError:\n",
    "        trials_rejected = 100\n",
    "        pro_saccades_errors_perc = np.nan\n",
    "        anti_saccades_errors_perc = np.nan\n",
    "\n",
    "    return {\n",
    "        \"ts_xs\": ts_xs,\n",
    "        \"number_of_trials_remained\": len(ts_xs),\n",
    "        \"pro_sacc_errors\": pro_sacc_errors,\n",
    "        \"pro_sacc_errors_perc\": pro_saccades_errors_perc,\n",
    "        \"anti_sacc_errors\": anti_sacc_errors,\n",
    "        \"anti_sacc_errors_perc\": anti_saccades_errors_perc,\n",
    "        \"trials_rejected\": trials_rejected,\n",
    "        \"pro_sacc_errors_rt\": pro_sacc_errors_rt,\n",
    "        \"pro_sacc_correct_rt\": pro_sacc_correct_rt,\n",
    "        \"anti_sacc_errors_rt\": anti_sacc_errors_rt,\n",
    "        \"anti_sacc_correct_rt\": anti_sacc_correct_rt,\n",
    "        \"age\": int(eval(df[\"response\"][1])[\"age\"]),\n",
    "        \"px2degree\": df[~df[\"px2deg\"].isna()][\"px2deg\"].iloc[0].round(2),\n",
    "        \"win_width_pixels\": df[~df[\"win_width_deg\"].isna()][\"win_width_deg\"].iloc[0].round(2)\n",
    "        * df[~df[\"px2deg\"].isna()][\"px2deg\"].iloc[0].round(2),\n",
    "        \"win_height_pixels\": df[~df[\"win_height_deg\"].isna()][\"win_height_deg\"].iloc[0].round(2)\n",
    "        * df[~df[\"px2deg\"].isna()][\"px2deg\"].iloc[0].round(2),\n",
    "    }\n",
    "\n",
    "\n",
    "def normalize_in_range(values, a, b):\n",
    "    \"\"\"Normalize in range [a,b]\"\"\"\n",
    "    values_normalized = []\n",
    "    for i in range(len(values)):\n",
    "        res = (\n",
    "            (b - a) * ((values[i] - np.min(values))) / (np.max(values) - np.min(values))\n",
    "        ) + a\n",
    "        values_normalized.append(res)\n",
    "    return np.array(values_normalized)\n",
    "\n",
    "\n",
    "def one_subject(df, suj_number, type_of_saccade):\n",
    "    fig, axs = plt.subplots(\n",
    "        3, 1, height_ratios=[1, 4, 1], sharex=True, constrained_layout=True\n",
    "    )\n",
    "\n",
    "    suj_number = str(suj_number)\n",
    "    print(\"suj_number:\", suj_number)\n",
    "    df = df.query(\"subject == @suj_number\")\n",
    "    for i in df.query(\"subject == @suj_number\")[type_of_saccade].iloc[0]:\n",
    "        ts, xs = i[0], i[1]\n",
    "        axs[1].plot(ts, xs)\n",
    "\n",
    "        axs[1].axhline(y=0.5, color=\"k\", linestyle=\"-\")\n",
    "        axs[1].axhline(y=-0.5, color=\"k\", linestyle=\"-\")\n",
    "        axs[1].axvline(x=0, color=\"k\", linestyle=\"-\")\n",
    "        axs[1].set_ylabel(\"x coordinate predictions\")\n",
    "        # axs[1].set_xlabel(\"time (ms)\")\n",
    "        axs[1].set_xticks(np.arange(-200, 1000, step=100))\n",
    "        axs[1].set_xlim(-200, 700)\n",
    "        axs[1].set_ylim(-2, 2)\n",
    "\n",
    "    if type_of_saccade == \"prosaccade\":\n",
    "        data_error = [float(i) for i in df[\"pro_sacc_errors_rt\"].iloc[0]]\n",
    "        data_correct = [float(i) for i in df[\"pro_sacc_correct_rt\"].iloc[0]]\n",
    "        sns.kdeplot(data_error, ax=axs[2])\n",
    "        sns.rugplot(data_error, ax=axs[2], height=0.1)\n",
    "        sns.kdeplot(data_correct, ax=axs[0])\n",
    "        sns.rugplot(data_correct, ax=axs[0], height=0.1)\n",
    "        axs[2].set_xlim([-200, 700])\n",
    "        axs[2].invert_yaxis()\n",
    "        axs[0].set_xlim([-200, 700])\n",
    "\n",
    "    else:\n",
    "        data_error = [float(i) for i in df[\"anti_sacc_errors_rt\"].iloc[0]]\n",
    "        data_correct = [float(i) for i in df[\"anti_sacc_correct_rt\"].iloc[0]]\n",
    "        sns.kdeplot(data_error, ax=axs[0])\n",
    "        sns.rugplot(data_error, ax=axs[0], height=0.1)\n",
    "        sns.kdeplot(data_correct, ax=axs[2])\n",
    "        sns.rugplot(data_correct, ax=axs[2], height=0.1)\n",
    "        axs[0].set_xlim([-200, 700])\n",
    "        axs[2].set_xlim([-200, 700])\n",
    "        axs[2].invert_yaxis()\n",
    "\n",
    "    plt.suptitle(f\"{type_of_saccade}\")\n",
    "    fig.align_ylabels(axs[:])\n",
    "    fig.supxlabel(\"time (ms)\")\n",
    "    plt.show()\n"
   ]
  },
  {
   "cell_type": "markdown",
   "metadata": {},
   "source": [
    "### Load all files"
   ]
  },
  {
   "cell_type": "code",
   "execution_count": null,
   "metadata": {},
   "outputs": [],
   "source": [
    "ALL_FILES_RAW = list(Path(\"./raw_data\").glob(\"*.csv\"))\n",
    "\n",
    "df_processed_signal = pd.DataFrame(\n",
    "    {\n",
    "        \"subject\": None,\n",
    "        \"prosaccade\": None,\n",
    "        \"antisaccade\": None,\n",
    "        \"prosaccade_errors\": None,\n",
    "        \"antisaccade_errors\": None,\n",
    "    },\n",
    "    index=[],\n",
    ")\n",
    "\n",
    "subjects = []\n",
    "pro_saccades = []\n",
    "anti_saccades = []\n",
    "pro_saccades_errors = []\n",
    "pro_saccades_errors_perc = []\n",
    "anti_saccades_errors = []\n",
    "anti_saccades_errors_perc = []\n",
    "trials_rejected_prosaccade = []\n",
    "trials_rejected_antisaccade = []\n",
    "pro_sacc_errors_rt = []\n",
    "pro_sacc_correct_rt = []\n",
    "anti_sacc_errors_rt = []\n",
    "anti_sacc_correct_rt = []\n",
    "prosaccade_trials_remained = []\n",
    "antisaccade_trials_remained = []\n",
    "age = []\n",
    "px2degree = []\n",
    "win_height_pixels = []\n",
    "win_width_pixels = []\n",
    "\n",
    "\n",
    "\n",
    "print(\"processing ...\")\n",
    "for i, suj in enumerate(ALL_FILES_RAW):\n",
    "    print(suj)\n",
    "    df = pd.read_csv(suj)\n",
    "    suj = str(suj).split(\"/\")[-1].split(\".\")[0].split(\"_\")[-1]\n",
    "    anti_saccade_dict = pre_processing(\n",
    "        df, type_of_saccade=\"antisaccade\", interpolate=True\n",
    "    )\n",
    "    pro_saccade_dict = pre_processing(\n",
    "        df, type_of_saccade=\"prosaccade\", interpolate=True\n",
    "    )\n",
    "    subjects.append(suj)\n",
    "    pro_saccades.append(pro_saccade_dict[\"ts_xs\"])\n",
    "    prosaccade_trials_remained.append(pro_saccade_dict[\"number_of_trials_remained\"])\n",
    "    antisaccade_trials_remained.append(anti_saccade_dict[\"number_of_trials_remained\"])\n",
    "    anti_saccades.append(anti_saccade_dict[\"ts_xs\"])\n",
    "    pro_saccades_errors.append(pro_saccade_dict[\"pro_sacc_errors\"])\n",
    "    pro_saccades_errors_perc.append(pro_saccade_dict[\"pro_sacc_errors_perc\"])\n",
    "\n",
    "    anti_saccades_errors.append(anti_saccade_dict[\"anti_sacc_errors\"])\n",
    "    anti_saccades_errors_perc.append(anti_saccade_dict[\"anti_sacc_errors_perc\"])\n",
    "    \n",
    "    trials_rejected_prosaccade.append(pro_saccade_dict[\"trials_rejected\"])\n",
    "\n",
    "    trials_rejected_antisaccade.append(anti_saccade_dict[\"trials_rejected\"])\n",
    "    pro_sacc_errors_rt.append(pro_saccade_dict[\"pro_sacc_errors_rt\"])\n",
    "    pro_sacc_correct_rt.append(pro_saccade_dict[\"pro_sacc_correct_rt\"])\n",
    "    anti_sacc_errors_rt.append(anti_saccade_dict[\"anti_sacc_errors_rt\"])\n",
    "    anti_sacc_correct_rt.append(anti_saccade_dict[\"anti_sacc_correct_rt\"])\n",
    "    age.append(anti_saccade_dict[\"age\"])\n",
    "    px2degree.append(pro_saccade_dict[\"px2degree\"])\n",
    "    win_height_pixels.append(pro_saccade_dict[\"win_height_pixels\"])\n",
    "    win_width_pixels.append(pro_saccade_dict[\"win_width_pixels\"])\n",
    "    \n",
    "\n",
    "    # print(\" --- \")\n",
    "\n",
    "df_processed_signal[\"subject\"] = subjects\n",
    "df_processed_signal[\"prosaccade\"] = pro_saccades\n",
    "df_processed_signal[\"antisaccade\"] = anti_saccades\n",
    "df_processed_signal[\"prosaccade_errors\"] = pro_saccades_errors\n",
    "df_processed_signal[\"antisaccade_errors\"] = anti_saccades_errors\n",
    "df_processed_signal[\"delta_errors\"] = np.array(anti_saccades_errors) - np.array(\n",
    "    pro_saccades_errors\n",
    ")\n",
    "df_processed_signal[\n",
    "    \"trials_rejected_antisaccade_percentage\"\n",
    "] = trials_rejected_antisaccade\n",
    "df_processed_signal[\n",
    "    \"trials_rejected_prosaccade_percentage\"\n",
    "] = trials_rejected_prosaccade\n",
    "df_processed_signal[\"pro_sacc_errors_rt\"] = pro_sacc_errors_rt\n",
    "df_processed_signal[\"pro_sacc_correct_rt\"] = pro_sacc_correct_rt\n",
    "df_processed_signal[\"anti_sacc_errors_rt\"] = anti_sacc_errors_rt\n",
    "df_processed_signal[\"anti_sacc_correct_rt\"] = anti_sacc_correct_rt\n",
    "\n",
    "# medians\n",
    "df_processed_signal[\"pro_sacc_errors_rt_median\"] = df_processed_signal[\n",
    "    \"pro_sacc_errors_rt\"\n",
    "].apply(lambda x: np.median([float(i) for i in x]))\n",
    "df_processed_signal[\"pro_sacc_correct_rt_median\"] = df_processed_signal[\n",
    "    \"pro_sacc_correct_rt\"\n",
    "].apply(lambda x: np.median([float(i) for i in x]))\n",
    "df_processed_signal[\"anti_sacc_errors_rt_median\"] = df_processed_signal[\n",
    "    \"anti_sacc_errors_rt\"\n",
    "].apply(lambda x: np.median([float(i) for i in x]))\n",
    "df_processed_signal[\"anti_sacc_correct_rt_median\"] = df_processed_signal[\n",
    "    \"anti_sacc_correct_rt\"\n",
    "].apply(lambda x: np.median([float(i) for i in x]))\n",
    "\n",
    "# # Percentage of errors\n",
    "df_processed_signal[\"prosaccade_errors_perc\"] = pro_saccades_errors_perc\n",
    "df_processed_signal[\"antisaccade_errors_perc\"] = anti_saccades_errors_perc\n",
    "\n",
    "\n",
    "df_processed_signal[\"prosaccade_trials_remained\"] = prosaccade_trials_remained\n",
    "df_processed_signal[\"antisaccade_trials_remained\"] = antisaccade_trials_remained\n",
    "\n",
    "prosaccade_trials_remained\n",
    "\n",
    "df_processed_signal[\"age\"] = age\n",
    "df_processed_signal[\"px2degree\"] = px2degree\n",
    "df_processed_signal[\"win_width_pixels\"] = win_width_pixels\n",
    "df_processed_signal[\"win_height_pixels\"] = win_height_pixels\n",
    "\n",
    "print(\" \")\n",
    "print(\"✅df_processed_signal ready✅\")\n"
   ]
  },
  {
   "cell_type": "markdown",
   "metadata": {},
   "source": [
    "### Load all files and separate in blocks\n"
   ]
  },
  {
   "cell_type": "code",
   "execution_count": 4,
   "metadata": {},
   "outputs": [
    {
     "name": "stdout",
     "output_type": "stream",
     "text": [
      "processing ...\n",
      "99\n",
      "110\n",
      "124\n",
      "115\n",
      "91\n",
      "101\n",
      "104\n",
      "102\n",
      "92\n",
      "107\n",
      "105\n",
      "112\n",
      "98\n",
      "113\n",
      "100\n",
      "118\n",
      "127\n",
      "123\n",
      "109\n",
      "126\n",
      "103\n",
      "114\n",
      "125\n",
      "117\n",
      "111\n",
      "119\n",
      " \n",
      "df_all_blocks ready✅\n"
     ]
    }
   ],
   "source": [
    "# SEPARACION EN BLOQUES\n",
    "\n",
    "ALL_FILES_RAW = list(Path(\"./raw_data\").glob(\"*.csv\"))\n",
    "REJECTED_SUJ = []\n",
    "all_dfs = []\n",
    "\n",
    "\n",
    "print(\"processing ...\")\n",
    "for i, suj in enumerate(ALL_FILES_RAW):\n",
    "    df = pd.read_csv(suj)\n",
    "    if suj in REJECTED_SUJ:\n",
    "        continue\n",
    "    suj = str(suj).split(\"/\")[-1].split(\".\")[0].split(\"_\")[-1]\n",
    "\n",
    "    _df_processed_signal = pd.DataFrame(\n",
    "        {\n",
    "            \"subject\": None,\n",
    "            \"prosaccade\": None,\n",
    "            \"antisaccade\": None,\n",
    "            \"prosaccade_errors\": None,\n",
    "            \"antisaccade_errors\": None,\n",
    "        },\n",
    "        index=[],\n",
    "    )\n",
    "\n",
    "    subjects = []\n",
    "    prosaccade_trials_remained = []\n",
    "    antisaccade_trials_remained = []\n",
    "    pro_saccades = []\n",
    "    anti_saccades = []\n",
    "    pro_saccades_errors = []\n",
    "    pro_saccades_errors_perc = []\n",
    "\n",
    "    anti_saccades_errors = []\n",
    "    anti_saccades_errors_perc = []\n",
    "    trials_rejected_prosaccade = []\n",
    "    trials_rejected_antisaccade = []\n",
    "    pro_sacc_errors_rt = []\n",
    "    pro_sacc_correct_rt = []\n",
    "    anti_sacc_errors_rt = []\n",
    "    anti_sacc_correct_rt = []\n",
    "    age = []\n",
    "    px2degree = []\n",
    "    block_number = []\n",
    "\n",
    "    print(suj)\n",
    "\n",
    "\n",
    "    for block in range(1, 17):\n",
    "        anti_saccade_dict = pre_processing(\n",
    "            df,\n",
    "            type_of_saccade=\"antisaccade\",\n",
    "            interpolate=True,\n",
    "            filter_by_block=True,\n",
    "            selected_block=block,\n",
    "        )\n",
    "        pro_saccade_dict = pre_processing(\n",
    "            df,\n",
    "            type_of_saccade=\"prosaccade\",\n",
    "            interpolate=True,\n",
    "            filter_by_block=True,\n",
    "            selected_block=block\n",
    "        )\n",
    "        subjects.append(suj)\n",
    "        pro_saccades.append(pro_saccade_dict[\"ts_xs\"])\n",
    "        anti_saccades.append(anti_saccade_dict[\"ts_xs\"])\n",
    "\n",
    "        prosaccade_trials_remained.append(pro_saccade_dict[\"number_of_trials_remained\"])\n",
    "        antisaccade_trials_remained.append(anti_saccade_dict[\"number_of_trials_remained\"])\n",
    "    \n",
    "        pro_saccades_errors.append(pro_saccade_dict[\"pro_sacc_errors\"])\n",
    "        pro_saccades_errors_perc.append(pro_saccade_dict[\"pro_sacc_errors_perc\"])\n",
    "        anti_saccades_errors.append(anti_saccade_dict[\"anti_sacc_errors\"])\n",
    "        anti_saccades_errors_perc.append(anti_saccade_dict[\"anti_sacc_errors_perc\"])\n",
    "        trials_rejected_prosaccade.append(pro_saccade_dict[\"trials_rejected\"])\n",
    "        trials_rejected_antisaccade.append(anti_saccade_dict[\"trials_rejected\"])\n",
    "        pro_sacc_errors_rt.append(pro_saccade_dict[\"pro_sacc_errors_rt\"])\n",
    "        pro_sacc_correct_rt.append(pro_saccade_dict[\"pro_sacc_correct_rt\"])\n",
    "        anti_sacc_errors_rt.append(anti_saccade_dict[\"anti_sacc_errors_rt\"])\n",
    "        anti_sacc_correct_rt.append(anti_saccade_dict[\"anti_sacc_correct_rt\"])\n",
    "        age.append(anti_saccade_dict[\"age\"])\n",
    "        px2degree.append(pro_saccade_dict[\"px2degree\"])\n",
    "        block_number.append(block)\n",
    "        # print(\" --- \")\n",
    "\n",
    "    _df_processed_signal[\"subject\"] = subjects\n",
    "    _df_processed_signal[\"prosaccade\"] = pro_saccades\n",
    "    _df_processed_signal[\"antisaccade\"] = anti_saccades\n",
    "    _df_processed_signal[\"prosaccade_errors\"] = pro_saccades_errors\n",
    "    _df_processed_signal[\"antisaccade_errors\"] = anti_saccades_errors\n",
    "    _df_processed_signal[\"delta_errors\"] = np.array(anti_saccades_errors) - np.array(\n",
    "        pro_saccades_errors\n",
    "    )\n",
    "    _df_processed_signal[\n",
    "        \"trials_rejected_antisaccade_percentage\"\n",
    "    ] = trials_rejected_antisaccade\n",
    "    _df_processed_signal[\n",
    "        \"trials_rejected_prosaccade_percentage\"\n",
    "    ] = trials_rejected_prosaccade\n",
    "    _df_processed_signal[\"pro_sacc_errors_rt\"] = pro_sacc_errors_rt\n",
    "    _df_processed_signal[\"pro_sacc_correct_rt\"] = pro_sacc_correct_rt\n",
    "    _df_processed_signal[\"anti_sacc_errors_rt\"] = anti_sacc_errors_rt\n",
    "    _df_processed_signal[\"anti_sacc_correct_rt\"] = anti_sacc_correct_rt\n",
    "\n",
    "    # median\n",
    "    _df_processed_signal[\"pro_sacc_errors_rt_median\"] = _df_processed_signal[\n",
    "        \"pro_sacc_errors_rt\"\n",
    "    ].apply(lambda x: np.median([float(i) for i in x]))\n",
    "    _df_processed_signal[\"pro_sacc_correct_rt_median\"] = _df_processed_signal[\n",
    "        \"pro_sacc_correct_rt\"\n",
    "    ].apply(lambda x: np.median([float(i) for i in x]))\n",
    "    _df_processed_signal[\"anti_sacc_errors_rt_median\"] = _df_processed_signal[\n",
    "        \"anti_sacc_errors_rt\"\n",
    "    ].apply(lambda x: np.median([float(i) for i in x]))\n",
    "    _df_processed_signal[\"anti_sacc_correct_rt_median\"] = _df_processed_signal[\n",
    "        \"anti_sacc_correct_rt\"\n",
    "    ].apply(lambda x: np.median([float(i) for i in x]))\n",
    "\n",
    "    # Percentage of errors\n",
    "    _df_processed_signal[\"prosaccade_errors_perc\"] = pro_saccades_errors_perc\n",
    "    _df_processed_signal[\"antisaccade_errors_perc\"] = anti_saccades_errors_perc\n",
    "\n",
    "    _df_processed_signal[\"prosaccade_trials_remained\"] = prosaccade_trials_remained\n",
    "    _df_processed_signal[\"antisaccade_trials_remained\"] = antisaccade_trials_remained\n",
    "\n",
    "\n",
    "    _df_processed_signal[\"age\"] = age\n",
    "    _df_processed_signal[\"px2degree\"] = px2degree\n",
    "    _df_processed_signal['block'] = block_number\n",
    "\n",
    "\n",
    "    all_dfs.append(_df_processed_signal)\n",
    "\n",
    "print(\" \")\n",
    "\n",
    "df_all_blocks = pd.concat(all_dfs)\n",
    "\n",
    "print(\"df_all_blocks ready✅\")"
   ]
  },
  {
   "cell_type": "code",
   "execution_count": 5,
   "metadata": {},
   "outputs": [
    {
     "name": "stdout",
     "output_type": "stream",
     "text": [
      "df_blocks_filtered ready ✅\n"
     ]
    }
   ],
   "source": [
    "# Constants\n",
    "MAX_NUMBER_INCORRECTS_BY_BLOCK = (\n",
    "    10  # Esto implica que en un bloque hizo al menos el 50% mal\n",
    ")\n",
    "FIRST_BLOCK = 1\n",
    "LAST_BLOCK = 16\n",
    "\n",
    "# Filter \n",
    "df_blocks_filtered = (\n",
    "    df_all_blocks.query(\n",
    "        \"prosaccade_errors < @MAX_NUMBER_INCORRECTS_BY_BLOCK and antisaccade_errors < @MAX_NUMBER_INCORRECTS_BY_BLOCK and @FIRST_BLOCK <= block <= @LAST_BLOCK\"\n",
    "    )  # Con la mitad de los bloques\n",
    "    .groupby(\"subject\")\n",
    "    .agg(\n",
    "        {\n",
    "            \"prosaccade\": list,\n",
    "            \"antisaccade\":list,\n",
    "            \"prosaccade_errors\": \"sum\",\n",
    "            \"antisaccade_errors\": \"sum\",\n",
    "            \"prosaccade_trials_remained\": \"sum\",\n",
    "            \"antisaccade_trials_remained\": \"sum\",\n",
    "            \"pro_sacc_errors_rt\": \"sum\",\n",
    "            \"pro_sacc_correct_rt\": \"sum\",\n",
    "            \"anti_sacc_errors_rt\": \"sum\",\n",
    "            \"anti_sacc_correct_rt\": \"sum\",\n",
    "            \"pro_sacc_errors_rt_median\": np.nanmean,\n",
    "            \"anti_sacc_errors_rt_median\": np.nanmean,\n",
    "            \"pro_sacc_correct_rt_median\": np.nanmean,\n",
    "            \"anti_sacc_correct_rt_median\": np.nanmean,\n",
    "            \"block\": lambda x: x.nunique(),\n",
    "            \"age\": pd.Series.mode, # TODO: MAKE THE SAME WITH OTHER SIMILAR DATA\n",
    "            \"px2degree\": pd.Series.mode \n",
    "        }\n",
    "    )\n",
    ")\n",
    "\n",
    "df_blocks_filtered = df_blocks_filtered.rename({\"block\": \"remained_blocks\"}, axis=1)\n",
    "df_blocks_filtered['max_number_incorrect_by_block'] = MAX_NUMBER_INCORRECTS_BY_BLOCK\n",
    "df_blocks_filtered.insert(2, \"delta_errors\", df_blocks_filtered['antisaccade_errors'] - df_blocks_filtered['prosaccade_errors'])\n",
    "\n",
    "\n",
    "# Percentage\n",
    "df_blocks_filtered[\"prosaccade_errors_perc\"] = (\n",
    "    df_blocks_filtered[\"prosaccade_errors\"]\n",
    "    / df_blocks_filtered[\"prosaccade_trials_remained\"]\n",
    ") * 100\n",
    "\n",
    "\n",
    "df_blocks_filtered[\"antisaccade_errors_perc\"] = (\n",
    "    df_blocks_filtered[\"antisaccade_errors\"]\n",
    "    / df_blocks_filtered[\"antisaccade_trials_remained\"]\n",
    ") * 100\n",
    "\n",
    "# Data wrangling\n",
    "prosaccs_all = []\n",
    "antisaccs_all = []\n",
    "for suj in range(len(df_blocks_filtered)):\n",
    "    prosaccs_one_suj = []\n",
    "    antisaccs_one_suj = []\n",
    "    prosaccades = df_blocks_filtered.iloc[suj][\"prosaccade\"]\n",
    "    antisaccades = df_blocks_filtered.iloc[suj][\"antisaccade\"]\n",
    "    for block_pro in prosaccades:\n",
    "        if block_pro:\n",
    "            for trial in block_pro:\n",
    "                prosaccs_one_suj.append(trial)\n",
    "    \n",
    "    for block_anti in prosaccades:\n",
    "        if block_anti:\n",
    "            for trial in block_anti:\n",
    "                antisaccs_one_suj.append(trial)\n",
    "\n",
    "    prosaccs_all.append(prosaccs_one_suj)\n",
    "    antisaccs_all.append(antisaccs_one_suj)\n",
    "\n",
    "df_blocks_filtered[\"prosaccade\"] = prosaccs_all\n",
    "df_blocks_filtered[\"antisaccade\"] = antisaccs_all\n",
    "\n",
    "print(\"df_blocks_filtered ready ✅\")"
   ]
  },
  {
   "cell_type": "code",
   "execution_count": 6,
   "metadata": {},
   "outputs": [
    {
     "name": "stdout",
     "output_type": "stream",
     "text": [
      "RanksumsResult(statistic=-1.509848211271082, pvalue=0.13108215992444813)\n",
      "N=26, blocks=16\n",
      "Cantidad de bloques filtrados: 3\n"
     ]
    },
    {
     "data": {
      "text/html": [
       "<div>\n",
       "<style scoped>\n",
       "    .dataframe tbody tr th:only-of-type {\n",
       "        vertical-align: middle;\n",
       "    }\n",
       "\n",
       "    .dataframe tbody tr th {\n",
       "        vertical-align: top;\n",
       "    }\n",
       "\n",
       "    .dataframe thead th {\n",
       "        text-align: right;\n",
       "    }\n",
       "</style>\n",
       "<table border=\"1\" class=\"dataframe\">\n",
       "  <thead>\n",
       "    <tr style=\"text-align: right;\">\n",
       "      <th></th>\n",
       "      <th>delta_errors</th>\n",
       "      <th>prosaccade_errors</th>\n",
       "      <th>antisaccade_errors</th>\n",
       "      <th>prosaccade_trials_remained</th>\n",
       "      <th>antisaccade_trials_remained</th>\n",
       "      <th>pro_sacc_errors_rt_median</th>\n",
       "      <th>anti_sacc_errors_rt_median</th>\n",
       "      <th>pro_sacc_correct_rt_median</th>\n",
       "      <th>anti_sacc_correct_rt_median</th>\n",
       "      <th>remained_blocks</th>\n",
       "      <th>age</th>\n",
       "      <th>px2degree</th>\n",
       "      <th>max_number_incorrect_by_block</th>\n",
       "      <th>prosaccade_errors_perc</th>\n",
       "      <th>antisaccade_errors_perc</th>\n",
       "    </tr>\n",
       "  </thead>\n",
       "  <tbody>\n",
       "    <tr>\n",
       "      <th>count</th>\n",
       "      <td>26.000000</td>\n",
       "      <td>26.000000</td>\n",
       "      <td>26.000000</td>\n",
       "      <td>26.000000</td>\n",
       "      <td>26.000000</td>\n",
       "      <td>25.000000</td>\n",
       "      <td>26.000000</td>\n",
       "      <td>26.000000</td>\n",
       "      <td>26.000000</td>\n",
       "      <td>26.000000</td>\n",
       "      <td>26.000000</td>\n",
       "      <td>26.000000</td>\n",
       "      <td>26.0</td>\n",
       "      <td>26.000000</td>\n",
       "      <td>26.000000</td>\n",
       "    </tr>\n",
       "    <tr>\n",
       "      <th>mean</th>\n",
       "      <td>2.076923</td>\n",
       "      <td>6.423077</td>\n",
       "      <td>8.500000</td>\n",
       "      <td>147.538462</td>\n",
       "      <td>145.923077</td>\n",
       "      <td>413.435480</td>\n",
       "      <td>372.814002</td>\n",
       "      <td>412.923101</td>\n",
       "      <td>449.939986</td>\n",
       "      <td>15.884615</td>\n",
       "      <td>31.769231</td>\n",
       "      <td>34.468462</td>\n",
       "      <td>10.0</td>\n",
       "      <td>4.328694</td>\n",
       "      <td>5.816650</td>\n",
       "    </tr>\n",
       "    <tr>\n",
       "      <th>std</th>\n",
       "      <td>5.365990</td>\n",
       "      <td>4.196885</td>\n",
       "      <td>4.957822</td>\n",
       "      <td>7.910655</td>\n",
       "      <td>12.373918</td>\n",
       "      <td>109.190024</td>\n",
       "      <td>65.467272</td>\n",
       "      <td>33.184085</td>\n",
       "      <td>30.834029</td>\n",
       "      <td>0.325813</td>\n",
       "      <td>6.094638</td>\n",
       "      <td>3.713438</td>\n",
       "      <td>0.0</td>\n",
       "      <td>2.781365</td>\n",
       "      <td>3.255031</td>\n",
       "    </tr>\n",
       "    <tr>\n",
       "      <th>min</th>\n",
       "      <td>-14.000000</td>\n",
       "      <td>0.000000</td>\n",
       "      <td>1.000000</td>\n",
       "      <td>127.000000</td>\n",
       "      <td>111.000000</td>\n",
       "      <td>241.202500</td>\n",
       "      <td>213.611000</td>\n",
       "      <td>361.481875</td>\n",
       "      <td>397.275000</td>\n",
       "      <td>15.000000</td>\n",
       "      <td>22.000000</td>\n",
       "      <td>27.430000</td>\n",
       "      <td>10.0</td>\n",
       "      <td>0.000000</td>\n",
       "      <td>0.662252</td>\n",
       "    </tr>\n",
       "    <tr>\n",
       "      <th>25%</th>\n",
       "      <td>0.250000</td>\n",
       "      <td>4.000000</td>\n",
       "      <td>4.250000</td>\n",
       "      <td>146.000000</td>\n",
       "      <td>139.500000</td>\n",
       "      <td>312.573000</td>\n",
       "      <td>338.427292</td>\n",
       "      <td>392.488594</td>\n",
       "      <td>428.526563</td>\n",
       "      <td>16.000000</td>\n",
       "      <td>28.250000</td>\n",
       "      <td>31.250000</td>\n",
       "      <td>10.0</td>\n",
       "      <td>2.696078</td>\n",
       "      <td>3.145032</td>\n",
       "    </tr>\n",
       "    <tr>\n",
       "      <th>50%</th>\n",
       "      <td>3.000000</td>\n",
       "      <td>5.000000</td>\n",
       "      <td>7.500000</td>\n",
       "      <td>149.000000</td>\n",
       "      <td>150.500000</td>\n",
       "      <td>406.133333</td>\n",
       "      <td>380.777812</td>\n",
       "      <td>408.569687</td>\n",
       "      <td>447.560938</td>\n",
       "      <td>16.000000</td>\n",
       "      <td>30.500000</td>\n",
       "      <td>35.850000</td>\n",
       "      <td>10.0</td>\n",
       "      <td>3.523923</td>\n",
       "      <td>5.422572</td>\n",
       "    </tr>\n",
       "    <tr>\n",
       "      <th>75%</th>\n",
       "      <td>5.000000</td>\n",
       "      <td>9.000000</td>\n",
       "      <td>12.000000</td>\n",
       "      <td>153.000000</td>\n",
       "      <td>155.000000</td>\n",
       "      <td>481.512500</td>\n",
       "      <td>408.741429</td>\n",
       "      <td>432.083839</td>\n",
       "      <td>466.739062</td>\n",
       "      <td>16.000000</td>\n",
       "      <td>33.000000</td>\n",
       "      <td>37.407500</td>\n",
       "      <td>10.0</td>\n",
       "      <td>6.133355</td>\n",
       "      <td>7.844130</td>\n",
       "    </tr>\n",
       "    <tr>\n",
       "      <th>max</th>\n",
       "      <td>10.000000</td>\n",
       "      <td>17.000000</td>\n",
       "      <td>20.000000</td>\n",
       "      <td>157.000000</td>\n",
       "      <td>160.000000</td>\n",
       "      <td>628.371250</td>\n",
       "      <td>488.114000</td>\n",
       "      <td>493.158125</td>\n",
       "      <td>514.517143</td>\n",
       "      <td>16.000000</td>\n",
       "      <td>51.000000</td>\n",
       "      <td>39.840000</td>\n",
       "      <td>10.0</td>\n",
       "      <td>11.258278</td>\n",
       "      <td>12.903226</td>\n",
       "    </tr>\n",
       "  </tbody>\n",
       "</table>\n",
       "</div>"
      ],
      "text/plain": [
       "       delta_errors  prosaccade_errors  antisaccade_errors  \\\n",
       "count     26.000000          26.000000           26.000000   \n",
       "mean       2.076923           6.423077            8.500000   \n",
       "std        5.365990           4.196885            4.957822   \n",
       "min      -14.000000           0.000000            1.000000   \n",
       "25%        0.250000           4.000000            4.250000   \n",
       "50%        3.000000           5.000000            7.500000   \n",
       "75%        5.000000           9.000000           12.000000   \n",
       "max       10.000000          17.000000           20.000000   \n",
       "\n",
       "       prosaccade_trials_remained  antisaccade_trials_remained  \\\n",
       "count                   26.000000                    26.000000   \n",
       "mean                   147.538462                   145.923077   \n",
       "std                      7.910655                    12.373918   \n",
       "min                    127.000000                   111.000000   \n",
       "25%                    146.000000                   139.500000   \n",
       "50%                    149.000000                   150.500000   \n",
       "75%                    153.000000                   155.000000   \n",
       "max                    157.000000                   160.000000   \n",
       "\n",
       "       pro_sacc_errors_rt_median  anti_sacc_errors_rt_median  \\\n",
       "count                  25.000000                   26.000000   \n",
       "mean                  413.435480                  372.814002   \n",
       "std                   109.190024                   65.467272   \n",
       "min                   241.202500                  213.611000   \n",
       "25%                   312.573000                  338.427292   \n",
       "50%                   406.133333                  380.777812   \n",
       "75%                   481.512500                  408.741429   \n",
       "max                   628.371250                  488.114000   \n",
       "\n",
       "       pro_sacc_correct_rt_median  anti_sacc_correct_rt_median  \\\n",
       "count                   26.000000                    26.000000   \n",
       "mean                   412.923101                   449.939986   \n",
       "std                     33.184085                    30.834029   \n",
       "min                    361.481875                   397.275000   \n",
       "25%                    392.488594                   428.526563   \n",
       "50%                    408.569687                   447.560938   \n",
       "75%                    432.083839                   466.739062   \n",
       "max                    493.158125                   514.517143   \n",
       "\n",
       "       remained_blocks        age  px2degree  max_number_incorrect_by_block  \\\n",
       "count        26.000000  26.000000  26.000000                           26.0   \n",
       "mean         15.884615  31.769231  34.468462                           10.0   \n",
       "std           0.325813   6.094638   3.713438                            0.0   \n",
       "min          15.000000  22.000000  27.430000                           10.0   \n",
       "25%          16.000000  28.250000  31.250000                           10.0   \n",
       "50%          16.000000  30.500000  35.850000                           10.0   \n",
       "75%          16.000000  33.000000  37.407500                           10.0   \n",
       "max          16.000000  51.000000  39.840000                           10.0   \n",
       "\n",
       "       prosaccade_errors_perc  antisaccade_errors_perc  \n",
       "count               26.000000                26.000000  \n",
       "mean                 4.328694                 5.816650  \n",
       "std                  2.781365                 3.255031  \n",
       "min                  0.000000                 0.662252  \n",
       "25%                  2.696078                 3.145032  \n",
       "50%                  3.523923                 5.422572  \n",
       "75%                  6.133355                 7.844130  \n",
       "max                 11.258278                12.903226  "
      ]
     },
     "execution_count": 6,
     "metadata": {},
     "output_type": "execute_result"
    },
    {
     "data": {
      "image/png": "[encoded data removed]",
      "text/plain": [
       "<Figure size 640x480 with 1 Axes>"
      ]
     },
     "metadata": {},
     "output_type": "display_data"
    }
   ],
   "source": [
    "# Plot errors\n",
    "\n",
    "ax = sns.boxplot(\n",
    "    data=df_blocks_filtered[[\"prosaccade_errors_perc\", \"antisaccade_errors_perc\"]],\n",
    "    width=0.3,\n",
    ")\n",
    "ax.set_ylabel(\"%\")\n",
    "\n",
    "boxes = ax.patches\n",
    "\"block\"\n",
    "for i, box in enumerate(boxes):\n",
    "    box.set_facecolor(\"w\")\n",
    "\n",
    "\n",
    "print(\n",
    "    ranksums(\n",
    "        df_blocks_filtered[\"prosaccade_errors_perc\"],\n",
    "        df_blocks_filtered[\"antisaccade_errors_perc\"],\n",
    "    )\n",
    ")\n",
    "print(f\"N={len(df_blocks_filtered)}, blocks={df_blocks_filtered['remained_blocks'].max()}\")\n",
    "\n",
    "print(f\"Cantidad de bloques filtrados: {(len(df_blocks_filtered['remained_blocks']) * 16)  - df_blocks_filtered['remained_blocks'].sum()}\")\n",
    "\n",
    "df_blocks_filtered.describe()"
   ]
  },
  {
   "cell_type": "code",
   "execution_count": 7,
   "metadata": {},
   "outputs": [
    {
     "data": {
      "image/png": "[encoded data removed]",
      "text/plain": [
       "<Figure size 640x480 with 1 Axes>"
      ]
     },
     "metadata": {},
     "output_type": "display_data"
    },
    {
     "data": {
      "image/png": "[encoded data removed]",
      "text/plain": [
       "<Figure size 640x480 with 1 Axes>"
      ]
     },
     "metadata": {},
     "output_type": "display_data"
    }
   ],
   "source": [
    "# Testeando normalidad\n",
    "pro_data = df_blocks_filtered[\"prosaccade_errors_perc\"],\n",
    "anti_data = df_blocks_filtered[\"antisaccade_errors_perc\"],\n",
    "sm.qqplot(pro_data[0], line='45', fit = True)\n",
    "sm.qqplot(anti_data[0], line='45', fit = True)\n",
    "plt.show()"
   ]
  },
  {
   "cell_type": "code",
   "execution_count": 8,
   "metadata": {},
   "outputs": [
    {
     "data": {
      "image/png": "[encoded data removed]",
      "text/plain": [
       "<Figure size 640x480 with 1 Axes>"
      ]
     },
     "metadata": {},
     "output_type": "display_data"
    },
    {
     "data": {
      "image/png": "[encoded data removed]",
      "text/plain": [
       "<Figure size 640x480 with 1 Axes>"
      ]
     },
     "metadata": {},
     "output_type": "display_data"
    }
   ],
   "source": [
    "# Incorrectos por bloque\n",
    "\n",
    "all_dfs = []\n",
    "for last_block in range(1, 17):\n",
    "    # filtrar bloques\n",
    "\n",
    "    FIRST_BLOCK = 1\n",
    "    LAST_BLOCK = last_block\n",
    "\n",
    "    _df_blocks_filtered = (\n",
    "        df_all_blocks.query(\n",
    "            \"prosaccade_errors < @MAX_NUMBER_INCORRECTS_BY_BLOCK and antisaccade_errors < @MAX_NUMBER_INCORRECTS_BY_BLOCK and @FIRST_BLOCK <= block <= @LAST_BLOCK\"\n",
    "        )  # Con la mitad de los bloques\n",
    "        .groupby(\"subject\")\n",
    "        .agg(\n",
    "            {\n",
    "                \"prosaccade_errors\": \"sum\",\n",
    "                \"antisaccade_errors\": \"sum\",\n",
    "                \"prosaccade_trials_remained\": \"sum\",\n",
    "                \"antisaccade_trials_remained\": \"sum\",\n",
    "                \"pro_sacc_errors_rt\": \"sum\",\n",
    "                \"pro_sacc_correct_rt\": \"sum\",\n",
    "                \"anti_sacc_errors_rt\": \"sum\",\n",
    "                \"anti_sacc_correct_rt\": \"sum\",\n",
    "                \"pro_sacc_errors_rt_median\": np.nanmean,\n",
    "                \"anti_sacc_errors_rt_median\": np.nanmean,\n",
    "                \"pro_sacc_correct_rt_median\": np.nanmean,\n",
    "                \"anti_sacc_correct_rt_median\": np.nanmean,\n",
    "                \"block\": lambda x: x.nunique(),\n",
    "            }\n",
    "        )\n",
    "    )\n",
    "\n",
    "    _df_blocks_filtered = _df_blocks_filtered.rename({\"block\": \"remained_blocks\"}, axis=1)\n",
    "\n",
    "\n",
    "    # Percentage\n",
    "    _df_blocks_filtered[\"prosaccade_errors_perc\"] = (\n",
    "        _df_blocks_filtered[\"prosaccade_errors\"]\n",
    "        / _df_blocks_filtered[\"prosaccade_trials_remained\"]\n",
    "    ) * 100\n",
    "\n",
    "\n",
    "    _df_blocks_filtered[\"antisaccade_errors_perc\"] = (\n",
    "        _df_blocks_filtered[\"antisaccade_errors\"]\n",
    "        / _df_blocks_filtered[\"antisaccade_trials_remained\"]\n",
    "    ) * 100\n",
    "    all_dfs.append(_df_blocks_filtered)\n",
    "\n",
    "all_dataframes = pd.concat(all_dfs)\n",
    "\n",
    "all_dataframes\n",
    "\n",
    "# Plot\n",
    "ax = sns.boxplot(\n",
    "    data=all_dataframes.melt(id_vars=['remained_blocks'], value_vars=['prosaccade_errors_perc', 'antisaccade_errors_perc'],\n",
    "                 var_name='Type of trial', value_name='% of incorrect trials'),\n",
    "    x='remained_blocks',\n",
    "    y='% of incorrect trials',\n",
    "    hue='Type of trial',\n",
    "    showfliers = True\n",
    ")\n",
    "sns.move_legend(ax, \"upper left\", bbox_to_anchor=(1, 1))\n",
    "plt.show()\n",
    "\n",
    "ax = sns.boxplot(\n",
    "    data=all_dataframes.melt(id_vars=['remained_blocks'], value_vars=['prosaccade_errors_perc', 'antisaccade_errors_perc'],\n",
    "                 var_name='Type of trial', value_name='% of incorrect trials'),\n",
    "    x='remained_blocks',\n",
    "    y='% of incorrect trials',\n",
    "    hue='Type of trial',\n",
    "    showfliers = False\n",
    ")\n",
    "sns.move_legend(ax, \"upper left\", bbox_to_anchor=(1, 1))\n",
    "\n",
    "\n",
    "plt.show()"
   ]
  },
  {
   "cell_type": "code",
   "execution_count": 9,
   "metadata": {},
   "outputs": [
    {
     "data": {
      "image/png": "[encoded data removed]",
      "text/plain": [
       "<Figure size 640x480 with 1 Axes>"
      ]
     },
     "metadata": {},
     "output_type": "display_data"
    },
    {
     "name": "stdout",
     "output_type": "stream",
     "text": [
      "RT condition [pro - anti] x result [correct - incorrect]\n",
      "ranksums pro_sacc_errors_rt_median vs. anti_sacc_errors_rt_median:  0.22067\n",
      "ranksums pro_sacc_correct_rt_median vs. anti_sacc_correct_rt_median: 0.00025\n",
      "\n"
     ]
    },
    {
     "data": {
      "text/html": [
       "<div>\n",
       "<style scoped>\n",
       "    .dataframe tbody tr th:only-of-type {\n",
       "        vertical-align: middle;\n",
       "    }\n",
       "\n",
       "    .dataframe tbody tr th {\n",
       "        vertical-align: top;\n",
       "    }\n",
       "\n",
       "    .dataframe thead th {\n",
       "        text-align: right;\n",
       "    }\n",
       "</style>\n",
       "<table border=\"1\" class=\"dataframe\">\n",
       "  <thead>\n",
       "    <tr style=\"text-align: right;\">\n",
       "      <th></th>\n",
       "      <th>delta_errors</th>\n",
       "      <th>prosaccade_errors</th>\n",
       "      <th>antisaccade_errors</th>\n",
       "      <th>prosaccade_trials_remained</th>\n",
       "      <th>antisaccade_trials_remained</th>\n",
       "      <th>pro_sacc_errors_rt_median</th>\n",
       "      <th>anti_sacc_errors_rt_median</th>\n",
       "      <th>pro_sacc_correct_rt_median</th>\n",
       "      <th>anti_sacc_correct_rt_median</th>\n",
       "      <th>remained_blocks</th>\n",
       "      <th>age</th>\n",
       "      <th>px2degree</th>\n",
       "      <th>max_number_incorrect_by_block</th>\n",
       "      <th>prosaccade_errors_perc</th>\n",
       "      <th>antisaccade_errors_perc</th>\n",
       "    </tr>\n",
       "  </thead>\n",
       "  <tbody>\n",
       "    <tr>\n",
       "      <th>count</th>\n",
       "      <td>26.000000</td>\n",
       "      <td>26.000000</td>\n",
       "      <td>26.000000</td>\n",
       "      <td>26.000000</td>\n",
       "      <td>26.000000</td>\n",
       "      <td>25.000000</td>\n",
       "      <td>26.000000</td>\n",
       "      <td>26.000000</td>\n",
       "      <td>26.000000</td>\n",
       "      <td>26.000000</td>\n",
       "      <td>26.000000</td>\n",
       "      <td>26.000000</td>\n",
       "      <td>26.0</td>\n",
       "      <td>26.000000</td>\n",
       "      <td>26.000000</td>\n",
       "    </tr>\n",
       "    <tr>\n",
       "      <th>mean</th>\n",
       "      <td>2.076923</td>\n",
       "      <td>6.423077</td>\n",
       "      <td>8.500000</td>\n",
       "      <td>147.538462</td>\n",
       "      <td>145.923077</td>\n",
       "      <td>413.435480</td>\n",
       "      <td>372.814002</td>\n",
       "      <td>412.923101</td>\n",
       "      <td>449.939986</td>\n",
       "      <td>15.884615</td>\n",
       "      <td>31.769231</td>\n",
       "      <td>34.468462</td>\n",
       "      <td>10.0</td>\n",
       "      <td>4.328694</td>\n",
       "      <td>5.816650</td>\n",
       "    </tr>\n",
       "    <tr>\n",
       "      <th>std</th>\n",
       "      <td>5.365990</td>\n",
       "      <td>4.196885</td>\n",
       "      <td>4.957822</td>\n",
       "      <td>7.910655</td>\n",
       "      <td>12.373918</td>\n",
       "      <td>109.190024</td>\n",
       "      <td>65.467272</td>\n",
       "      <td>33.184085</td>\n",
       "      <td>30.834029</td>\n",
       "      <td>0.325813</td>\n",
       "      <td>6.094638</td>\n",
       "      <td>3.713438</td>\n",
       "      <td>0.0</td>\n",
       "      <td>2.781365</td>\n",
       "      <td>3.255031</td>\n",
       "    </tr>\n",
       "    <tr>\n",
       "      <th>min</th>\n",
       "      <td>-14.000000</td>\n",
       "      <td>0.000000</td>\n",
       "      <td>1.000000</td>\n",
       "      <td>127.000000</td>\n",
       "      <td>111.000000</td>\n",
       "      <td>241.202500</td>\n",
       "      <td>213.611000</td>\n",
       "      <td>361.481875</td>\n",
       "      <td>397.275000</td>\n",
       "      <td>15.000000</td>\n",
       "      <td>22.000000</td>\n",
       "      <td>27.430000</td>\n",
       "      <td>10.0</td>\n",
       "      <td>0.000000</td>\n",
       "      <td>0.662252</td>\n",
       "    </tr>\n",
       "    <tr>\n",
       "      <th>25%</th>\n",
       "      <td>0.250000</td>\n",
       "      <td>4.000000</td>\n",
       "      <td>4.250000</td>\n",
       "      <td>146.000000</td>\n",
       "      <td>139.500000</td>\n",
       "      <td>312.573000</td>\n",
       "      <td>338.427292</td>\n",
       "      <td>392.488594</td>\n",
       "      <td>428.526563</td>\n",
       "      <td>16.000000</td>\n",
       "      <td>28.250000</td>\n",
       "      <td>31.250000</td>\n",
       "      <td>10.0</td>\n",
       "      <td>2.696078</td>\n",
       "      <td>3.145032</td>\n",
       "    </tr>\n",
       "    <tr>\n",
       "      <th>50%</th>\n",
       "      <td>3.000000</td>\n",
       "      <td>5.000000</td>\n",
       "      <td>7.500000</td>\n",
       "      <td>149.000000</td>\n",
       "      <td>150.500000</td>\n",
       "      <td>406.133333</td>\n",
       "      <td>380.777812</td>\n",
       "      <td>408.569687</td>\n",
       "      <td>447.560938</td>\n",
       "      <td>16.000000</td>\n",
       "      <td>30.500000</td>\n",
       "      <td>35.850000</td>\n",
       "      <td>10.0</td>\n",
       "      <td>3.523923</td>\n",
       "      <td>5.422572</td>\n",
       "    </tr>\n",
       "    <tr>\n",
       "      <th>75%</th>\n",
       "      <td>5.000000</td>\n",
       "      <td>9.000000</td>\n",
       "      <td>12.000000</td>\n",
       "      <td>153.000000</td>\n",
       "      <td>155.000000</td>\n",
       "      <td>481.512500</td>\n",
       "      <td>408.741429</td>\n",
       "      <td>432.083839</td>\n",
       "      <td>466.739062</td>\n",
       "      <td>16.000000</td>\n",
       "      <td>33.000000</td>\n",
       "      <td>37.407500</td>\n",
       "      <td>10.0</td>\n",
       "      <td>6.133355</td>\n",
       "      <td>7.844130</td>\n",
       "    </tr>\n",
       "    <tr>\n",
       "      <th>max</th>\n",
       "      <td>10.000000</td>\n",
       "      <td>17.000000</td>\n",
       "      <td>20.000000</td>\n",
       "      <td>157.000000</td>\n",
       "      <td>160.000000</td>\n",
       "      <td>628.371250</td>\n",
       "      <td>488.114000</td>\n",
       "      <td>493.158125</td>\n",
       "      <td>514.517143</td>\n",
       "      <td>16.000000</td>\n",
       "      <td>51.000000</td>\n",
       "      <td>39.840000</td>\n",
       "      <td>10.0</td>\n",
       "      <td>11.258278</td>\n",
       "      <td>12.903226</td>\n",
       "    </tr>\n",
       "  </tbody>\n",
       "</table>\n",
       "</div>"
      ],
      "text/plain": [
       "       delta_errors  prosaccade_errors  antisaccade_errors  \\\n",
       "count     26.000000          26.000000           26.000000   \n",
       "mean       2.076923           6.423077            8.500000   \n",
       "std        5.365990           4.196885            4.957822   \n",
       "min      -14.000000           0.000000            1.000000   \n",
       "25%        0.250000           4.000000            4.250000   \n",
       "50%        3.000000           5.000000            7.500000   \n",
       "75%        5.000000           9.000000           12.000000   \n",
       "max       10.000000          17.000000           20.000000   \n",
       "\n",
       "       prosaccade_trials_remained  antisaccade_trials_remained  \\\n",
       "count                   26.000000                    26.000000   \n",
       "mean                   147.538462                   145.923077   \n",
       "std                      7.910655                    12.373918   \n",
       "min                    127.000000                   111.000000   \n",
       "25%                    146.000000                   139.500000   \n",
       "50%                    149.000000                   150.500000   \n",
       "75%                    153.000000                   155.000000   \n",
       "max                    157.000000                   160.000000   \n",
       "\n",
       "       pro_sacc_errors_rt_median  anti_sacc_errors_rt_median  \\\n",
       "count                  25.000000                   26.000000   \n",
       "mean                  413.435480                  372.814002   \n",
       "std                   109.190024                   65.467272   \n",
       "min                   241.202500                  213.611000   \n",
       "25%                   312.573000                  338.427292   \n",
       "50%                   406.133333                  380.777812   \n",
       "75%                   481.512500                  408.741429   \n",
       "max                   628.371250                  488.114000   \n",
       "\n",
       "       pro_sacc_correct_rt_median  anti_sacc_correct_rt_median  \\\n",
       "count                   26.000000                    26.000000   \n",
       "mean                   412.923101                   449.939986   \n",
       "std                     33.184085                    30.834029   \n",
       "min                    361.481875                   397.275000   \n",
       "25%                    392.488594                   428.526563   \n",
       "50%                    408.569687                   447.560938   \n",
       "75%                    432.083839                   466.739062   \n",
       "max                    493.158125                   514.517143   \n",
       "\n",
       "       remained_blocks        age  px2degree  max_number_incorrect_by_block  \\\n",
       "count        26.000000  26.000000  26.000000                           26.0   \n",
       "mean         15.884615  31.769231  34.468462                           10.0   \n",
       "std           0.325813   6.094638   3.713438                            0.0   \n",
       "min          15.000000  22.000000  27.430000                           10.0   \n",
       "25%          16.000000  28.250000  31.250000                           10.0   \n",
       "50%          16.000000  30.500000  35.850000                           10.0   \n",
       "75%          16.000000  33.000000  37.407500                           10.0   \n",
       "max          16.000000  51.000000  39.840000                           10.0   \n",
       "\n",
       "       prosaccade_errors_perc  antisaccade_errors_perc  \n",
       "count               26.000000                26.000000  \n",
       "mean                 4.328694                 5.816650  \n",
       "std                  2.781365                 3.255031  \n",
       "min                  0.000000                 0.662252  \n",
       "25%                  2.696078                 3.145032  \n",
       "50%                  3.523923                 5.422572  \n",
       "75%                  6.133355                 7.844130  \n",
       "max                 11.258278                12.903226  "
      ]
     },
     "execution_count": 9,
     "metadata": {},
     "output_type": "execute_result"
    }
   ],
   "source": [
    "# RT VERSION CON BLOQUES\n",
    "\n",
    "# Boxplot with means\n",
    "ax = sns.boxplot(\n",
    "    data=df_blocks_filtered[\n",
    "        [\n",
    "            \"pro_sacc_errors_rt_median\",\n",
    "            \"anti_sacc_errors_rt_median\",\n",
    "            \"pro_sacc_correct_rt_median\",\n",
    "            \"anti_sacc_correct_rt_median\",\n",
    "        ]\n",
    "    ],\n",
    "    width=0.3,\n",
    ")\n",
    "\n",
    "boxes = ax.patches\n",
    "\"block\"\n",
    "for i, box in enumerate(boxes):\n",
    "    box.set_facecolor(\"w\")\n",
    "\n",
    "plt.ylabel(\"time (ms)\")\n",
    "ax.set_xticklabels(\n",
    "    [\n",
    "        \"Prosaccade\\nincorrect\\ntrials\\nRT\",\n",
    "        \"Antisaccade\\nincorrect\\ntrials\\nRT\",\n",
    "        \"Prosaccade\\ncorrect\\ntrials\\nRT\",\n",
    "        \"Antisaccade\\ncorrect\\ntrials\\nRT\",\n",
    "    ]\n",
    ")\n",
    "\n",
    "plt.setp(ax.artists, edgecolor=\"k\", facecolor=\"w\")\n",
    "plt.setp(ax.lines, color=\"k\")\n",
    "\n",
    "plt.show()\n",
    "\n",
    "print(\n",
    "    f\"\"\"RT condition [pro - anti] x result [correct - incorrect]\n",
    "ranksums pro_sacc_errors_rt_median vs. anti_sacc_errors_rt_median:  {Decimal(ranksums(df_blocks_filtered['pro_sacc_errors_rt_median'],df_blocks_filtered['anti_sacc_errors_rt_median'], nan_policy='omit')[1]):.5f}\n",
    "ranksums pro_sacc_correct_rt_median vs. anti_sacc_correct_rt_median: {Decimal(ranksums(df_blocks_filtered['pro_sacc_correct_rt_median'],df_blocks_filtered['anti_sacc_correct_rt_median'], nan_policy='omit')[1]):.5f}\n",
    "\"\"\"\n",
    ")\n",
    "\n",
    "df_blocks_filtered.describe()"
   ]
  },
  {
   "cell_type": "markdown",
   "metadata": {},
   "source": [
    "### PLOT EYE DATA"
   ]
  },
  {
   "cell_type": "code",
   "execution_count": null,
   "metadata": {},
   "outputs": [],
   "source": [
    "ALL_FILES_RAW = list(Path(\"./raw_data\").glob(\"*.csv\"))\n",
    "\n",
    "# Plot all subjects\n",
    "for file in enumerate(ALL_FILES_RAW):\n",
    "    print(\"---\")\n",
    "    suj = str(file).split(\"/\")[-1].split(\".\")[0].split(\"_\")[-1]\n",
    "    print(suj)\n",
    "    one_subject(df_blocks_filtered, suj, \"prosaccade\")\n",
    "    one_subject(df_blocks_filtered, suj, \"antisaccade\")"
   ]
  },
  {
   "cell_type": "markdown",
   "metadata": {},
   "source": [
    "### Saccade detection\n"
   ]
  },
  {
   "cell_type": "markdown",
   "metadata": {},
   "source": [
    "### Preparing test dataset"
   ]
  },
  {
   "cell_type": "markdown",
   "metadata": {},
   "source": [
    "`infile`: Data file with eye gaze recordings to process. <br>\n",
    "The first two columns in this file must contain x and y coordinates, while each line is a timepoint (no header). <br>\n",
    "The file is read with NumPy's recfromcsv and may be compressed. The columns are expected to be seperated by tabulators (\\t)."
   ]
  },
  {
   "cell_type": "code",
   "execution_count": 16,
   "metadata": {},
   "outputs": [
    {
     "data": {
      "text/plain": [
       "149"
      ]
     },
     "execution_count": 16,
     "metadata": {},
     "output_type": "execute_result"
    }
   ],
   "source": []
  },
  {
   "cell_type": "markdown",
   "metadata": {},
   "source": [
    "### Analisis trial por trial"
   ]
  },
  {
   "cell_type": "code",
   "execution_count": 36,
   "metadata": {},
   "outputs": [
    {
     "name": "stdout",
     "output_type": "stream",
     "text": [
      "Suj: 100, trial: 0\n",
      "\n",
      "Running saccades and fixations detection\n"
     ]
    },
    {
     "name": "stderr",
     "output_type": "stream",
     "text": [
      "WARNING: At the provided sampling rate of 30.0, the timeframe for the parameter 'min-saccade-duration' would be lower than a single sample (0.3 samples). Consider increasing the parameter value to prevent errors.\n",
      "WARNING: At the provided sampling rate of 30.0, the timeframe for the parameter 'max-pso-duration' would be lower than a single sample (0.0 samples). Consider increasing the parameter value to prevent errors.\n"
     ]
    },
    {
     "name": "stdout",
     "output_type": "stream",
     "text": [
      "Suj: 100, trial: 1\n",
      "\n",
      "Running saccades and fixations detection\n"
     ]
    },
    {
     "name": "stderr",
     "output_type": "stream",
     "text": [
      "WARNING: At the provided sampling rate of 30.0, the timeframe for the parameter 'min-saccade-duration' would be lower than a single sample (0.3 samples). Consider increasing the parameter value to prevent errors.\n",
      "WARNING: At the provided sampling rate of 30.0, the timeframe for the parameter 'max-pso-duration' would be lower than a single sample (0.0 samples). Consider increasing the parameter value to prevent errors.\n"
     ]
    },
    {
     "name": "stdout",
     "output_type": "stream",
     "text": [
      "Suj: 100, trial: 2\n",
      "\n",
      "Running saccades and fixations detection\n"
     ]
    },
    {
     "name": "stderr",
     "output_type": "stream",
     "text": [
      "WARNING: At the provided sampling rate of 30.0, the timeframe for the parameter 'min-saccade-duration' would be lower than a single sample (0.3 samples). Consider increasing the parameter value to prevent errors.\n",
      "WARNING: At the provided sampling rate of 30.0, the timeframe for the parameter 'max-pso-duration' would be lower than a single sample (0.0 samples). Consider increasing the parameter value to prevent errors.\n"
     ]
    },
    {
     "name": "stdout",
     "output_type": "stream",
     "text": [
      "Suj: 100, trial: 3\n",
      "\n",
      "Running saccades and fixations detection\n"
     ]
    },
    {
     "name": "stderr",
     "output_type": "stream",
     "text": [
      "WARNING: At the provided sampling rate of 30.0, the timeframe for the parameter 'min-saccade-duration' would be lower than a single sample (0.3 samples). Consider increasing the parameter value to prevent errors.\n",
      "WARNING: At the provided sampling rate of 30.0, the timeframe for the parameter 'max-pso-duration' would be lower than a single sample (0.0 samples). Consider increasing the parameter value to prevent errors.\n"
     ]
    },
    {
     "name": "stdout",
     "output_type": "stream",
     "text": [
      "Suj: 100, trial: 4\n",
      "\n",
      "Running saccades and fixations detection\n"
     ]
    },
    {
     "name": "stderr",
     "output_type": "stream",
     "text": [
      "WARNING: At the provided sampling rate of 30.0, the timeframe for the parameter 'min-saccade-duration' would be lower than a single sample (0.3 samples). Consider increasing the parameter value to prevent errors.\n",
      "WARNING: At the provided sampling rate of 30.0, the timeframe for the parameter 'max-pso-duration' would be lower than a single sample (0.0 samples). Consider increasing the parameter value to prevent errors.\n"
     ]
    },
    {
     "name": "stdout",
     "output_type": "stream",
     "text": [
      "Suj: 100, trial: 5\n",
      "\n",
      "Running saccades and fixations detection\n"
     ]
    },
    {
     "name": "stderr",
     "output_type": "stream",
     "text": [
      "WARNING: At the provided sampling rate of 30.0, the timeframe for the parameter 'min-saccade-duration' would be lower than a single sample (0.3 samples). Consider increasing the parameter value to prevent errors.\n",
      "WARNING: At the provided sampling rate of 30.0, the timeframe for the parameter 'max-pso-duration' would be lower than a single sample (0.0 samples). Consider increasing the parameter value to prevent errors.\n"
     ]
    },
    {
     "name": "stdout",
     "output_type": "stream",
     "text": [
      "Suj: 100, trial: 6\n",
      "\n",
      "Running saccades and fixations detection\n"
     ]
    },
    {
     "name": "stderr",
     "output_type": "stream",
     "text": [
      "WARNING: At the provided sampling rate of 30.0, the timeframe for the parameter 'min-saccade-duration' would be lower than a single sample (0.3 samples). Consider increasing the parameter value to prevent errors.\n",
      "WARNING: At the provided sampling rate of 30.0, the timeframe for the parameter 'max-pso-duration' would be lower than a single sample (0.0 samples). Consider increasing the parameter value to prevent errors.\n"
     ]
    },
    {
     "name": "stdout",
     "output_type": "stream",
     "text": [
      "Suj: 100, trial: 7\n",
      "\n",
      "Running saccades and fixations detection\n"
     ]
    },
    {
     "name": "stderr",
     "output_type": "stream",
     "text": [
      "WARNING: At the provided sampling rate of 30.0, the timeframe for the parameter 'min-saccade-duration' would be lower than a single sample (0.3 samples). Consider increasing the parameter value to prevent errors.\n",
      "WARNING: At the provided sampling rate of 30.0, the timeframe for the parameter 'max-pso-duration' would be lower than a single sample (0.0 samples). Consider increasing the parameter value to prevent errors.\n"
     ]
    },
    {
     "name": "stdout",
     "output_type": "stream",
     "text": [
      "Suj: 100, trial: 8\n",
      "\n",
      "Running saccades and fixations detection\n"
     ]
    },
    {
     "name": "stderr",
     "output_type": "stream",
     "text": [
      "WARNING: At the provided sampling rate of 30.0, the timeframe for the parameter 'min-saccade-duration' would be lower than a single sample (0.3 samples). Consider increasing the parameter value to prevent errors.\n",
      "WARNING: At the provided sampling rate of 30.0, the timeframe for the parameter 'max-pso-duration' would be lower than a single sample (0.0 samples). Consider increasing the parameter value to prevent errors.\n"
     ]
    },
    {
     "name": "stdout",
     "output_type": "stream",
     "text": [
      "Suj: 100, trial: 9\n",
      "\n",
      "Running saccades and fixations detection\n"
     ]
    },
    {
     "name": "stderr",
     "output_type": "stream",
     "text": [
      "WARNING: At the provided sampling rate of 30.0, the timeframe for the parameter 'min-saccade-duration' would be lower than a single sample (0.3 samples). Consider increasing the parameter value to prevent errors.\n",
      "WARNING: At the provided sampling rate of 30.0, the timeframe for the parameter 'max-pso-duration' would be lower than a single sample (0.0 samples). Consider increasing the parameter value to prevent errors.\n"
     ]
    },
    {
     "name": "stdout",
     "output_type": "stream",
     "text": [
      "Suj: 100, trial: 10\n",
      "\n",
      "Running saccades and fixations detection\n"
     ]
    },
    {
     "name": "stderr",
     "output_type": "stream",
     "text": [
      "WARNING: At the provided sampling rate of 30.0, the timeframe for the parameter 'min-saccade-duration' would be lower than a single sample (0.3 samples). Consider increasing the parameter value to prevent errors.\n",
      "WARNING: At the provided sampling rate of 30.0, the timeframe for the parameter 'max-pso-duration' would be lower than a single sample (0.0 samples). Consider increasing the parameter value to prevent errors.\n"
     ]
    },
    {
     "name": "stdout",
     "output_type": "stream",
     "text": [
      "Suj: 100, trial: 11\n",
      "\n",
      "Running saccades and fixations detection\n"
     ]
    },
    {
     "name": "stderr",
     "output_type": "stream",
     "text": [
      "WARNING: At the provided sampling rate of 30.0, the timeframe for the parameter 'min-saccade-duration' would be lower than a single sample (0.3 samples). Consider increasing the parameter value to prevent errors.\n",
      "WARNING: At the provided sampling rate of 30.0, the timeframe for the parameter 'max-pso-duration' would be lower than a single sample (0.0 samples). Consider increasing the parameter value to prevent errors.\n"
     ]
    },
    {
     "name": "stdout",
     "output_type": "stream",
     "text": [
      "Suj: 100, trial: 12\n",
      "\n",
      "Running saccades and fixations detection\n"
     ]
    },
    {
     "name": "stderr",
     "output_type": "stream",
     "text": [
      "WARNING: At the provided sampling rate of 30.0, the timeframe for the parameter 'min-saccade-duration' would be lower than a single sample (0.3 samples). Consider increasing the parameter value to prevent errors.\n",
      "WARNING: At the provided sampling rate of 30.0, the timeframe for the parameter 'max-pso-duration' would be lower than a single sample (0.0 samples). Consider increasing the parameter value to prevent errors.\n"
     ]
    },
    {
     "name": "stdout",
     "output_type": "stream",
     "text": [
      "Suj: 100, trial: 13\n",
      "\n",
      "Running saccades and fixations detection\n"
     ]
    },
    {
     "name": "stderr",
     "output_type": "stream",
     "text": [
      "WARNING: At the provided sampling rate of 30.0, the timeframe for the parameter 'min-saccade-duration' would be lower than a single sample (0.3 samples). Consider increasing the parameter value to prevent errors.\n",
      "WARNING: At the provided sampling rate of 30.0, the timeframe for the parameter 'max-pso-duration' would be lower than a single sample (0.0 samples). Consider increasing the parameter value to prevent errors.\n"
     ]
    },
    {
     "name": "stdout",
     "output_type": "stream",
     "text": [
      "Suj: 100, trial: 14\n",
      "\n",
      "Running saccades and fixations detection\n"
     ]
    },
    {
     "name": "stderr",
     "output_type": "stream",
     "text": [
      "WARNING: At the provided sampling rate of 30.0, the timeframe for the parameter 'min-saccade-duration' would be lower than a single sample (0.3 samples). Consider increasing the parameter value to prevent errors.\n",
      "WARNING: At the provided sampling rate of 30.0, the timeframe for the parameter 'max-pso-duration' would be lower than a single sample (0.0 samples). Consider increasing the parameter value to prevent errors.\n"
     ]
    },
    {
     "name": "stdout",
     "output_type": "stream",
     "text": [
      "Suj: 100, trial: 15\n",
      "\n",
      "Running saccades and fixations detection\n"
     ]
    },
    {
     "name": "stderr",
     "output_type": "stream",
     "text": [
      "WARNING: At the provided sampling rate of 30.0, the timeframe for the parameter 'min-saccade-duration' would be lower than a single sample (0.3 samples). Consider increasing the parameter value to prevent errors.\n",
      "WARNING: At the provided sampling rate of 30.0, the timeframe for the parameter 'max-pso-duration' would be lower than a single sample (0.0 samples). Consider increasing the parameter value to prevent errors.\n"
     ]
    },
    {
     "name": "stdout",
     "output_type": "stream",
     "text": [
      "Suj: 100, trial: 16\n",
      "\n",
      "Running saccades and fixations detection\n"
     ]
    },
    {
     "name": "stderr",
     "output_type": "stream",
     "text": [
      "WARNING: At the provided sampling rate of 30.0, the timeframe for the parameter 'min-saccade-duration' would be lower than a single sample (0.3 samples). Consider increasing the parameter value to prevent errors.\n",
      "WARNING: At the provided sampling rate of 30.0, the timeframe for the parameter 'max-pso-duration' would be lower than a single sample (0.0 samples). Consider increasing the parameter value to prevent errors.\n"
     ]
    },
    {
     "name": "stdout",
     "output_type": "stream",
     "text": [
      "Suj: 100, trial: 17\n",
      "\n",
      "Running saccades and fixations detection\n"
     ]
    },
    {
     "name": "stderr",
     "output_type": "stream",
     "text": [
      "WARNING: At the provided sampling rate of 30.0, the timeframe for the parameter 'min-saccade-duration' would be lower than a single sample (0.3 samples). Consider increasing the parameter value to prevent errors.\n",
      "WARNING: At the provided sampling rate of 30.0, the timeframe for the parameter 'max-pso-duration' would be lower than a single sample (0.0 samples). Consider increasing the parameter value to prevent errors.\n"
     ]
    },
    {
     "name": "stdout",
     "output_type": "stream",
     "text": [
      "Suj: 100, trial: 18\n",
      "\n",
      "Running saccades and fixations detection\n"
     ]
    },
    {
     "name": "stderr",
     "output_type": "stream",
     "text": [
      "WARNING: At the provided sampling rate of 30.0, the timeframe for the parameter 'min-saccade-duration' would be lower than a single sample (0.3 samples). Consider increasing the parameter value to prevent errors.\n",
      "WARNING: At the provided sampling rate of 30.0, the timeframe for the parameter 'max-pso-duration' would be lower than a single sample (0.0 samples). Consider increasing the parameter value to prevent errors.\n"
     ]
    },
    {
     "name": "stdout",
     "output_type": "stream",
     "text": [
      "Suj: 100, trial: 19\n",
      "\n",
      "Running saccades and fixations detection\n"
     ]
    },
    {
     "name": "stderr",
     "output_type": "stream",
     "text": [
      "WARNING: At the provided sampling rate of 30.0, the timeframe for the parameter 'min-saccade-duration' would be lower than a single sample (0.3 samples). Consider increasing the parameter value to prevent errors.\n",
      "WARNING: At the provided sampling rate of 30.0, the timeframe for the parameter 'max-pso-duration' would be lower than a single sample (0.0 samples). Consider increasing the parameter value to prevent errors.\n"
     ]
    },
    {
     "name": "stdout",
     "output_type": "stream",
     "text": [
      "Suj: 100, trial: 20\n",
      "\n",
      "Running saccades and fixations detection\n"
     ]
    },
    {
     "name": "stderr",
     "output_type": "stream",
     "text": [
      "WARNING: At the provided sampling rate of 30.0, the timeframe for the parameter 'min-saccade-duration' would be lower than a single sample (0.3 samples). Consider increasing the parameter value to prevent errors.\n",
      "WARNING: At the provided sampling rate of 30.0, the timeframe for the parameter 'max-pso-duration' would be lower than a single sample (0.0 samples). Consider increasing the parameter value to prevent errors.\n"
     ]
    },
    {
     "name": "stdout",
     "output_type": "stream",
     "text": [
      "Suj: 100, trial: 21\n",
      "\n",
      "Running saccades and fixations detection\n"
     ]
    },
    {
     "name": "stderr",
     "output_type": "stream",
     "text": [
      "WARNING: At the provided sampling rate of 30.0, the timeframe for the parameter 'min-saccade-duration' would be lower than a single sample (0.3 samples). Consider increasing the parameter value to prevent errors.\n",
      "WARNING: At the provided sampling rate of 30.0, the timeframe for the parameter 'max-pso-duration' would be lower than a single sample (0.0 samples). Consider increasing the parameter value to prevent errors.\n"
     ]
    },
    {
     "name": "stdout",
     "output_type": "stream",
     "text": [
      "Suj: 100, trial: 22\n",
      "\n",
      "Running saccades and fixations detection\n"
     ]
    },
    {
     "name": "stderr",
     "output_type": "stream",
     "text": [
      "WARNING: At the provided sampling rate of 30.0, the timeframe for the parameter 'min-saccade-duration' would be lower than a single sample (0.3 samples). Consider increasing the parameter value to prevent errors.\n",
      "WARNING: At the provided sampling rate of 30.0, the timeframe for the parameter 'max-pso-duration' would be lower than a single sample (0.0 samples). Consider increasing the parameter value to prevent errors.\n"
     ]
    },
    {
     "name": "stdout",
     "output_type": "stream",
     "text": [
      "Suj: 100, trial: 23\n",
      "\n",
      "Running saccades and fixations detection\n"
     ]
    },
    {
     "name": "stderr",
     "output_type": "stream",
     "text": [
      "WARNING: At the provided sampling rate of 30.0, the timeframe for the parameter 'min-saccade-duration' would be lower than a single sample (0.3 samples). Consider increasing the parameter value to prevent errors.\n",
      "WARNING: At the provided sampling rate of 30.0, the timeframe for the parameter 'max-pso-duration' would be lower than a single sample (0.0 samples). Consider increasing the parameter value to prevent errors.\n"
     ]
    },
    {
     "name": "stdout",
     "output_type": "stream",
     "text": [
      "Suj: 100, trial: 24\n",
      "\n",
      "Running saccades and fixations detection\n"
     ]
    },
    {
     "name": "stderr",
     "output_type": "stream",
     "text": [
      "WARNING: At the provided sampling rate of 30.0, the timeframe for the parameter 'min-saccade-duration' would be lower than a single sample (0.3 samples). Consider increasing the parameter value to prevent errors.\n",
      "WARNING: At the provided sampling rate of 30.0, the timeframe for the parameter 'max-pso-duration' would be lower than a single sample (0.0 samples). Consider increasing the parameter value to prevent errors.\n"
     ]
    },
    {
     "name": "stdout",
     "output_type": "stream",
     "text": [
      "Suj: 100, trial: 25\n",
      "\n",
      "Running saccades and fixations detection\n"
     ]
    },
    {
     "name": "stderr",
     "output_type": "stream",
     "text": [
      "WARNING: At the provided sampling rate of 30.0, the timeframe for the parameter 'min-saccade-duration' would be lower than a single sample (0.3 samples). Consider increasing the parameter value to prevent errors.\n",
      "WARNING: At the provided sampling rate of 30.0, the timeframe for the parameter 'max-pso-duration' would be lower than a single sample (0.0 samples). Consider increasing the parameter value to prevent errors.\n"
     ]
    },
    {
     "name": "stdout",
     "output_type": "stream",
     "text": [
      "Suj: 100, trial: 26\n",
      "\n",
      "Running saccades and fixations detection\n"
     ]
    },
    {
     "name": "stderr",
     "output_type": "stream",
     "text": [
      "WARNING: At the provided sampling rate of 30.0, the timeframe for the parameter 'min-saccade-duration' would be lower than a single sample (0.3 samples). Consider increasing the parameter value to prevent errors.\n",
      "WARNING: At the provided sampling rate of 30.0, the timeframe for the parameter 'max-pso-duration' would be lower than a single sample (0.0 samples). Consider increasing the parameter value to prevent errors.\n"
     ]
    },
    {
     "name": "stdout",
     "output_type": "stream",
     "text": [
      "Suj: 100, trial: 27\n",
      "\n",
      "Running saccades and fixations detection\n"
     ]
    },
    {
     "name": "stderr",
     "output_type": "stream",
     "text": [
      "WARNING: At the provided sampling rate of 30.0, the timeframe for the parameter 'min-saccade-duration' would be lower than a single sample (0.3 samples). Consider increasing the parameter value to prevent errors.\n",
      "WARNING: At the provided sampling rate of 30.0, the timeframe for the parameter 'max-pso-duration' would be lower than a single sample (0.0 samples). Consider increasing the parameter value to prevent errors.\n"
     ]
    },
    {
     "name": "stdout",
     "output_type": "stream",
     "text": [
      "Suj: 100, trial: 28\n",
      "\n",
      "Running saccades and fixations detection\n"
     ]
    },
    {
     "name": "stderr",
     "output_type": "stream",
     "text": [
      "WARNING: At the provided sampling rate of 30.0, the timeframe for the parameter 'min-saccade-duration' would be lower than a single sample (0.3 samples). Consider increasing the parameter value to prevent errors.\n",
      "WARNING: At the provided sampling rate of 30.0, the timeframe for the parameter 'max-pso-duration' would be lower than a single sample (0.0 samples). Consider increasing the parameter value to prevent errors.\n"
     ]
    },
    {
     "name": "stdout",
     "output_type": "stream",
     "text": [
      "Suj: 100, trial: 29\n",
      "\n",
      "Running saccades and fixations detection\n"
     ]
    },
    {
     "name": "stderr",
     "output_type": "stream",
     "text": [
      "WARNING: At the provided sampling rate of 30.0, the timeframe for the parameter 'min-saccade-duration' would be lower than a single sample (0.3 samples). Consider increasing the parameter value to prevent errors.\n",
      "WARNING: At the provided sampling rate of 30.0, the timeframe for the parameter 'max-pso-duration' would be lower than a single sample (0.0 samples). Consider increasing the parameter value to prevent errors.\n"
     ]
    },
    {
     "name": "stdout",
     "output_type": "stream",
     "text": [
      "Suj: 100, trial: 30\n",
      "\n",
      "Running saccades and fixations detection\n"
     ]
    },
    {
     "name": "stderr",
     "output_type": "stream",
     "text": [
      "WARNING: At the provided sampling rate of 30.0, the timeframe for the parameter 'min-saccade-duration' would be lower than a single sample (0.3 samples). Consider increasing the parameter value to prevent errors.\n",
      "WARNING: At the provided sampling rate of 30.0, the timeframe for the parameter 'max-pso-duration' would be lower than a single sample (0.0 samples). Consider increasing the parameter value to prevent errors.\n"
     ]
    },
    {
     "name": "stdout",
     "output_type": "stream",
     "text": [
      "Suj: 100, trial: 31\n",
      "\n",
      "Running saccades and fixations detection\n"
     ]
    },
    {
     "name": "stderr",
     "output_type": "stream",
     "text": [
      "WARNING: At the provided sampling rate of 30.0, the timeframe for the parameter 'min-saccade-duration' would be lower than a single sample (0.3 samples). Consider increasing the parameter value to prevent errors.\n",
      "WARNING: At the provided sampling rate of 30.0, the timeframe for the parameter 'max-pso-duration' would be lower than a single sample (0.0 samples). Consider increasing the parameter value to prevent errors.\n"
     ]
    },
    {
     "name": "stdout",
     "output_type": "stream",
     "text": [
      "Suj: 100, trial: 32\n",
      "\n",
      "Running saccades and fixations detection\n"
     ]
    },
    {
     "name": "stderr",
     "output_type": "stream",
     "text": [
      "WARNING: At the provided sampling rate of 30.0, the timeframe for the parameter 'min-saccade-duration' would be lower than a single sample (0.3 samples). Consider increasing the parameter value to prevent errors.\n",
      "WARNING: At the provided sampling rate of 30.0, the timeframe for the parameter 'max-pso-duration' would be lower than a single sample (0.0 samples). Consider increasing the parameter value to prevent errors.\n"
     ]
    },
    {
     "name": "stdout",
     "output_type": "stream",
     "text": [
      "Suj: 100, trial: 33\n",
      "\n",
      "Running saccades and fixations detection\n"
     ]
    },
    {
     "name": "stderr",
     "output_type": "stream",
     "text": [
      "WARNING: At the provided sampling rate of 30.0, the timeframe for the parameter 'min-saccade-duration' would be lower than a single sample (0.3 samples). Consider increasing the parameter value to prevent errors.\n",
      "WARNING: At the provided sampling rate of 30.0, the timeframe for the parameter 'max-pso-duration' would be lower than a single sample (0.0 samples). Consider increasing the parameter value to prevent errors.\n"
     ]
    },
    {
     "name": "stdout",
     "output_type": "stream",
     "text": [
      "Suj: 100, trial: 34\n",
      "\n",
      "Running saccades and fixations detection\n"
     ]
    },
    {
     "name": "stderr",
     "output_type": "stream",
     "text": [
      "WARNING: At the provided sampling rate of 30.0, the timeframe for the parameter 'min-saccade-duration' would be lower than a single sample (0.3 samples). Consider increasing the parameter value to prevent errors.\n",
      "WARNING: At the provided sampling rate of 30.0, the timeframe for the parameter 'max-pso-duration' would be lower than a single sample (0.0 samples). Consider increasing the parameter value to prevent errors.\n"
     ]
    },
    {
     "name": "stdout",
     "output_type": "stream",
     "text": [
      "Suj: 100, trial: 35\n",
      "\n",
      "Running saccades and fixations detection\n"
     ]
    },
    {
     "name": "stderr",
     "output_type": "stream",
     "text": [
      "WARNING: At the provided sampling rate of 30.0, the timeframe for the parameter 'min-saccade-duration' would be lower than a single sample (0.3 samples). Consider increasing the parameter value to prevent errors.\n",
      "WARNING: At the provided sampling rate of 30.0, the timeframe for the parameter 'max-pso-duration' would be lower than a single sample (0.0 samples). Consider increasing the parameter value to prevent errors.\n"
     ]
    },
    {
     "name": "stdout",
     "output_type": "stream",
     "text": [
      "Suj: 100, trial: 36\n",
      "\n",
      "Running saccades and fixations detection\n"
     ]
    },
    {
     "name": "stderr",
     "output_type": "stream",
     "text": [
      "WARNING: At the provided sampling rate of 30.0, the timeframe for the parameter 'min-saccade-duration' would be lower than a single sample (0.3 samples). Consider increasing the parameter value to prevent errors.\n",
      "WARNING: At the provided sampling rate of 30.0, the timeframe for the parameter 'max-pso-duration' would be lower than a single sample (0.0 samples). Consider increasing the parameter value to prevent errors.\n"
     ]
    },
    {
     "name": "stdout",
     "output_type": "stream",
     "text": [
      "Suj: 100, trial: 37\n",
      "\n",
      "Running saccades and fixations detection\n"
     ]
    },
    {
     "name": "stderr",
     "output_type": "stream",
     "text": [
      "WARNING: At the provided sampling rate of 30.0, the timeframe for the parameter 'min-saccade-duration' would be lower than a single sample (0.3 samples). Consider increasing the parameter value to prevent errors.\n",
      "WARNING: At the provided sampling rate of 30.0, the timeframe for the parameter 'max-pso-duration' would be lower than a single sample (0.0 samples). Consider increasing the parameter value to prevent errors.\n"
     ]
    },
    {
     "name": "stdout",
     "output_type": "stream",
     "text": [
      "Suj: 100, trial: 38\n",
      "\n",
      "Running saccades and fixations detection\n"
     ]
    },
    {
     "name": "stderr",
     "output_type": "stream",
     "text": [
      "WARNING: At the provided sampling rate of 30.0, the timeframe for the parameter 'min-saccade-duration' would be lower than a single sample (0.3 samples). Consider increasing the parameter value to prevent errors.\n",
      "WARNING: At the provided sampling rate of 30.0, the timeframe for the parameter 'max-pso-duration' would be lower than a single sample (0.0 samples). Consider increasing the parameter value to prevent errors.\n"
     ]
    },
    {
     "name": "stdout",
     "output_type": "stream",
     "text": [
      "Suj: 100, trial: 39\n",
      "\n",
      "Running saccades and fixations detection\n"
     ]
    },
    {
     "name": "stderr",
     "output_type": "stream",
     "text": [
      "WARNING: At the provided sampling rate of 30.0, the timeframe for the parameter 'min-saccade-duration' would be lower than a single sample (0.3 samples). Consider increasing the parameter value to prevent errors.\n",
      "WARNING: At the provided sampling rate of 30.0, the timeframe for the parameter 'max-pso-duration' would be lower than a single sample (0.0 samples). Consider increasing the parameter value to prevent errors.\n"
     ]
    },
    {
     "name": "stdout",
     "output_type": "stream",
     "text": [
      "Suj: 100, trial: 40\n",
      "\n",
      "Running saccades and fixations detection\n"
     ]
    },
    {
     "name": "stderr",
     "output_type": "stream",
     "text": [
      "WARNING: At the provided sampling rate of 30.0, the timeframe for the parameter 'min-saccade-duration' would be lower than a single sample (0.3 samples). Consider increasing the parameter value to prevent errors.\n",
      "WARNING: At the provided sampling rate of 30.0, the timeframe for the parameter 'max-pso-duration' would be lower than a single sample (0.0 samples). Consider increasing the parameter value to prevent errors.\n"
     ]
    },
    {
     "name": "stdout",
     "output_type": "stream",
     "text": [
      "Suj: 100, trial: 41\n",
      "\n",
      "Running saccades and fixations detection\n"
     ]
    },
    {
     "name": "stderr",
     "output_type": "stream",
     "text": [
      "WARNING: At the provided sampling rate of 30.0, the timeframe for the parameter 'min-saccade-duration' would be lower than a single sample (0.3 samples). Consider increasing the parameter value to prevent errors.\n",
      "WARNING: At the provided sampling rate of 30.0, the timeframe for the parameter 'max-pso-duration' would be lower than a single sample (0.0 samples). Consider increasing the parameter value to prevent errors.\n"
     ]
    },
    {
     "name": "stdout",
     "output_type": "stream",
     "text": [
      "Suj: 100, trial: 42\n",
      "\n",
      "Running saccades and fixations detection\n"
     ]
    },
    {
     "name": "stderr",
     "output_type": "stream",
     "text": [
      "WARNING: At the provided sampling rate of 30.0, the timeframe for the parameter 'min-saccade-duration' would be lower than a single sample (0.3 samples). Consider increasing the parameter value to prevent errors.\n",
      "WARNING: At the provided sampling rate of 30.0, the timeframe for the parameter 'max-pso-duration' would be lower than a single sample (0.0 samples). Consider increasing the parameter value to prevent errors.\n"
     ]
    },
    {
     "name": "stdout",
     "output_type": "stream",
     "text": [
      "Suj: 100, trial: 43\n",
      "\n",
      "Running saccades and fixations detection\n"
     ]
    },
    {
     "name": "stderr",
     "output_type": "stream",
     "text": [
      "WARNING: At the provided sampling rate of 30.0, the timeframe for the parameter 'min-saccade-duration' would be lower than a single sample (0.3 samples). Consider increasing the parameter value to prevent errors.\n",
      "WARNING: At the provided sampling rate of 30.0, the timeframe for the parameter 'max-pso-duration' would be lower than a single sample (0.0 samples). Consider increasing the parameter value to prevent errors.\n"
     ]
    },
    {
     "name": "stdout",
     "output_type": "stream",
     "text": [
      "Suj: 100, trial: 44\n",
      "\n",
      "Running saccades and fixations detection\n"
     ]
    },
    {
     "name": "stderr",
     "output_type": "stream",
     "text": [
      "WARNING: At the provided sampling rate of 30.0, the timeframe for the parameter 'min-saccade-duration' would be lower than a single sample (0.3 samples). Consider increasing the parameter value to prevent errors.\n",
      "WARNING: At the provided sampling rate of 30.0, the timeframe for the parameter 'max-pso-duration' would be lower than a single sample (0.0 samples). Consider increasing the parameter value to prevent errors.\n"
     ]
    },
    {
     "name": "stdout",
     "output_type": "stream",
     "text": [
      "Suj: 100, trial: 45\n",
      "\n",
      "Running saccades and fixations detection\n"
     ]
    },
    {
     "name": "stderr",
     "output_type": "stream",
     "text": [
      "WARNING: At the provided sampling rate of 30.0, the timeframe for the parameter 'min-saccade-duration' would be lower than a single sample (0.3 samples). Consider increasing the parameter value to prevent errors.\n",
      "WARNING: At the provided sampling rate of 30.0, the timeframe for the parameter 'max-pso-duration' would be lower than a single sample (0.0 samples). Consider increasing the parameter value to prevent errors.\n"
     ]
    },
    {
     "name": "stdout",
     "output_type": "stream",
     "text": [
      "Suj: 100, trial: 46\n",
      "\n",
      "Running saccades and fixations detection\n"
     ]
    },
    {
     "name": "stderr",
     "output_type": "stream",
     "text": [
      "WARNING: At the provided sampling rate of 30.0, the timeframe for the parameter 'min-saccade-duration' would be lower than a single sample (0.3 samples). Consider increasing the parameter value to prevent errors.\n",
      "WARNING: At the provided sampling rate of 30.0, the timeframe for the parameter 'max-pso-duration' would be lower than a single sample (0.0 samples). Consider increasing the parameter value to prevent errors.\n"
     ]
    },
    {
     "name": "stdout",
     "output_type": "stream",
     "text": [
      "Suj: 100, trial: 47\n",
      "\n",
      "Running saccades and fixations detection\n"
     ]
    },
    {
     "name": "stderr",
     "output_type": "stream",
     "text": [
      "WARNING: At the provided sampling rate of 30.0, the timeframe for the parameter 'min-saccade-duration' would be lower than a single sample (0.3 samples). Consider increasing the parameter value to prevent errors.\n",
      "WARNING: At the provided sampling rate of 30.0, the timeframe for the parameter 'max-pso-duration' would be lower than a single sample (0.0 samples). Consider increasing the parameter value to prevent errors.\n"
     ]
    },
    {
     "name": "stdout",
     "output_type": "stream",
     "text": [
      "Suj: 100, trial: 48\n",
      "\n",
      "Running saccades and fixations detection\n"
     ]
    },
    {
     "name": "stderr",
     "output_type": "stream",
     "text": [
      "WARNING: At the provided sampling rate of 30.0, the timeframe for the parameter 'min-saccade-duration' would be lower than a single sample (0.3 samples). Consider increasing the parameter value to prevent errors.\n",
      "WARNING: At the provided sampling rate of 30.0, the timeframe for the parameter 'max-pso-duration' would be lower than a single sample (0.0 samples). Consider increasing the parameter value to prevent errors.\n"
     ]
    },
    {
     "name": "stdout",
     "output_type": "stream",
     "text": [
      "Suj: 100, trial: 49\n",
      "\n",
      "Running saccades and fixations detection\n"
     ]
    },
    {
     "name": "stderr",
     "output_type": "stream",
     "text": [
      "WARNING: At the provided sampling rate of 30.0, the timeframe for the parameter 'min-saccade-duration' would be lower than a single sample (0.3 samples). Consider increasing the parameter value to prevent errors.\n",
      "WARNING: At the provided sampling rate of 30.0, the timeframe for the parameter 'max-pso-duration' would be lower than a single sample (0.0 samples). Consider increasing the parameter value to prevent errors.\n"
     ]
    },
    {
     "name": "stdout",
     "output_type": "stream",
     "text": [
      "Suj: 100, trial: 50\n",
      "\n",
      "Running saccades and fixations detection\n"
     ]
    },
    {
     "name": "stderr",
     "output_type": "stream",
     "text": [
      "WARNING: At the provided sampling rate of 30.0, the timeframe for the parameter 'min-saccade-duration' would be lower than a single sample (0.3 samples). Consider increasing the parameter value to prevent errors.\n",
      "WARNING: At the provided sampling rate of 30.0, the timeframe for the parameter 'max-pso-duration' would be lower than a single sample (0.0 samples). Consider increasing the parameter value to prevent errors.\n"
     ]
    },
    {
     "name": "stdout",
     "output_type": "stream",
     "text": [
      "Suj: 100, trial: 51\n",
      "\n",
      "Running saccades and fixations detection\n"
     ]
    },
    {
     "name": "stderr",
     "output_type": "stream",
     "text": [
      "WARNING: At the provided sampling rate of 30.0, the timeframe for the parameter 'min-saccade-duration' would be lower than a single sample (0.3 samples). Consider increasing the parameter value to prevent errors.\n",
      "WARNING: At the provided sampling rate of 30.0, the timeframe for the parameter 'max-pso-duration' would be lower than a single sample (0.0 samples). Consider increasing the parameter value to prevent errors.\n"
     ]
    },
    {
     "name": "stdout",
     "output_type": "stream",
     "text": [
      "Suj: 100, trial: 52\n",
      "\n",
      "Running saccades and fixations detection\n"
     ]
    },
    {
     "name": "stderr",
     "output_type": "stream",
     "text": [
      "WARNING: At the provided sampling rate of 30.0, the timeframe for the parameter 'min-saccade-duration' would be lower than a single sample (0.3 samples). Consider increasing the parameter value to prevent errors.\n",
      "WARNING: At the provided sampling rate of 30.0, the timeframe for the parameter 'max-pso-duration' would be lower than a single sample (0.0 samples). Consider increasing the parameter value to prevent errors.\n"
     ]
    },
    {
     "name": "stdout",
     "output_type": "stream",
     "text": [
      "Suj: 100, trial: 53\n",
      "\n",
      "Running saccades and fixations detection\n"
     ]
    },
    {
     "name": "stderr",
     "output_type": "stream",
     "text": [
      "WARNING: At the provided sampling rate of 30.0, the timeframe for the parameter 'min-saccade-duration' would be lower than a single sample (0.3 samples). Consider increasing the parameter value to prevent errors.\n",
      "WARNING: At the provided sampling rate of 30.0, the timeframe for the parameter 'max-pso-duration' would be lower than a single sample (0.0 samples). Consider increasing the parameter value to prevent errors.\n"
     ]
    },
    {
     "name": "stdout",
     "output_type": "stream",
     "text": [
      "Suj: 100, trial: 54\n",
      "\n",
      "Running saccades and fixations detection\n"
     ]
    },
    {
     "name": "stderr",
     "output_type": "stream",
     "text": [
      "WARNING: At the provided sampling rate of 30.0, the timeframe for the parameter 'min-saccade-duration' would be lower than a single sample (0.3 samples). Consider increasing the parameter value to prevent errors.\n",
      "WARNING: At the provided sampling rate of 30.0, the timeframe for the parameter 'max-pso-duration' would be lower than a single sample (0.0 samples). Consider increasing the parameter value to prevent errors.\n"
     ]
    },
    {
     "name": "stdout",
     "output_type": "stream",
     "text": [
      "Suj: 100, trial: 55\n",
      "\n",
      "Running saccades and fixations detection\n"
     ]
    },
    {
     "name": "stderr",
     "output_type": "stream",
     "text": [
      "WARNING: At the provided sampling rate of 30.0, the timeframe for the parameter 'min-saccade-duration' would be lower than a single sample (0.3 samples). Consider increasing the parameter value to prevent errors.\n",
      "WARNING: At the provided sampling rate of 30.0, the timeframe for the parameter 'max-pso-duration' would be lower than a single sample (0.0 samples). Consider increasing the parameter value to prevent errors.\n"
     ]
    },
    {
     "name": "stdout",
     "output_type": "stream",
     "text": [
      "Suj: 100, trial: 56\n",
      "\n",
      "Running saccades and fixations detection\n"
     ]
    },
    {
     "name": "stderr",
     "output_type": "stream",
     "text": [
      "WARNING: At the provided sampling rate of 30.0, the timeframe for the parameter 'min-saccade-duration' would be lower than a single sample (0.3 samples). Consider increasing the parameter value to prevent errors.\n",
      "WARNING: At the provided sampling rate of 30.0, the timeframe for the parameter 'max-pso-duration' would be lower than a single sample (0.0 samples). Consider increasing the parameter value to prevent errors.\n"
     ]
    },
    {
     "name": "stdout",
     "output_type": "stream",
     "text": [
      "Suj: 100, trial: 57\n",
      "\n",
      "Running saccades and fixations detection\n"
     ]
    },
    {
     "name": "stderr",
     "output_type": "stream",
     "text": [
      "WARNING: At the provided sampling rate of 30.0, the timeframe for the parameter 'min-saccade-duration' would be lower than a single sample (0.3 samples). Consider increasing the parameter value to prevent errors.\n",
      "WARNING: At the provided sampling rate of 30.0, the timeframe for the parameter 'max-pso-duration' would be lower than a single sample (0.0 samples). Consider increasing the parameter value to prevent errors.\n"
     ]
    },
    {
     "name": "stdout",
     "output_type": "stream",
     "text": [
      "Suj: 100, trial: 58\n",
      "\n",
      "Running saccades and fixations detection\n"
     ]
    },
    {
     "name": "stderr",
     "output_type": "stream",
     "text": [
      "WARNING: At the provided sampling rate of 30.0, the timeframe for the parameter 'min-saccade-duration' would be lower than a single sample (0.3 samples). Consider increasing the parameter value to prevent errors.\n",
      "WARNING: At the provided sampling rate of 30.0, the timeframe for the parameter 'max-pso-duration' would be lower than a single sample (0.0 samples). Consider increasing the parameter value to prevent errors.\n"
     ]
    },
    {
     "name": "stdout",
     "output_type": "stream",
     "text": [
      "Suj: 100, trial: 59\n",
      "\n",
      "Running saccades and fixations detection\n"
     ]
    },
    {
     "name": "stderr",
     "output_type": "stream",
     "text": [
      "WARNING: At the provided sampling rate of 30.0, the timeframe for the parameter 'min-saccade-duration' would be lower than a single sample (0.3 samples). Consider increasing the parameter value to prevent errors.\n",
      "WARNING: At the provided sampling rate of 30.0, the timeframe for the parameter 'max-pso-duration' would be lower than a single sample (0.0 samples). Consider increasing the parameter value to prevent errors.\n"
     ]
    },
    {
     "name": "stdout",
     "output_type": "stream",
     "text": [
      "Suj: 100, trial: 60\n",
      "\n",
      "Running saccades and fixations detection\n"
     ]
    },
    {
     "name": "stderr",
     "output_type": "stream",
     "text": [
      "WARNING: At the provided sampling rate of 30.0, the timeframe for the parameter 'min-saccade-duration' would be lower than a single sample (0.3 samples). Consider increasing the parameter value to prevent errors.\n",
      "WARNING: At the provided sampling rate of 30.0, the timeframe for the parameter 'max-pso-duration' would be lower than a single sample (0.0 samples). Consider increasing the parameter value to prevent errors.\n"
     ]
    },
    {
     "name": "stdout",
     "output_type": "stream",
     "text": [
      "Suj: 100, trial: 61\n",
      "\n",
      "Running saccades and fixations detection\n"
     ]
    },
    {
     "name": "stderr",
     "output_type": "stream",
     "text": [
      "WARNING: At the provided sampling rate of 30.0, the timeframe for the parameter 'min-saccade-duration' would be lower than a single sample (0.3 samples). Consider increasing the parameter value to prevent errors.\n",
      "WARNING: At the provided sampling rate of 30.0, the timeframe for the parameter 'max-pso-duration' would be lower than a single sample (0.0 samples). Consider increasing the parameter value to prevent errors.\n"
     ]
    },
    {
     "name": "stdout",
     "output_type": "stream",
     "text": [
      "Suj: 100, trial: 62\n",
      "\n",
      "Running saccades and fixations detection\n"
     ]
    },
    {
     "name": "stderr",
     "output_type": "stream",
     "text": [
      "WARNING: At the provided sampling rate of 30.0, the timeframe for the parameter 'min-saccade-duration' would be lower than a single sample (0.3 samples). Consider increasing the parameter value to prevent errors.\n",
      "WARNING: At the provided sampling rate of 30.0, the timeframe for the parameter 'max-pso-duration' would be lower than a single sample (0.0 samples). Consider increasing the parameter value to prevent errors.\n"
     ]
    },
    {
     "name": "stdout",
     "output_type": "stream",
     "text": [
      "Suj: 100, trial: 63\n",
      "\n",
      "Running saccades and fixations detection\n"
     ]
    },
    {
     "name": "stderr",
     "output_type": "stream",
     "text": [
      "WARNING: At the provided sampling rate of 30.0, the timeframe for the parameter 'min-saccade-duration' would be lower than a single sample (0.3 samples). Consider increasing the parameter value to prevent errors.\n",
      "WARNING: At the provided sampling rate of 30.0, the timeframe for the parameter 'max-pso-duration' would be lower than a single sample (0.0 samples). Consider increasing the parameter value to prevent errors.\n"
     ]
    },
    {
     "name": "stdout",
     "output_type": "stream",
     "text": [
      "Suj: 100, trial: 64\n",
      "\n",
      "Running saccades and fixations detection\n"
     ]
    },
    {
     "name": "stderr",
     "output_type": "stream",
     "text": [
      "WARNING: At the provided sampling rate of 30.0, the timeframe for the parameter 'min-saccade-duration' would be lower than a single sample (0.3 samples). Consider increasing the parameter value to prevent errors.\n",
      "WARNING: At the provided sampling rate of 30.0, the timeframe for the parameter 'max-pso-duration' would be lower than a single sample (0.0 samples). Consider increasing the parameter value to prevent errors.\n"
     ]
    },
    {
     "name": "stdout",
     "output_type": "stream",
     "text": [
      "Suj: 100, trial: 65\n",
      "\n",
      "Running saccades and fixations detection\n"
     ]
    },
    {
     "name": "stderr",
     "output_type": "stream",
     "text": [
      "WARNING: At the provided sampling rate of 30.0, the timeframe for the parameter 'min-saccade-duration' would be lower than a single sample (0.3 samples). Consider increasing the parameter value to prevent errors.\n",
      "WARNING: At the provided sampling rate of 30.0, the timeframe for the parameter 'max-pso-duration' would be lower than a single sample (0.0 samples). Consider increasing the parameter value to prevent errors.\n"
     ]
    },
    {
     "name": "stdout",
     "output_type": "stream",
     "text": [
      "Suj: 100, trial: 66\n",
      "\n",
      "Running saccades and fixations detection\n"
     ]
    },
    {
     "name": "stderr",
     "output_type": "stream",
     "text": [
      "WARNING: At the provided sampling rate of 30.0, the timeframe for the parameter 'min-saccade-duration' would be lower than a single sample (0.3 samples). Consider increasing the parameter value to prevent errors.\n",
      "WARNING: At the provided sampling rate of 30.0, the timeframe for the parameter 'max-pso-duration' would be lower than a single sample (0.0 samples). Consider increasing the parameter value to prevent errors.\n"
     ]
    },
    {
     "name": "stdout",
     "output_type": "stream",
     "text": [
      "Suj: 100, trial: 67\n",
      "\n",
      "Running saccades and fixations detection\n"
     ]
    },
    {
     "name": "stderr",
     "output_type": "stream",
     "text": [
      "WARNING: At the provided sampling rate of 30.0, the timeframe for the parameter 'min-saccade-duration' would be lower than a single sample (0.3 samples). Consider increasing the parameter value to prevent errors.\n",
      "WARNING: At the provided sampling rate of 30.0, the timeframe for the parameter 'max-pso-duration' would be lower than a single sample (0.0 samples). Consider increasing the parameter value to prevent errors.\n"
     ]
    },
    {
     "name": "stdout",
     "output_type": "stream",
     "text": [
      "Suj: 100, trial: 68\n",
      "\n",
      "Running saccades and fixations detection\n"
     ]
    },
    {
     "name": "stderr",
     "output_type": "stream",
     "text": [
      "WARNING: At the provided sampling rate of 30.0, the timeframe for the parameter 'min-saccade-duration' would be lower than a single sample (0.3 samples). Consider increasing the parameter value to prevent errors.\n",
      "WARNING: At the provided sampling rate of 30.0, the timeframe for the parameter 'max-pso-duration' would be lower than a single sample (0.0 samples). Consider increasing the parameter value to prevent errors.\n"
     ]
    },
    {
     "name": "stdout",
     "output_type": "stream",
     "text": [
      "Suj: 100, trial: 69\n",
      "\n",
      "Running saccades and fixations detection\n"
     ]
    },
    {
     "name": "stderr",
     "output_type": "stream",
     "text": [
      "WARNING: At the provided sampling rate of 30.0, the timeframe for the parameter 'min-saccade-duration' would be lower than a single sample (0.3 samples). Consider increasing the parameter value to prevent errors.\n",
      "WARNING: At the provided sampling rate of 30.0, the timeframe for the parameter 'max-pso-duration' would be lower than a single sample (0.0 samples). Consider increasing the parameter value to prevent errors.\n"
     ]
    },
    {
     "name": "stdout",
     "output_type": "stream",
     "text": [
      "Suj: 100, trial: 70\n",
      "\n",
      "Running saccades and fixations detection\n"
     ]
    },
    {
     "name": "stderr",
     "output_type": "stream",
     "text": [
      "WARNING: At the provided sampling rate of 30.0, the timeframe for the parameter 'min-saccade-duration' would be lower than a single sample (0.3 samples). Consider increasing the parameter value to prevent errors.\n",
      "WARNING: At the provided sampling rate of 30.0, the timeframe for the parameter 'max-pso-duration' would be lower than a single sample (0.0 samples). Consider increasing the parameter value to prevent errors.\n"
     ]
    },
    {
     "name": "stdout",
     "output_type": "stream",
     "text": [
      "Suj: 100, trial: 71\n",
      "\n",
      "Running saccades and fixations detection\n"
     ]
    },
    {
     "name": "stderr",
     "output_type": "stream",
     "text": [
      "WARNING: At the provided sampling rate of 30.0, the timeframe for the parameter 'min-saccade-duration' would be lower than a single sample (0.3 samples). Consider increasing the parameter value to prevent errors.\n",
      "WARNING: At the provided sampling rate of 30.0, the timeframe for the parameter 'max-pso-duration' would be lower than a single sample (0.0 samples). Consider increasing the parameter value to prevent errors.\n"
     ]
    },
    {
     "name": "stdout",
     "output_type": "stream",
     "text": [
      "Suj: 100, trial: 72\n",
      "\n",
      "Running saccades and fixations detection\n"
     ]
    },
    {
     "name": "stderr",
     "output_type": "stream",
     "text": [
      "WARNING: At the provided sampling rate of 30.0, the timeframe for the parameter 'min-saccade-duration' would be lower than a single sample (0.3 samples). Consider increasing the parameter value to prevent errors.\n",
      "WARNING: At the provided sampling rate of 30.0, the timeframe for the parameter 'max-pso-duration' would be lower than a single sample (0.0 samples). Consider increasing the parameter value to prevent errors.\n"
     ]
    },
    {
     "name": "stdout",
     "output_type": "stream",
     "text": [
      "Suj: 100, trial: 73\n",
      "\n",
      "Running saccades and fixations detection\n"
     ]
    },
    {
     "name": "stderr",
     "output_type": "stream",
     "text": [
      "WARNING: At the provided sampling rate of 30.0, the timeframe for the parameter 'min-saccade-duration' would be lower than a single sample (0.3 samples). Consider increasing the parameter value to prevent errors.\n",
      "WARNING: At the provided sampling rate of 30.0, the timeframe for the parameter 'max-pso-duration' would be lower than a single sample (0.0 samples). Consider increasing the parameter value to prevent errors.\n"
     ]
    },
    {
     "name": "stdout",
     "output_type": "stream",
     "text": [
      "Suj: 100, trial: 74\n",
      "\n",
      "Running saccades and fixations detection\n"
     ]
    },
    {
     "name": "stderr",
     "output_type": "stream",
     "text": [
      "WARNING: At the provided sampling rate of 30.0, the timeframe for the parameter 'min-saccade-duration' would be lower than a single sample (0.3 samples). Consider increasing the parameter value to prevent errors.\n",
      "WARNING: At the provided sampling rate of 30.0, the timeframe for the parameter 'max-pso-duration' would be lower than a single sample (0.0 samples). Consider increasing the parameter value to prevent errors.\n"
     ]
    },
    {
     "name": "stdout",
     "output_type": "stream",
     "text": [
      "Suj: 100, trial: 75\n",
      "\n",
      "Running saccades and fixations detection\n"
     ]
    },
    {
     "name": "stderr",
     "output_type": "stream",
     "text": [
      "WARNING: At the provided sampling rate of 30.0, the timeframe for the parameter 'min-saccade-duration' would be lower than a single sample (0.3 samples). Consider increasing the parameter value to prevent errors.\n",
      "WARNING: At the provided sampling rate of 30.0, the timeframe for the parameter 'max-pso-duration' would be lower than a single sample (0.0 samples). Consider increasing the parameter value to prevent errors.\n"
     ]
    },
    {
     "name": "stdout",
     "output_type": "stream",
     "text": [
      "Suj: 100, trial: 76\n",
      "\n",
      "Running saccades and fixations detection\n"
     ]
    },
    {
     "name": "stderr",
     "output_type": "stream",
     "text": [
      "WARNING: At the provided sampling rate of 30.0, the timeframe for the parameter 'min-saccade-duration' would be lower than a single sample (0.3 samples). Consider increasing the parameter value to prevent errors.\n",
      "WARNING: At the provided sampling rate of 30.0, the timeframe for the parameter 'max-pso-duration' would be lower than a single sample (0.0 samples). Consider increasing the parameter value to prevent errors.\n"
     ]
    },
    {
     "name": "stdout",
     "output_type": "stream",
     "text": [
      "Suj: 100, trial: 77\n",
      "\n",
      "Running saccades and fixations detection\n"
     ]
    },
    {
     "name": "stderr",
     "output_type": "stream",
     "text": [
      "WARNING: At the provided sampling rate of 30.0, the timeframe for the parameter 'min-saccade-duration' would be lower than a single sample (0.3 samples). Consider increasing the parameter value to prevent errors.\n",
      "WARNING: At the provided sampling rate of 30.0, the timeframe for the parameter 'max-pso-duration' would be lower than a single sample (0.0 samples). Consider increasing the parameter value to prevent errors.\n"
     ]
    },
    {
     "name": "stdout",
     "output_type": "stream",
     "text": [
      "Suj: 100, trial: 78\n",
      "\n",
      "Running saccades and fixations detection\n"
     ]
    },
    {
     "name": "stderr",
     "output_type": "stream",
     "text": [
      "WARNING: At the provided sampling rate of 30.0, the timeframe for the parameter 'min-saccade-duration' would be lower than a single sample (0.3 samples). Consider increasing the parameter value to prevent errors.\n",
      "WARNING: At the provided sampling rate of 30.0, the timeframe for the parameter 'max-pso-duration' would be lower than a single sample (0.0 samples). Consider increasing the parameter value to prevent errors.\n"
     ]
    },
    {
     "name": "stdout",
     "output_type": "stream",
     "text": [
      "Suj: 100, trial: 79\n",
      "\n",
      "Running saccades and fixations detection\n"
     ]
    },
    {
     "name": "stderr",
     "output_type": "stream",
     "text": [
      "WARNING: At the provided sampling rate of 30.0, the timeframe for the parameter 'min-saccade-duration' would be lower than a single sample (0.3 samples). Consider increasing the parameter value to prevent errors.\n",
      "WARNING: At the provided sampling rate of 30.0, the timeframe for the parameter 'max-pso-duration' would be lower than a single sample (0.0 samples). Consider increasing the parameter value to prevent errors.\n"
     ]
    },
    {
     "name": "stdout",
     "output_type": "stream",
     "text": [
      "Suj: 100, trial: 80\n",
      "\n",
      "Running saccades and fixations detection\n"
     ]
    },
    {
     "name": "stderr",
     "output_type": "stream",
     "text": [
      "WARNING: At the provided sampling rate of 30.0, the timeframe for the parameter 'min-saccade-duration' would be lower than a single sample (0.3 samples). Consider increasing the parameter value to prevent errors.\n",
      "WARNING: At the provided sampling rate of 30.0, the timeframe for the parameter 'max-pso-duration' would be lower than a single sample (0.0 samples). Consider increasing the parameter value to prevent errors.\n"
     ]
    },
    {
     "name": "stdout",
     "output_type": "stream",
     "text": [
      "Suj: 100, trial: 81\n",
      "\n",
      "Running saccades and fixations detection\n"
     ]
    },
    {
     "name": "stderr",
     "output_type": "stream",
     "text": [
      "WARNING: At the provided sampling rate of 30.0, the timeframe for the parameter 'min-saccade-duration' would be lower than a single sample (0.3 samples). Consider increasing the parameter value to prevent errors.\n",
      "WARNING: At the provided sampling rate of 30.0, the timeframe for the parameter 'max-pso-duration' would be lower than a single sample (0.0 samples). Consider increasing the parameter value to prevent errors.\n"
     ]
    },
    {
     "name": "stdout",
     "output_type": "stream",
     "text": [
      "Suj: 100, trial: 82\n",
      "\n",
      "Running saccades and fixations detection\n"
     ]
    },
    {
     "name": "stderr",
     "output_type": "stream",
     "text": [
      "WARNING: At the provided sampling rate of 30.0, the timeframe for the parameter 'min-saccade-duration' would be lower than a single sample (0.3 samples). Consider increasing the parameter value to prevent errors.\n",
      "WARNING: At the provided sampling rate of 30.0, the timeframe for the parameter 'max-pso-duration' would be lower than a single sample (0.0 samples). Consider increasing the parameter value to prevent errors.\n"
     ]
    },
    {
     "name": "stdout",
     "output_type": "stream",
     "text": [
      "Suj: 100, trial: 83\n",
      "\n",
      "Running saccades and fixations detection\n"
     ]
    },
    {
     "name": "stderr",
     "output_type": "stream",
     "text": [
      "WARNING: At the provided sampling rate of 30.0, the timeframe for the parameter 'min-saccade-duration' would be lower than a single sample (0.3 samples). Consider increasing the parameter value to prevent errors.\n",
      "WARNING: At the provided sampling rate of 30.0, the timeframe for the parameter 'max-pso-duration' would be lower than a single sample (0.0 samples). Consider increasing the parameter value to prevent errors.\n"
     ]
    },
    {
     "name": "stdout",
     "output_type": "stream",
     "text": [
      "Suj: 100, trial: 84\n",
      "\n",
      "Running saccades and fixations detection\n"
     ]
    },
    {
     "name": "stderr",
     "output_type": "stream",
     "text": [
      "WARNING: At the provided sampling rate of 30.0, the timeframe for the parameter 'min-saccade-duration' would be lower than a single sample (0.3 samples). Consider increasing the parameter value to prevent errors.\n",
      "WARNING: At the provided sampling rate of 30.0, the timeframe for the parameter 'max-pso-duration' would be lower than a single sample (0.0 samples). Consider increasing the parameter value to prevent errors.\n"
     ]
    },
    {
     "name": "stdout",
     "output_type": "stream",
     "text": [
      "Suj: 100, trial: 85\n",
      "\n",
      "Running saccades and fixations detection\n"
     ]
    },
    {
     "name": "stderr",
     "output_type": "stream",
     "text": [
      "WARNING: At the provided sampling rate of 30.0, the timeframe for the parameter 'min-saccade-duration' would be lower than a single sample (0.3 samples). Consider increasing the parameter value to prevent errors.\n",
      "WARNING: At the provided sampling rate of 30.0, the timeframe for the parameter 'max-pso-duration' would be lower than a single sample (0.0 samples). Consider increasing the parameter value to prevent errors.\n"
     ]
    },
    {
     "name": "stdout",
     "output_type": "stream",
     "text": [
      "Suj: 100, trial: 86\n",
      "\n",
      "Running saccades and fixations detection\n"
     ]
    },
    {
     "name": "stderr",
     "output_type": "stream",
     "text": [
      "WARNING: At the provided sampling rate of 30.0, the timeframe for the parameter 'min-saccade-duration' would be lower than a single sample (0.3 samples). Consider increasing the parameter value to prevent errors.\n",
      "WARNING: At the provided sampling rate of 30.0, the timeframe for the parameter 'max-pso-duration' would be lower than a single sample (0.0 samples). Consider increasing the parameter value to prevent errors.\n"
     ]
    },
    {
     "name": "stdout",
     "output_type": "stream",
     "text": [
      "Suj: 100, trial: 87\n",
      "\n",
      "Running saccades and fixations detection\n"
     ]
    },
    {
     "name": "stderr",
     "output_type": "stream",
     "text": [
      "WARNING: At the provided sampling rate of 30.0, the timeframe for the parameter 'min-saccade-duration' would be lower than a single sample (0.3 samples). Consider increasing the parameter value to prevent errors.\n",
      "WARNING: At the provided sampling rate of 30.0, the timeframe for the parameter 'max-pso-duration' would be lower than a single sample (0.0 samples). Consider increasing the parameter value to prevent errors.\n"
     ]
    },
    {
     "name": "stdout",
     "output_type": "stream",
     "text": [
      "Suj: 100, trial: 88\n",
      "\n",
      "Running saccades and fixations detection\n"
     ]
    },
    {
     "name": "stderr",
     "output_type": "stream",
     "text": [
      "WARNING: At the provided sampling rate of 30.0, the timeframe for the parameter 'min-saccade-duration' would be lower than a single sample (0.3 samples). Consider increasing the parameter value to prevent errors.\n",
      "WARNING: At the provided sampling rate of 30.0, the timeframe for the parameter 'max-pso-duration' would be lower than a single sample (0.0 samples). Consider increasing the parameter value to prevent errors.\n"
     ]
    },
    {
     "name": "stdout",
     "output_type": "stream",
     "text": [
      "Suj: 100, trial: 89\n",
      "\n",
      "Running saccades and fixations detection\n"
     ]
    },
    {
     "name": "stderr",
     "output_type": "stream",
     "text": [
      "WARNING: At the provided sampling rate of 30.0, the timeframe for the parameter 'min-saccade-duration' would be lower than a single sample (0.3 samples). Consider increasing the parameter value to prevent errors.\n",
      "WARNING: At the provided sampling rate of 30.0, the timeframe for the parameter 'max-pso-duration' would be lower than a single sample (0.0 samples). Consider increasing the parameter value to prevent errors.\n"
     ]
    },
    {
     "name": "stdout",
     "output_type": "stream",
     "text": [
      "Suj: 100, trial: 90\n",
      "\n",
      "Running saccades and fixations detection\n"
     ]
    },
    {
     "name": "stderr",
     "output_type": "stream",
     "text": [
      "WARNING: At the provided sampling rate of 30.0, the timeframe for the parameter 'min-saccade-duration' would be lower than a single sample (0.3 samples). Consider increasing the parameter value to prevent errors.\n",
      "WARNING: At the provided sampling rate of 30.0, the timeframe for the parameter 'max-pso-duration' would be lower than a single sample (0.0 samples). Consider increasing the parameter value to prevent errors.\n"
     ]
    },
    {
     "name": "stdout",
     "output_type": "stream",
     "text": [
      "Suj: 100, trial: 91\n",
      "\n",
      "Running saccades and fixations detection\n"
     ]
    },
    {
     "name": "stderr",
     "output_type": "stream",
     "text": [
      "WARNING: At the provided sampling rate of 30.0, the timeframe for the parameter 'min-saccade-duration' would be lower than a single sample (0.3 samples). Consider increasing the parameter value to prevent errors.\n",
      "WARNING: At the provided sampling rate of 30.0, the timeframe for the parameter 'max-pso-duration' would be lower than a single sample (0.0 samples). Consider increasing the parameter value to prevent errors.\n"
     ]
    },
    {
     "name": "stdout",
     "output_type": "stream",
     "text": [
      "Suj: 100, trial: 92\n",
      "\n",
      "Running saccades and fixations detection\n"
     ]
    },
    {
     "name": "stderr",
     "output_type": "stream",
     "text": [
      "WARNING: At the provided sampling rate of 30.0, the timeframe for the parameter 'min-saccade-duration' would be lower than a single sample (0.3 samples). Consider increasing the parameter value to prevent errors.\n",
      "WARNING: At the provided sampling rate of 30.0, the timeframe for the parameter 'max-pso-duration' would be lower than a single sample (0.0 samples). Consider increasing the parameter value to prevent errors.\n"
     ]
    },
    {
     "name": "stdout",
     "output_type": "stream",
     "text": [
      "Suj: 100, trial: 93\n",
      "\n",
      "Running saccades and fixations detection\n"
     ]
    },
    {
     "name": "stderr",
     "output_type": "stream",
     "text": [
      "WARNING: At the provided sampling rate of 30.0, the timeframe for the parameter 'min-saccade-duration' would be lower than a single sample (0.3 samples). Consider increasing the parameter value to prevent errors.\n",
      "WARNING: At the provided sampling rate of 30.0, the timeframe for the parameter 'max-pso-duration' would be lower than a single sample (0.0 samples). Consider increasing the parameter value to prevent errors.\n"
     ]
    },
    {
     "name": "stdout",
     "output_type": "stream",
     "text": [
      "Suj: 100, trial: 94\n",
      "\n",
      "Running saccades and fixations detection\n"
     ]
    },
    {
     "name": "stderr",
     "output_type": "stream",
     "text": [
      "WARNING: At the provided sampling rate of 30.0, the timeframe for the parameter 'min-saccade-duration' would be lower than a single sample (0.3 samples). Consider increasing the parameter value to prevent errors.\n",
      "WARNING: At the provided sampling rate of 30.0, the timeframe for the parameter 'max-pso-duration' would be lower than a single sample (0.0 samples). Consider increasing the parameter value to prevent errors.\n"
     ]
    },
    {
     "name": "stdout",
     "output_type": "stream",
     "text": [
      "Suj: 100, trial: 95\n",
      "\n",
      "Running saccades and fixations detection\n"
     ]
    },
    {
     "name": "stderr",
     "output_type": "stream",
     "text": [
      "WARNING: At the provided sampling rate of 30.0, the timeframe for the parameter 'min-saccade-duration' would be lower than a single sample (0.3 samples). Consider increasing the parameter value to prevent errors.\n",
      "WARNING: At the provided sampling rate of 30.0, the timeframe for the parameter 'max-pso-duration' would be lower than a single sample (0.0 samples). Consider increasing the parameter value to prevent errors.\n"
     ]
    },
    {
     "name": "stdout",
     "output_type": "stream",
     "text": [
      "Suj: 100, trial: 96\n",
      "\n",
      "Running saccades and fixations detection\n"
     ]
    },
    {
     "name": "stderr",
     "output_type": "stream",
     "text": [
      "WARNING: At the provided sampling rate of 30.0, the timeframe for the parameter 'min-saccade-duration' would be lower than a single sample (0.3 samples). Consider increasing the parameter value to prevent errors.\n",
      "WARNING: At the provided sampling rate of 30.0, the timeframe for the parameter 'max-pso-duration' would be lower than a single sample (0.0 samples). Consider increasing the parameter value to prevent errors.\n"
     ]
    },
    {
     "name": "stdout",
     "output_type": "stream",
     "text": [
      "Suj: 100, trial: 97\n",
      "\n",
      "Running saccades and fixations detection\n"
     ]
    },
    {
     "name": "stderr",
     "output_type": "stream",
     "text": [
      "WARNING: At the provided sampling rate of 30.0, the timeframe for the parameter 'min-saccade-duration' would be lower than a single sample (0.3 samples). Consider increasing the parameter value to prevent errors.\n",
      "WARNING: At the provided sampling rate of 30.0, the timeframe for the parameter 'max-pso-duration' would be lower than a single sample (0.0 samples). Consider increasing the parameter value to prevent errors.\n"
     ]
    },
    {
     "name": "stdout",
     "output_type": "stream",
     "text": [
      "Suj: 100, trial: 98\n",
      "\n",
      "Running saccades and fixations detection\n"
     ]
    },
    {
     "name": "stderr",
     "output_type": "stream",
     "text": [
      "WARNING: At the provided sampling rate of 30.0, the timeframe for the parameter 'min-saccade-duration' would be lower than a single sample (0.3 samples). Consider increasing the parameter value to prevent errors.\n",
      "WARNING: At the provided sampling rate of 30.0, the timeframe for the parameter 'max-pso-duration' would be lower than a single sample (0.0 samples). Consider increasing the parameter value to prevent errors.\n"
     ]
    },
    {
     "name": "stdout",
     "output_type": "stream",
     "text": [
      "Suj: 100, trial: 99\n",
      "\n",
      "Running saccades and fixations detection\n"
     ]
    },
    {
     "name": "stderr",
     "output_type": "stream",
     "text": [
      "WARNING: At the provided sampling rate of 30.0, the timeframe for the parameter 'min-saccade-duration' would be lower than a single sample (0.3 samples). Consider increasing the parameter value to prevent errors.\n",
      "WARNING: At the provided sampling rate of 30.0, the timeframe for the parameter 'max-pso-duration' would be lower than a single sample (0.0 samples). Consider increasing the parameter value to prevent errors.\n"
     ]
    },
    {
     "name": "stdout",
     "output_type": "stream",
     "text": [
      "Suj: 100, trial: 100\n",
      "\n",
      "Running saccades and fixations detection\n"
     ]
    },
    {
     "name": "stderr",
     "output_type": "stream",
     "text": [
      "WARNING: At the provided sampling rate of 30.0, the timeframe for the parameter 'min-saccade-duration' would be lower than a single sample (0.3 samples). Consider increasing the parameter value to prevent errors.\n",
      "WARNING: At the provided sampling rate of 30.0, the timeframe for the parameter 'max-pso-duration' would be lower than a single sample (0.0 samples). Consider increasing the parameter value to prevent errors.\n"
     ]
    },
    {
     "name": "stdout",
     "output_type": "stream",
     "text": [
      "Suj: 100, trial: 101\n",
      "\n",
      "Running saccades and fixations detection\n"
     ]
    },
    {
     "name": "stderr",
     "output_type": "stream",
     "text": [
      "WARNING: At the provided sampling rate of 30.0, the timeframe for the parameter 'min-saccade-duration' would be lower than a single sample (0.3 samples). Consider increasing the parameter value to prevent errors.\n",
      "WARNING: At the provided sampling rate of 30.0, the timeframe for the parameter 'max-pso-duration' would be lower than a single sample (0.0 samples). Consider increasing the parameter value to prevent errors.\n"
     ]
    },
    {
     "name": "stdout",
     "output_type": "stream",
     "text": [
      "Suj: 100, trial: 102\n",
      "\n",
      "Running saccades and fixations detection\n"
     ]
    },
    {
     "name": "stderr",
     "output_type": "stream",
     "text": [
      "WARNING: At the provided sampling rate of 30.0, the timeframe for the parameter 'min-saccade-duration' would be lower than a single sample (0.3 samples). Consider increasing the parameter value to prevent errors.\n",
      "WARNING: At the provided sampling rate of 30.0, the timeframe for the parameter 'max-pso-duration' would be lower than a single sample (0.0 samples). Consider increasing the parameter value to prevent errors.\n"
     ]
    },
    {
     "name": "stdout",
     "output_type": "stream",
     "text": [
      "Suj: 100, trial: 103\n",
      "\n",
      "Running saccades and fixations detection\n"
     ]
    },
    {
     "name": "stderr",
     "output_type": "stream",
     "text": [
      "WARNING: At the provided sampling rate of 30.0, the timeframe for the parameter 'min-saccade-duration' would be lower than a single sample (0.3 samples). Consider increasing the parameter value to prevent errors.\n",
      "WARNING: At the provided sampling rate of 30.0, the timeframe for the parameter 'max-pso-duration' would be lower than a single sample (0.0 samples). Consider increasing the parameter value to prevent errors.\n"
     ]
    },
    {
     "name": "stdout",
     "output_type": "stream",
     "text": [
      "Suj: 100, trial: 104\n",
      "\n",
      "Running saccades and fixations detection\n"
     ]
    },
    {
     "name": "stderr",
     "output_type": "stream",
     "text": [
      "WARNING: At the provided sampling rate of 30.0, the timeframe for the parameter 'min-saccade-duration' would be lower than a single sample (0.3 samples). Consider increasing the parameter value to prevent errors.\n",
      "WARNING: At the provided sampling rate of 30.0, the timeframe for the parameter 'max-pso-duration' would be lower than a single sample (0.0 samples). Consider increasing the parameter value to prevent errors.\n"
     ]
    },
    {
     "name": "stdout",
     "output_type": "stream",
     "text": [
      "Suj: 100, trial: 105\n",
      "\n",
      "Running saccades and fixations detection\n"
     ]
    },
    {
     "name": "stderr",
     "output_type": "stream",
     "text": [
      "WARNING: At the provided sampling rate of 30.0, the timeframe for the parameter 'min-saccade-duration' would be lower than a single sample (0.3 samples). Consider increasing the parameter value to prevent errors.\n",
      "WARNING: At the provided sampling rate of 30.0, the timeframe for the parameter 'max-pso-duration' would be lower than a single sample (0.0 samples). Consider increasing the parameter value to prevent errors.\n"
     ]
    },
    {
     "name": "stdout",
     "output_type": "stream",
     "text": [
      "Suj: 100, trial: 106\n",
      "\n",
      "Running saccades and fixations detection\n"
     ]
    },
    {
     "name": "stderr",
     "output_type": "stream",
     "text": [
      "WARNING: At the provided sampling rate of 30.0, the timeframe for the parameter 'min-saccade-duration' would be lower than a single sample (0.3 samples). Consider increasing the parameter value to prevent errors.\n",
      "WARNING: At the provided sampling rate of 30.0, the timeframe for the parameter 'max-pso-duration' would be lower than a single sample (0.0 samples). Consider increasing the parameter value to prevent errors.\n"
     ]
    },
    {
     "name": "stdout",
     "output_type": "stream",
     "text": [
      "Suj: 100, trial: 107\n",
      "\n",
      "Running saccades and fixations detection\n"
     ]
    },
    {
     "name": "stderr",
     "output_type": "stream",
     "text": [
      "WARNING: At the provided sampling rate of 30.0, the timeframe for the parameter 'min-saccade-duration' would be lower than a single sample (0.3 samples). Consider increasing the parameter value to prevent errors.\n",
      "WARNING: At the provided sampling rate of 30.0, the timeframe for the parameter 'max-pso-duration' would be lower than a single sample (0.0 samples). Consider increasing the parameter value to prevent errors.\n"
     ]
    },
    {
     "name": "stdout",
     "output_type": "stream",
     "text": [
      "Suj: 100, trial: 108\n",
      "\n",
      "Running saccades and fixations detection\n"
     ]
    },
    {
     "name": "stderr",
     "output_type": "stream",
     "text": [
      "WARNING: At the provided sampling rate of 30.0, the timeframe for the parameter 'min-saccade-duration' would be lower than a single sample (0.3 samples). Consider increasing the parameter value to prevent errors.\n",
      "WARNING: At the provided sampling rate of 30.0, the timeframe for the parameter 'max-pso-duration' would be lower than a single sample (0.0 samples). Consider increasing the parameter value to prevent errors.\n"
     ]
    },
    {
     "name": "stdout",
     "output_type": "stream",
     "text": [
      "Suj: 100, trial: 109\n",
      "\n",
      "Running saccades and fixations detection\n"
     ]
    },
    {
     "name": "stderr",
     "output_type": "stream",
     "text": [
      "WARNING: At the provided sampling rate of 30.0, the timeframe for the parameter 'min-saccade-duration' would be lower than a single sample (0.3 samples). Consider increasing the parameter value to prevent errors.\n",
      "WARNING: At the provided sampling rate of 30.0, the timeframe for the parameter 'max-pso-duration' would be lower than a single sample (0.0 samples). Consider increasing the parameter value to prevent errors.\n"
     ]
    },
    {
     "name": "stdout",
     "output_type": "stream",
     "text": [
      "Suj: 100, trial: 110\n",
      "\n",
      "Running saccades and fixations detection\n"
     ]
    },
    {
     "name": "stderr",
     "output_type": "stream",
     "text": [
      "WARNING: At the provided sampling rate of 30.0, the timeframe for the parameter 'min-saccade-duration' would be lower than a single sample (0.3 samples). Consider increasing the parameter value to prevent errors.\n",
      "WARNING: At the provided sampling rate of 30.0, the timeframe for the parameter 'max-pso-duration' would be lower than a single sample (0.0 samples). Consider increasing the parameter value to prevent errors.\n"
     ]
    },
    {
     "name": "stdout",
     "output_type": "stream",
     "text": [
      "Suj: 100, trial: 111\n",
      "\n",
      "Running saccades and fixations detection\n"
     ]
    },
    {
     "name": "stderr",
     "output_type": "stream",
     "text": [
      "WARNING: At the provided sampling rate of 30.0, the timeframe for the parameter 'min-saccade-duration' would be lower than a single sample (0.3 samples). Consider increasing the parameter value to prevent errors.\n",
      "WARNING: At the provided sampling rate of 30.0, the timeframe for the parameter 'max-pso-duration' would be lower than a single sample (0.0 samples). Consider increasing the parameter value to prevent errors.\n"
     ]
    },
    {
     "name": "stdout",
     "output_type": "stream",
     "text": [
      "Suj: 100, trial: 112\n",
      "\n",
      "Running saccades and fixations detection\n"
     ]
    },
    {
     "name": "stderr",
     "output_type": "stream",
     "text": [
      "WARNING: At the provided sampling rate of 30.0, the timeframe for the parameter 'min-saccade-duration' would be lower than a single sample (0.3 samples). Consider increasing the parameter value to prevent errors.\n",
      "WARNING: At the provided sampling rate of 30.0, the timeframe for the parameter 'max-pso-duration' would be lower than a single sample (0.0 samples). Consider increasing the parameter value to prevent errors.\n"
     ]
    },
    {
     "name": "stdout",
     "output_type": "stream",
     "text": [
      "Suj: 100, trial: 113\n",
      "\n",
      "Running saccades and fixations detection\n"
     ]
    },
    {
     "name": "stderr",
     "output_type": "stream",
     "text": [
      "WARNING: At the provided sampling rate of 30.0, the timeframe for the parameter 'min-saccade-duration' would be lower than a single sample (0.3 samples). Consider increasing the parameter value to prevent errors.\n",
      "WARNING: At the provided sampling rate of 30.0, the timeframe for the parameter 'max-pso-duration' would be lower than a single sample (0.0 samples). Consider increasing the parameter value to prevent errors.\n"
     ]
    },
    {
     "name": "stdout",
     "output_type": "stream",
     "text": [
      "Suj: 100, trial: 114\n",
      "\n",
      "Running saccades and fixations detection\n"
     ]
    },
    {
     "name": "stderr",
     "output_type": "stream",
     "text": [
      "WARNING: At the provided sampling rate of 30.0, the timeframe for the parameter 'min-saccade-duration' would be lower than a single sample (0.3 samples). Consider increasing the parameter value to prevent errors.\n",
      "WARNING: At the provided sampling rate of 30.0, the timeframe for the parameter 'max-pso-duration' would be lower than a single sample (0.0 samples). Consider increasing the parameter value to prevent errors.\n"
     ]
    },
    {
     "name": "stdout",
     "output_type": "stream",
     "text": [
      "Suj: 100, trial: 115\n",
      "\n",
      "Running saccades and fixations detection\n"
     ]
    },
    {
     "name": "stderr",
     "output_type": "stream",
     "text": [
      "WARNING: At the provided sampling rate of 30.0, the timeframe for the parameter 'min-saccade-duration' would be lower than a single sample (0.3 samples). Consider increasing the parameter value to prevent errors.\n",
      "WARNING: At the provided sampling rate of 30.0, the timeframe for the parameter 'max-pso-duration' would be lower than a single sample (0.0 samples). Consider increasing the parameter value to prevent errors.\n"
     ]
    },
    {
     "name": "stdout",
     "output_type": "stream",
     "text": [
      "Suj: 100, trial: 116\n",
      "\n",
      "Running saccades and fixations detection\n"
     ]
    },
    {
     "name": "stderr",
     "output_type": "stream",
     "text": [
      "WARNING: At the provided sampling rate of 30.0, the timeframe for the parameter 'min-saccade-duration' would be lower than a single sample (0.3 samples). Consider increasing the parameter value to prevent errors.\n",
      "WARNING: At the provided sampling rate of 30.0, the timeframe for the parameter 'max-pso-duration' would be lower than a single sample (0.0 samples). Consider increasing the parameter value to prevent errors.\n"
     ]
    },
    {
     "name": "stdout",
     "output_type": "stream",
     "text": [
      "Suj: 100, trial: 117\n",
      "\n",
      "Running saccades and fixations detection\n"
     ]
    },
    {
     "name": "stderr",
     "output_type": "stream",
     "text": [
      "WARNING: At the provided sampling rate of 30.0, the timeframe for the parameter 'min-saccade-duration' would be lower than a single sample (0.3 samples). Consider increasing the parameter value to prevent errors.\n",
      "WARNING: At the provided sampling rate of 30.0, the timeframe for the parameter 'max-pso-duration' would be lower than a single sample (0.0 samples). Consider increasing the parameter value to prevent errors.\n"
     ]
    },
    {
     "name": "stdout",
     "output_type": "stream",
     "text": [
      "Suj: 100, trial: 118\n",
      "\n",
      "Running saccades and fixations detection\n"
     ]
    },
    {
     "name": "stderr",
     "output_type": "stream",
     "text": [
      "WARNING: At the provided sampling rate of 30.0, the timeframe for the parameter 'min-saccade-duration' would be lower than a single sample (0.3 samples). Consider increasing the parameter value to prevent errors.\n",
      "WARNING: At the provided sampling rate of 30.0, the timeframe for the parameter 'max-pso-duration' would be lower than a single sample (0.0 samples). Consider increasing the parameter value to prevent errors.\n"
     ]
    },
    {
     "name": "stdout",
     "output_type": "stream",
     "text": [
      "Suj: 100, trial: 119\n",
      "\n",
      "Running saccades and fixations detection\n"
     ]
    },
    {
     "name": "stderr",
     "output_type": "stream",
     "text": [
      "WARNING: At the provided sampling rate of 30.0, the timeframe for the parameter 'min-saccade-duration' would be lower than a single sample (0.3 samples). Consider increasing the parameter value to prevent errors.\n",
      "WARNING: At the provided sampling rate of 30.0, the timeframe for the parameter 'max-pso-duration' would be lower than a single sample (0.0 samples). Consider increasing the parameter value to prevent errors.\n"
     ]
    },
    {
     "name": "stdout",
     "output_type": "stream",
     "text": [
      "Suj: 100, trial: 120\n",
      "\n",
      "Running saccades and fixations detection\n"
     ]
    },
    {
     "name": "stderr",
     "output_type": "stream",
     "text": [
      "WARNING: At the provided sampling rate of 30.0, the timeframe for the parameter 'min-saccade-duration' would be lower than a single sample (0.3 samples). Consider increasing the parameter value to prevent errors.\n",
      "WARNING: At the provided sampling rate of 30.0, the timeframe for the parameter 'max-pso-duration' would be lower than a single sample (0.0 samples). Consider increasing the parameter value to prevent errors.\n"
     ]
    },
    {
     "name": "stdout",
     "output_type": "stream",
     "text": [
      "Suj: 100, trial: 121\n",
      "\n",
      "Running saccades and fixations detection\n"
     ]
    },
    {
     "name": "stderr",
     "output_type": "stream",
     "text": [
      "WARNING: At the provided sampling rate of 30.0, the timeframe for the parameter 'min-saccade-duration' would be lower than a single sample (0.3 samples). Consider increasing the parameter value to prevent errors.\n",
      "WARNING: At the provided sampling rate of 30.0, the timeframe for the parameter 'max-pso-duration' would be lower than a single sample (0.0 samples). Consider increasing the parameter value to prevent errors.\n"
     ]
    },
    {
     "name": "stdout",
     "output_type": "stream",
     "text": [
      "Suj: 100, trial: 122\n",
      "\n",
      "Running saccades and fixations detection\n"
     ]
    },
    {
     "name": "stderr",
     "output_type": "stream",
     "text": [
      "WARNING: At the provided sampling rate of 30.0, the timeframe for the parameter 'min-saccade-duration' would be lower than a single sample (0.3 samples). Consider increasing the parameter value to prevent errors.\n",
      "WARNING: At the provided sampling rate of 30.0, the timeframe for the parameter 'max-pso-duration' would be lower than a single sample (0.0 samples). Consider increasing the parameter value to prevent errors.\n"
     ]
    },
    {
     "name": "stdout",
     "output_type": "stream",
     "text": [
      "Suj: 100, trial: 123\n",
      "\n",
      "Running saccades and fixations detection\n"
     ]
    },
    {
     "name": "stderr",
     "output_type": "stream",
     "text": [
      "WARNING: At the provided sampling rate of 30.0, the timeframe for the parameter 'min-saccade-duration' would be lower than a single sample (0.3 samples). Consider increasing the parameter value to prevent errors.\n",
      "WARNING: At the provided sampling rate of 30.0, the timeframe for the parameter 'max-pso-duration' would be lower than a single sample (0.0 samples). Consider increasing the parameter value to prevent errors.\n"
     ]
    },
    {
     "name": "stdout",
     "output_type": "stream",
     "text": [
      "Suj: 100, trial: 124\n",
      "\n",
      "Running saccades and fixations detection\n"
     ]
    },
    {
     "name": "stderr",
     "output_type": "stream",
     "text": [
      "WARNING: At the provided sampling rate of 30.0, the timeframe for the parameter 'min-saccade-duration' would be lower than a single sample (0.3 samples). Consider increasing the parameter value to prevent errors.\n",
      "WARNING: At the provided sampling rate of 30.0, the timeframe for the parameter 'max-pso-duration' would be lower than a single sample (0.0 samples). Consider increasing the parameter value to prevent errors.\n"
     ]
    },
    {
     "name": "stdout",
     "output_type": "stream",
     "text": [
      "Suj: 100, trial: 125\n",
      "\n",
      "Running saccades and fixations detection\n"
     ]
    },
    {
     "name": "stderr",
     "output_type": "stream",
     "text": [
      "WARNING: At the provided sampling rate of 30.0, the timeframe for the parameter 'min-saccade-duration' would be lower than a single sample (0.3 samples). Consider increasing the parameter value to prevent errors.\n",
      "WARNING: At the provided sampling rate of 30.0, the timeframe for the parameter 'max-pso-duration' would be lower than a single sample (0.0 samples). Consider increasing the parameter value to prevent errors.\n"
     ]
    },
    {
     "name": "stdout",
     "output_type": "stream",
     "text": [
      "Suj: 100, trial: 126\n",
      "\n",
      "Running saccades and fixations detection\n"
     ]
    },
    {
     "name": "stderr",
     "output_type": "stream",
     "text": [
      "WARNING: At the provided sampling rate of 30.0, the timeframe for the parameter 'min-saccade-duration' would be lower than a single sample (0.3 samples). Consider increasing the parameter value to prevent errors.\n",
      "WARNING: At the provided sampling rate of 30.0, the timeframe for the parameter 'max-pso-duration' would be lower than a single sample (0.0 samples). Consider increasing the parameter value to prevent errors.\n"
     ]
    },
    {
     "name": "stdout",
     "output_type": "stream",
     "text": [
      "Suj: 100, trial: 127\n",
      "\n",
      "Running saccades and fixations detection\n"
     ]
    },
    {
     "name": "stderr",
     "output_type": "stream",
     "text": [
      "WARNING: At the provided sampling rate of 30.0, the timeframe for the parameter 'min-saccade-duration' would be lower than a single sample (0.3 samples). Consider increasing the parameter value to prevent errors.\n",
      "WARNING: At the provided sampling rate of 30.0, the timeframe for the parameter 'max-pso-duration' would be lower than a single sample (0.0 samples). Consider increasing the parameter value to prevent errors.\n"
     ]
    },
    {
     "name": "stdout",
     "output_type": "stream",
     "text": [
      "Suj: 100, trial: 128\n",
      "\n",
      "Running saccades and fixations detection\n"
     ]
    },
    {
     "name": "stderr",
     "output_type": "stream",
     "text": [
      "WARNING: At the provided sampling rate of 30.0, the timeframe for the parameter 'min-saccade-duration' would be lower than a single sample (0.3 samples). Consider increasing the parameter value to prevent errors.\n",
      "WARNING: At the provided sampling rate of 30.0, the timeframe for the parameter 'max-pso-duration' would be lower than a single sample (0.0 samples). Consider increasing the parameter value to prevent errors.\n"
     ]
    },
    {
     "name": "stdout",
     "output_type": "stream",
     "text": [
      "Suj: 100, trial: 129\n",
      "\n",
      "Running saccades and fixations detection\n"
     ]
    },
    {
     "name": "stderr",
     "output_type": "stream",
     "text": [
      "WARNING: At the provided sampling rate of 30.0, the timeframe for the parameter 'min-saccade-duration' would be lower than a single sample (0.3 samples). Consider increasing the parameter value to prevent errors.\n",
      "WARNING: At the provided sampling rate of 30.0, the timeframe for the parameter 'max-pso-duration' would be lower than a single sample (0.0 samples). Consider increasing the parameter value to prevent errors.\n"
     ]
    },
    {
     "name": "stdout",
     "output_type": "stream",
     "text": [
      "Suj: 100, trial: 130\n",
      "\n",
      "Running saccades and fixations detection\n"
     ]
    },
    {
     "name": "stderr",
     "output_type": "stream",
     "text": [
      "WARNING: At the provided sampling rate of 30.0, the timeframe for the parameter 'min-saccade-duration' would be lower than a single sample (0.3 samples). Consider increasing the parameter value to prevent errors.\n",
      "WARNING: At the provided sampling rate of 30.0, the timeframe for the parameter 'max-pso-duration' would be lower than a single sample (0.0 samples). Consider increasing the parameter value to prevent errors.\n"
     ]
    },
    {
     "name": "stdout",
     "output_type": "stream",
     "text": [
      "Suj: 100, trial: 131\n",
      "\n",
      "Running saccades and fixations detection\n"
     ]
    },
    {
     "name": "stderr",
     "output_type": "stream",
     "text": [
      "WARNING: At the provided sampling rate of 30.0, the timeframe for the parameter 'min-saccade-duration' would be lower than a single sample (0.3 samples). Consider increasing the parameter value to prevent errors.\n",
      "WARNING: At the provided sampling rate of 30.0, the timeframe for the parameter 'max-pso-duration' would be lower than a single sample (0.0 samples). Consider increasing the parameter value to prevent errors.\n"
     ]
    },
    {
     "name": "stdout",
     "output_type": "stream",
     "text": [
      "Suj: 100, trial: 132\n",
      "\n",
      "Running saccades and fixations detection\n"
     ]
    },
    {
     "name": "stderr",
     "output_type": "stream",
     "text": [
      "WARNING: At the provided sampling rate of 30.0, the timeframe for the parameter 'min-saccade-duration' would be lower than a single sample (0.3 samples). Consider increasing the parameter value to prevent errors.\n",
      "WARNING: At the provided sampling rate of 30.0, the timeframe for the parameter 'max-pso-duration' would be lower than a single sample (0.0 samples). Consider increasing the parameter value to prevent errors.\n"
     ]
    },
    {
     "name": "stdout",
     "output_type": "stream",
     "text": [
      "Suj: 100, trial: 133\n",
      "\n",
      "Running saccades and fixations detection\n"
     ]
    },
    {
     "name": "stderr",
     "output_type": "stream",
     "text": [
      "WARNING: At the provided sampling rate of 30.0, the timeframe for the parameter 'min-saccade-duration' would be lower than a single sample (0.3 samples). Consider increasing the parameter value to prevent errors.\n",
      "WARNING: At the provided sampling rate of 30.0, the timeframe for the parameter 'max-pso-duration' would be lower than a single sample (0.0 samples). Consider increasing the parameter value to prevent errors.\n"
     ]
    },
    {
     "name": "stdout",
     "output_type": "stream",
     "text": [
      "Suj: 100, trial: 134\n",
      "\n",
      "Running saccades and fixations detection\n"
     ]
    },
    {
     "name": "stderr",
     "output_type": "stream",
     "text": [
      "WARNING: At the provided sampling rate of 30.0, the timeframe for the parameter 'min-saccade-duration' would be lower than a single sample (0.3 samples). Consider increasing the parameter value to prevent errors.\n",
      "WARNING: At the provided sampling rate of 30.0, the timeframe for the parameter 'max-pso-duration' would be lower than a single sample (0.0 samples). Consider increasing the parameter value to prevent errors.\n"
     ]
    },
    {
     "name": "stdout",
     "output_type": "stream",
     "text": [
      "Suj: 100, trial: 135\n",
      "\n",
      "Running saccades and fixations detection\n"
     ]
    },
    {
     "name": "stderr",
     "output_type": "stream",
     "text": [
      "WARNING: At the provided sampling rate of 30.0, the timeframe for the parameter 'min-saccade-duration' would be lower than a single sample (0.3 samples). Consider increasing the parameter value to prevent errors.\n",
      "WARNING: At the provided sampling rate of 30.0, the timeframe for the parameter 'max-pso-duration' would be lower than a single sample (0.0 samples). Consider increasing the parameter value to prevent errors.\n"
     ]
    },
    {
     "name": "stdout",
     "output_type": "stream",
     "text": [
      "Suj: 100, trial: 136\n",
      "\n",
      "Running saccades and fixations detection\n"
     ]
    },
    {
     "name": "stderr",
     "output_type": "stream",
     "text": [
      "WARNING: At the provided sampling rate of 30.0, the timeframe for the parameter 'min-saccade-duration' would be lower than a single sample (0.3 samples). Consider increasing the parameter value to prevent errors.\n",
      "WARNING: At the provided sampling rate of 30.0, the timeframe for the parameter 'max-pso-duration' would be lower than a single sample (0.0 samples). Consider increasing the parameter value to prevent errors.\n"
     ]
    },
    {
     "name": "stdout",
     "output_type": "stream",
     "text": [
      "Suj: 100, trial: 137\n",
      "\n",
      "Running saccades and fixations detection\n"
     ]
    },
    {
     "name": "stderr",
     "output_type": "stream",
     "text": [
      "WARNING: At the provided sampling rate of 30.0, the timeframe for the parameter 'min-saccade-duration' would be lower than a single sample (0.3 samples). Consider increasing the parameter value to prevent errors.\n",
      "WARNING: At the provided sampling rate of 30.0, the timeframe for the parameter 'max-pso-duration' would be lower than a single sample (0.0 samples). Consider increasing the parameter value to prevent errors.\n"
     ]
    },
    {
     "name": "stdout",
     "output_type": "stream",
     "text": [
      "Suj: 100, trial: 138\n",
      "\n",
      "Running saccades and fixations detection\n"
     ]
    },
    {
     "name": "stderr",
     "output_type": "stream",
     "text": [
      "WARNING: At the provided sampling rate of 30.0, the timeframe for the parameter 'min-saccade-duration' would be lower than a single sample (0.3 samples). Consider increasing the parameter value to prevent errors.\n",
      "WARNING: At the provided sampling rate of 30.0, the timeframe for the parameter 'max-pso-duration' would be lower than a single sample (0.0 samples). Consider increasing the parameter value to prevent errors.\n"
     ]
    },
    {
     "name": "stdout",
     "output_type": "stream",
     "text": [
      "Suj: 100, trial: 139\n",
      "\n",
      "Running saccades and fixations detection\n"
     ]
    },
    {
     "name": "stderr",
     "output_type": "stream",
     "text": [
      "WARNING: At the provided sampling rate of 30.0, the timeframe for the parameter 'min-saccade-duration' would be lower than a single sample (0.3 samples). Consider increasing the parameter value to prevent errors.\n",
      "WARNING: At the provided sampling rate of 30.0, the timeframe for the parameter 'max-pso-duration' would be lower than a single sample (0.0 samples). Consider increasing the parameter value to prevent errors.\n"
     ]
    },
    {
     "name": "stdout",
     "output_type": "stream",
     "text": [
      "Suj: 100, trial: 140\n",
      "\n",
      "Running saccades and fixations detection\n"
     ]
    },
    {
     "name": "stderr",
     "output_type": "stream",
     "text": [
      "WARNING: At the provided sampling rate of 30.0, the timeframe for the parameter 'min-saccade-duration' would be lower than a single sample (0.3 samples). Consider increasing the parameter value to prevent errors.\n",
      "WARNING: At the provided sampling rate of 30.0, the timeframe for the parameter 'max-pso-duration' would be lower than a single sample (0.0 samples). Consider increasing the parameter value to prevent errors.\n"
     ]
    },
    {
     "name": "stdout",
     "output_type": "stream",
     "text": [
      "Suj: 100, trial: 141\n",
      "\n",
      "Running saccades and fixations detection\n"
     ]
    },
    {
     "name": "stderr",
     "output_type": "stream",
     "text": [
      "WARNING: At the provided sampling rate of 30.0, the timeframe for the parameter 'min-saccade-duration' would be lower than a single sample (0.3 samples). Consider increasing the parameter value to prevent errors.\n",
      "WARNING: At the provided sampling rate of 30.0, the timeframe for the parameter 'max-pso-duration' would be lower than a single sample (0.0 samples). Consider increasing the parameter value to prevent errors.\n"
     ]
    },
    {
     "name": "stdout",
     "output_type": "stream",
     "text": [
      "Suj: 100, trial: 142\n",
      "\n",
      "Running saccades and fixations detection\n"
     ]
    },
    {
     "name": "stderr",
     "output_type": "stream",
     "text": [
      "WARNING: At the provided sampling rate of 30.0, the timeframe for the parameter 'min-saccade-duration' would be lower than a single sample (0.3 samples). Consider increasing the parameter value to prevent errors.\n",
      "WARNING: At the provided sampling rate of 30.0, the timeframe for the parameter 'max-pso-duration' would be lower than a single sample (0.0 samples). Consider increasing the parameter value to prevent errors.\n"
     ]
    },
    {
     "name": "stdout",
     "output_type": "stream",
     "text": [
      "Suj: 100, trial: 143\n",
      "\n",
      "Running saccades and fixations detection\n"
     ]
    },
    {
     "name": "stderr",
     "output_type": "stream",
     "text": [
      "WARNING: At the provided sampling rate of 30.0, the timeframe for the parameter 'min-saccade-duration' would be lower than a single sample (0.3 samples). Consider increasing the parameter value to prevent errors.\n",
      "WARNING: At the provided sampling rate of 30.0, the timeframe for the parameter 'max-pso-duration' would be lower than a single sample (0.0 samples). Consider increasing the parameter value to prevent errors.\n"
     ]
    },
    {
     "name": "stdout",
     "output_type": "stream",
     "text": [
      "Suj: 100, trial: 144\n",
      "\n",
      "Running saccades and fixations detection\n"
     ]
    },
    {
     "name": "stderr",
     "output_type": "stream",
     "text": [
      "WARNING: At the provided sampling rate of 30.0, the timeframe for the parameter 'min-saccade-duration' would be lower than a single sample (0.3 samples). Consider increasing the parameter value to prevent errors.\n",
      "WARNING: At the provided sampling rate of 30.0, the timeframe for the parameter 'max-pso-duration' would be lower than a single sample (0.0 samples). Consider increasing the parameter value to prevent errors.\n"
     ]
    },
    {
     "name": "stdout",
     "output_type": "stream",
     "text": [
      "Suj: 100, trial: 145\n",
      "\n",
      "Running saccades and fixations detection\n"
     ]
    },
    {
     "name": "stderr",
     "output_type": "stream",
     "text": [
      "WARNING: At the provided sampling rate of 30.0, the timeframe for the parameter 'min-saccade-duration' would be lower than a single sample (0.3 samples). Consider increasing the parameter value to prevent errors.\n",
      "WARNING: At the provided sampling rate of 30.0, the timeframe for the parameter 'max-pso-duration' would be lower than a single sample (0.0 samples). Consider increasing the parameter value to prevent errors.\n"
     ]
    },
    {
     "name": "stdout",
     "output_type": "stream",
     "text": [
      "Suj: 100, trial: 146\n",
      "\n",
      "Running saccades and fixations detection\n"
     ]
    },
    {
     "name": "stderr",
     "output_type": "stream",
     "text": [
      "WARNING: At the provided sampling rate of 30.0, the timeframe for the parameter 'min-saccade-duration' would be lower than a single sample (0.3 samples). Consider increasing the parameter value to prevent errors.\n",
      "WARNING: At the provided sampling rate of 30.0, the timeframe for the parameter 'max-pso-duration' would be lower than a single sample (0.0 samples). Consider increasing the parameter value to prevent errors.\n"
     ]
    },
    {
     "name": "stdout",
     "output_type": "stream",
     "text": [
      "Suj: 100, trial: 147\n",
      "\n",
      "Running saccades and fixations detection\n"
     ]
    },
    {
     "name": "stderr",
     "output_type": "stream",
     "text": [
      "WARNING: At the provided sampling rate of 30.0, the timeframe for the parameter 'min-saccade-duration' would be lower than a single sample (0.3 samples). Consider increasing the parameter value to prevent errors.\n",
      "WARNING: At the provided sampling rate of 30.0, the timeframe for the parameter 'max-pso-duration' would be lower than a single sample (0.0 samples). Consider increasing the parameter value to prevent errors.\n"
     ]
    },
    {
     "name": "stdout",
     "output_type": "stream",
     "text": [
      "Suj: 100, trial: 148\n",
      "\n",
      "Running saccades and fixations detection\n"
     ]
    },
    {
     "name": "stderr",
     "output_type": "stream",
     "text": [
      "WARNING: At the provided sampling rate of 30.0, the timeframe for the parameter 'min-saccade-duration' would be lower than a single sample (0.3 samples). Consider increasing the parameter value to prevent errors.\n",
      "WARNING: At the provided sampling rate of 30.0, the timeframe for the parameter 'max-pso-duration' would be lower than a single sample (0.0 samples). Consider increasing the parameter value to prevent errors.\n"
     ]
    },
    {
     "name": "stdout",
     "output_type": "stream",
     "text": [
      "End of saccades and fixations detection\n"
     ]
    }
   ],
   "source": [
    "\n",
    "# Lo hace trial por trial pero me parece que no es lo mejor\n",
    "# Chequear que la cantidad de trials finales tengan sentido\n",
    "OUT_FOLDER = \"./saccade_detection/\"\n",
    "SFREQ = 30  # Sampling rate after inteporlation\n",
    "\n",
    "for SUJ in range(len(df_blocks_filtered)):\n",
    "    for trial_num, data in enumerate(df_blocks_filtered.iloc[SUJ][\"prosaccade\"]):\n",
    "        print(f\"Suj: {df_blocks_filtered.index[SUJ]}, trial: {trial_num}\")\n",
    "        rows = []\n",
    "        # Remodnav parameters\n",
    "        FNAME = f\"{df_blocks_filtered.index[SUJ]}_detect_sacc_trial_{trial_num}.csv\"\n",
    "        PX2DEG = df_blocks_filtered[\"px2degree\"][SUJ]\n",
    "        OUT_FNAME = f\"fix_sac_detection_suj_{df_blocks_filtered.index[SUJ]}_trial_{trial_num}.tsv\"\n",
    "        x_samples = data[1]\n",
    "        t_samples = data[0]\n",
    "\n",
    "        # create a new row as a dictionary\n",
    "        new_row = {\n",
    "            \"x\": x_samples,\n",
    "            \"y\": np.zeros(len(x_samples)),\n",
    "            \"t\": t_samples,\n",
    "            \"trial\": trial_num,\n",
    "        }\n",
    "        rows.append(new_row)\n",
    "\n",
    "        df_sacc = pd.DataFrame(rows)\n",
    "        df_sacc = df_sacc.explode([\"x\", \"y\", \"t\"], ignore_index=True)\n",
    "        df_sacc = df_sacc[[\"x\", \"y\"]]\n",
    "\n",
    "        # One trial data\n",
    "        samples = len(x_samples)\n",
    "        df_sacc.iloc[:samples + 2].to_csv(\n",
    "            OUT_FOLDER + FNAME, sep=\"\\t\", header=False, index=False\n",
    "        )\n",
    "\n",
    "        print(\"\\nRunning saccades and fixations detection\")\n",
    "\n",
    "        # Run Remodnav not considering pursuit class and min fixations 100 ms\n",
    "        command = (\n",
    "            f\"remodnav {OUT_FOLDER + FNAME} {OUT_FOLDER  + OUT_FNAME} {PX2DEG} {SFREQ} --savgol-length {0.1} --min-pursuit-duration {2} \"\n",
    "            f\"--max-pso-duration {0.0} --min-fixation-duration {0.05} --max-vel {5000}\"\n",
    "        )\n",
    "        os.system(command)\n",
    "\n",
    "    # # Read results file with detections\n",
    "    # df_sac_fix = pd.read_csv(OUT_FNAME, sep=\"\\t\")\n",
    "\n",
    "    break\n",
    "\n",
    "print(\"End of saccades and fixations detection\")\n"
   ]
  },
  {
   "cell_type": "code",
   "execution_count": 37,
   "metadata": {},
   "outputs": [
    {
     "data": {
      "text/plain": [
       "(426, 11)"
      ]
     },
     "execution_count": 37,
     "metadata": {},
     "output_type": "execute_result"
    }
   ],
   "source": [
    "import glob\n",
    "path = './saccade_detection_by_trial/'\n",
    "df = pd.concat([pd.read_csv(f, sep='\\t' ) for f in glob.glob(path+'fix_sac_detection_suj_115_trial_*.tsv')])\n",
    "df.shape\n"
   ]
  },
  {
   "cell_type": "markdown",
   "metadata": {},
   "source": [
    "### VERSION POR SUJETO SIN SEPARACION POR TRIALS"
   ]
  },
  {
   "cell_type": "code",
   "execution_count": null,
   "metadata": {},
   "outputs": [],
   "source": [
    "#Lo hace trial por trial pero me parece que no es lo mejor\n",
    "# Chequear que la cantidad de trials finales tengan sentido\n",
    "OUT_FOLDER = './saccade_detection/'\n",
    "SFREQ = 30 # Sampling rate after inteporlation\n",
    "\n",
    "for SUJ in range(len(df_blocks_filtered)):\n",
    "    FNAME = f\"{df_blocks_filtered.index[SUJ]}_detect_sacc_trial.csv\"\n",
    "    PX2DEG = df_blocks_filtered['px2degree'][SUJ]\n",
    "    OUT_FNAME = f\"fix_sac_detection_suj_{df_blocks_filtered.index[SUJ]}_trial.tsv\"\n",
    "    rows = []\n",
    "    for trial, data in enumerate(df_blocks_filtered.iloc[SUJ][\"prosaccade\"]):\n",
    "        print(f\"Suj: {df_blocks_filtered.index[SUJ]}, trial: {trial}\")\n",
    "        # Remodnav parameters\n",
    "        x_samples = data[1]\n",
    "        t_samples = data[0]\n",
    "        \n",
    "        # create a new row as a dictionary\n",
    "        new_row = {\"x\": x_samples, \"y\": np.zeros(len(x_samples)), \"t\": t_samples}\n",
    "        rows.append(new_row)\n",
    "\n",
    "    df_sacc_detect_test = pd.DataFrame(rows)\n",
    "    df_sacc_detect_test_expl = df_sacc_detect_test.explode(\n",
    "        [\"x\", \"y\", \"t\"], ignore_index=True\n",
    "    )\n",
    "\n",
    "    df_sacc_detect_test_expl = df_sacc_detect_test_expl[['x', 'y']]\n",
    "\n",
    "    # Datos de un sujeto\n",
    "    samples = len(x_samples)\n",
    "    df_sacc_detect_test_expl.to_csv(OUT_FOLDER + FNAME, sep=\"\\t\", header=False, index=False)\n",
    "\n",
    "    print(\"\\nRunning saccades and fixations detection\")\n",
    "\n",
    "    \n",
    "    # Run Remodnav not considering pursuit class and min fixations 100 ms\n",
    "    command = (\n",
    "        f\"remodnav {OUT_FOLDER + FNAME} {OUT_FOLDER  + OUT_FNAME} {PX2DEG} {SFREQ} --savgol-length {0.1} --min-pursuit-duration {2} \"\n",
    "        f\"--max-pso-duration {0.0} --min-fixation-duration {0.05} --max-vel {5000}\"\n",
    "    )\n",
    "    os.system(command)\n",
    "\n",
    "\n",
    "    # # Read results file with detections\n",
    "    # df_sac_fix = pd.read_csv(OUT_FNAME, sep=\"\\t\")\n",
    "\n",
    "print(\"End of saccades and fixations detection\")\n",
    "    \n",
    "    "
   ]
  },
  {
   "cell_type": "code",
   "execution_count": null,
   "metadata": {},
   "outputs": [],
   "source": [
    "all_dfs_one_suj = []\n",
    "sujeto = 111\n",
    "path = './pro_saccade_detection_by_trial/'\n",
    "\n",
    "for f in sorted(glob.glob(path+f'fix_sac_detection_suj_{sujeto}_trial_*.tsv'), key=os.path.getmtime):\n",
    "    _df = pd.read_csv(f, sep='\\t' )\n",
    "    _df['trial'] = f.split(\"/\")[-1].split('.')[0].split(\"_\")[-1]\n",
    "    all_dfs_one_suj.append(_df)\n",
    "\n",
    "\n",
    "dfs = pd.concat(all_dfs_one_suj).reset_index()\n",
    "print( (dfs.query(\"label == 'SACC' or label == 'ISAC'\")['trial'].nunique() / dfs['trial'].nunique())  * 100, \"%\")\n",
    "\n",
    "dfs.query(\"label == 'SACC' or label == 'ISAC'\").reset_index()"
   ]
  },
  {
   "cell_type": "code",
   "execution_count": 21,
   "metadata": {},
   "outputs": [
    {
     "data": {
      "text/plain": [
       "(372, 12)"
      ]
     },
     "execution_count": 21,
     "metadata": {},
     "output_type": "execute_result"
    }
   ],
   "source": [
    "path = './saccade_detection_by_trial/'\n",
    "df = pd.concat([pd.read_csv(f, sep='\\t' ) for f in sorted(glob.glob(path+'fix_sac_detection_suj_110_trial_*.tsv'), key=os.path.getmtime)])\n",
    "df  = df.reset_index()\n",
    "df.shape"
   ]
  },
  {
   "cell_type": "code",
   "execution_count": 35,
   "metadata": {},
   "outputs": [
    {
     "data": {
      "text/html": [
       "<div>\n",
       "<style scoped>\n",
       "    .dataframe tbody tr th:only-of-type {\n",
       "        vertical-align: middle;\n",
       "    }\n",
       "\n",
       "    .dataframe tbody tr th {\n",
       "        vertical-align: top;\n",
       "    }\n",
       "\n",
       "    .dataframe thead th {\n",
       "        text-align: right;\n",
       "    }\n",
       "</style>\n",
       "<table border=\"1\" class=\"dataframe\">\n",
       "  <thead>\n",
       "    <tr style=\"text-align: right;\">\n",
       "      <th></th>\n",
       "      <th>prosaccade</th>\n",
       "    </tr>\n",
       "    <tr>\n",
       "      <th>subject</th>\n",
       "      <th></th>\n",
       "    </tr>\n",
       "  </thead>\n",
       "  <tbody>\n",
       "    <tr>\n",
       "      <th>100</th>\n",
       "      <td>149</td>\n",
       "    </tr>\n",
       "    <tr>\n",
       "      <th>101</th>\n",
       "      <td>134</td>\n",
       "    </tr>\n",
       "    <tr>\n",
       "      <th>102</th>\n",
       "      <td>136</td>\n",
       "    </tr>\n",
       "    <tr>\n",
       "      <th>103</th>\n",
       "      <td>149</td>\n",
       "    </tr>\n",
       "    <tr>\n",
       "      <th>104</th>\n",
       "      <td>153</td>\n",
       "    </tr>\n",
       "    <tr>\n",
       "      <th>105</th>\n",
       "      <td>149</td>\n",
       "    </tr>\n",
       "    <tr>\n",
       "      <th>107</th>\n",
       "      <td>150</td>\n",
       "    </tr>\n",
       "    <tr>\n",
       "      <th>109</th>\n",
       "      <td>149</td>\n",
       "    </tr>\n",
       "    <tr>\n",
       "      <th>110</th>\n",
       "      <td>146</td>\n",
       "    </tr>\n",
       "    <tr>\n",
       "      <th>111</th>\n",
       "      <td>151</td>\n",
       "    </tr>\n",
       "    <tr>\n",
       "      <th>112</th>\n",
       "      <td>153</td>\n",
       "    </tr>\n",
       "    <tr>\n",
       "      <th>113</th>\n",
       "      <td>157</td>\n",
       "    </tr>\n",
       "    <tr>\n",
       "      <th>114</th>\n",
       "      <td>156</td>\n",
       "    </tr>\n",
       "    <tr>\n",
       "      <th>115</th>\n",
       "      <td>154</td>\n",
       "    </tr>\n",
       "    <tr>\n",
       "      <th>117</th>\n",
       "      <td>127</td>\n",
       "    </tr>\n",
       "    <tr>\n",
       "      <th>118</th>\n",
       "      <td>151</td>\n",
       "    </tr>\n",
       "    <tr>\n",
       "      <th>119</th>\n",
       "      <td>147</td>\n",
       "    </tr>\n",
       "    <tr>\n",
       "      <th>123</th>\n",
       "      <td>152</td>\n",
       "    </tr>\n",
       "    <tr>\n",
       "      <th>124</th>\n",
       "      <td>153</td>\n",
       "    </tr>\n",
       "    <tr>\n",
       "      <th>125</th>\n",
       "      <td>132</td>\n",
       "    </tr>\n",
       "    <tr>\n",
       "      <th>126</th>\n",
       "      <td>157</td>\n",
       "    </tr>\n",
       "    <tr>\n",
       "      <th>127</th>\n",
       "      <td>138</td>\n",
       "    </tr>\n",
       "    <tr>\n",
       "      <th>91</th>\n",
       "      <td>154</td>\n",
       "    </tr>\n",
       "    <tr>\n",
       "      <th>92</th>\n",
       "      <td>148</td>\n",
       "    </tr>\n",
       "    <tr>\n",
       "      <th>98</th>\n",
       "      <td>145</td>\n",
       "    </tr>\n",
       "    <tr>\n",
       "      <th>99</th>\n",
       "      <td>146</td>\n",
       "    </tr>\n",
       "  </tbody>\n",
       "</table>\n",
       "</div>"
      ],
      "text/plain": [
       "         prosaccade\n",
       "subject            \n",
       "100             149\n",
       "101             134\n",
       "102             136\n",
       "103             149\n",
       "104             153\n",
       "105             149\n",
       "107             150\n",
       "109             149\n",
       "110             146\n",
       "111             151\n",
       "112             153\n",
       "113             157\n",
       "114             156\n",
       "115             154\n",
       "117             127\n",
       "118             151\n",
       "119             147\n",
       "123             152\n",
       "124             153\n",
       "125             132\n",
       "126             157\n",
       "127             138\n",
       "91              154\n",
       "92              148\n",
       "98              145\n",
       "99              146"
      ]
     },
     "execution_count": 35,
     "metadata": {},
     "output_type": "execute_result"
    }
   ],
   "source": [
    "pd.DataFrame(df_blocks_filtered['prosaccade'].map(len))"
   ]
  },
  {
   "cell_type": "code",
   "execution_count": 30,
   "metadata": {},
   "outputs": [
    {
     "data": {
      "text/plain": [
       "(146, 12)"
      ]
     },
     "execution_count": 30,
     "metadata": {},
     "output_type": "execute_result"
    }
   ],
   "source": [
    "df[df['index'] == 0].shape"
   ]
  },
  {
   "cell_type": "markdown",
   "metadata": {},
   "source": [
    "### Other"
   ]
  },
  {
   "cell_type": "code",
   "execution_count": null,
   "metadata": {},
   "outputs": [],
   "source": [
    "# Podemos poner 0 - 150\n",
    "# Graficar solo los eerrores\n",
    "\n",
    "# Calcular para cada trial correcto o incorrecto y el tiempo (y promedios +- desvio)\n",
    "# Tablita cmo en la tesis (2 porcentajes y 4 tiempos)\n"
   ]
  },
  {
   "cell_type": "code",
   "execution_count": null,
   "metadata": {},
   "outputs": [],
   "source": [
    "# Tiempos en el experimento (ms)\n",
    "\n",
    "# Inter-trial time (ITI) = 925\n",
    "# Prensentacion de la cue de tipo de tarea =  getRandomIntInclusive(900, 1500) -> es variable!\n",
    "# Presentacion del cuadrado central que es igual para todos (cue sin informacion) = 200\n",
    "# tiempo durante el que aparece la visualCue = 150\n",
    "# Tiempo para responder (responseAwait) = 650\n",
    "\n",
    "925 + 1500 + 200 + 150 + 650\n"
   ]
  }
 ],
 "metadata": {
  "kernelspec": {
   "display_name": "Python 3.8.10 ('et_precision')",
   "language": "python",
   "name": "python3"
  },
  "language_info": {
   "codemirror_mode": {
    "name": "ipython",
    "version": 3
   },
   "file_extension": ".py",
   "mimetype": "text/x-python",
   "name": "python",
   "nbconvert_exporter": "python",
   "pygments_lexer": "ipython3",
   "version": "3.8.10"
  },
  "orig_nbformat": 4,
  "vscode": {
   "interpreter": {
    "hash": "6f0d42c22a5736a7a0eed5c53d5493904972f3860a3efc761472d071d7e111ea"
   }
  }
 },
 "nbformat": 4,
 "nbformat_minor": 2
}
