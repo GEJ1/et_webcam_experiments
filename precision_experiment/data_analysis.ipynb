{
 "cells": [
  {
   "cell_type": "code",
   "execution_count": 1,
   "metadata": {},
   "outputs": [],
   "source": [
    "import pandas as pd\n",
    "import numpy as np\n",
    "import matplotlib.pyplot as plt\n",
    "import matplotlib.gridspec as gridspec\n",
    "import seaborn as sns\n",
    "\n",
    "pd.set_option('display.max_columns', None)\n",
    "pd.set_option('display.max_rows', 100)\n"
   ]
  },
  {
   "cell_type": "code",
   "execution_count": null,
   "metadata": {},
   "outputs": [
    {
     "ename": "NameError",
     "evalue": "name 'pd' is not defined",
     "output_type": "error",
     "traceback": [
      "\u001b[0;31m---------------------------------------------------------------------------\u001b[0m",
      "\u001b[0;31mNameError\u001b[0m                                 Traceback (most recent call last)",
      "Cell \u001b[0;32mIn[3], line 1\u001b[0m\n\u001b[0;32m----> 1\u001b[0m df \u001b[39m=\u001b[39m pd\u001b[39m.\u001b[39mread_csv(\u001b[39m'\u001b[39m\u001b[39mraw_data/precision-experiment-2022-11-09T14_30_34.775Z (2).csv\u001b[39m\u001b[39m'\u001b[39m)\n\u001b[1;32m      2\u001b[0m df\u001b[39m.\u001b[39mhead(\u001b[39m5\u001b[39m)\n",
      "\u001b[0;31mNameError\u001b[0m: name 'pd' is not defined"
     ]
    },
    {
     "ename": "",
     "evalue": "",
     "output_type": "error",
     "traceback": [
      "\u001b[1;31mnotebook controller is DISPOSED. \n",
      "\u001b[1;31mView Jupyter <a href='command:jupyter.viewOutput'>log</a> for further details."
     ]
    },
    {
     "ename": "",
     "evalue": "",
     "output_type": "error",
     "traceback": [
      "\u001b[1;31mnotebook controller is DISPOSED. \n",
      "\u001b[1;31mView Jupyter <a href='command:jupyter.viewOutput'>log</a> for further details."
     ]
    }
   ],
   "source": [
    "df = pd.read_csv('raw_data/precision-experiment-2022-11-09T14_30_34.775Z (2).csv')\n",
    "df.head(5)"
   ]
  },
  {
   "cell_type": "code",
   "execution_count": 143,
   "metadata": {},
   "outputs": [
    {
     "data": {
      "text/plain": [
       "Index(['rt', 'response', 'trial_type', 'trial_index', 'time_elapsed',\n",
       "       'internal_node_id', 'load_time', 'success', 'jspsych_start_time',\n",
       "       'item_width_mm', 'item_height_mm', 'item_width_px', 'px2mm',\n",
       "       'view_dist_mm', 'item_width_deg', 'px2deg', 'win_width_deg',\n",
       "       'win_height_deg', 'stimulus', 'response_type', 'key_press',\n",
       "       'avg_frame_time', 'center_x', 'center_y', 'rastoc-type',\n",
       "       'stimulus-coordinate', 'calibration-id', 'calibration-point-id',\n",
       "       'inner-width', 'inner-height', 'webgazer_data', 'webgazer_targets',\n",
       "       'session-id', 'validation-id', 'tracked-trial-id', 'trial-tag',\n",
       "       'start-x', 'start-y', 'events'],\n",
       "      dtype='object')"
      ]
     },
     "execution_count": 143,
     "metadata": {},
     "output_type": "execute_result"
    }
   ],
   "source": [
    "df.columns"
   ]
  },
  {
   "cell_type": "code",
   "execution_count": 44,
   "metadata": {},
   "outputs": [
    {
     "data": {
      "text/plain": [
       "validation-stimulus    576\n",
       "NaN                    167\n",
       "fixation-stimulus       64\n",
       "Name: trial-tag, dtype: int64"
      ]
     },
     "execution_count": 44,
     "metadata": {},
     "output_type": "execute_result"
    }
   ],
   "source": [
    "# Tenemos \n",
    "df['trial-tag'].value_counts(dropna=False)"
   ]
  },
  {
   "cell_type": "code",
   "execution_count": 64,
   "metadata": {},
   "outputs": [
    {
     "data": {
      "text/plain": [
       "NaN                    663\n",
       "{\"x\":412,\"y\":0}         16\n",
       "{\"x\":0,\"y\":-405}        16\n",
       "{\"x\":412,\"y\":-405}      16\n",
       "{\"x\":0,\"y\":0}           16\n",
       "{\"x\":-412,\"y\":-405}     16\n",
       "{\"x\":0,\"y\":405}         16\n",
       "{\"x\":-412,\"y\":0}        16\n",
       "{\"x\":412,\"y\":405}       16\n",
       "{\"x\":-412,\"y\":405}      16\n",
       "Name: stimulus-coordinate, dtype: int64"
      ]
     },
     "execution_count": 64,
     "metadata": {},
     "output_type": "execute_result"
    }
   ],
   "source": [
    "df['stimulus-coordinate'].value_counts(dropna=False)"
   ]
  },
  {
   "cell_type": "code",
   "execution_count": 76,
   "metadata": {},
   "outputs": [
    {
     "data": {
      "text/plain": [
       "\\n        <h3>Calibration Session</h3>\\n\\n        Sit comfortably, from now on try to keep your head as still as\\n        possible.\\n        <br>\\n        <br>\\n        \\n        Next you will see a <b>series of markers</b> in the screen.\\n        <br>\\n\\n        As they appear <b>fix your gaze</b> on them.\\n        <br>\\n\\n        Once they turn orange, press the <b>space bar</b>.\\n        <br>\\n                8\n",
       "\\n      <h3>Experimentation Session (1 / 8)</h3>\\n      8 times you will see a series of stimulus in the same\\n      positions in which you just calibrated.\\n      Fix your gaze on them as they appear.\\n      <br>\\n\\n      A central cross will appear in between each pair of series.\\n      While this cross is present you can rest your gaze and blink.\\n      <br>\\n\\n      Press the space bar to start.\\n            1\n",
       "\\n      <h3>Experimentation Session (2 / 8)</h3>\\n      8 times you will see a series of stimulus in the same\\n      positions in which you just calibrated.\\n      Fix your gaze on them as they appear.\\n      <br>\\n\\n      A central cross will appear in between each pair of series.\\n      While this cross is present you can rest your gaze and blink.\\n      <br>\\n\\n      Press the space bar to start.\\n            1\n",
       "\\n      <h3>Experimentation Session (3 / 8)</h3>\\n      8 times you will see a series of stimulus in the same\\n      positions in which you just calibrated.\\n      Fix your gaze on them as they appear.\\n      <br>\\n\\n      A central cross will appear in between each pair of series.\\n      While this cross is present you can rest your gaze and blink.\\n      <br>\\n\\n      Press the space bar to start.\\n            1\n",
       "\\n      <h3>Experimentation Session (4 / 8)</h3>\\n      8 times you will see a series of stimulus in the same\\n      positions in which you just calibrated.\\n      Fix your gaze on them as they appear.\\n      <br>\\n\\n      A central cross will appear in between each pair of series.\\n      While this cross is present you can rest your gaze and blink.\\n      <br>\\n\\n      Press the space bar to start.\\n            1\n",
       "\\n      <h3>Experimentation Session (5 / 8)</h3>\\n      8 times you will see a series of stimulus in the same\\n      positions in which you just calibrated.\\n      Fix your gaze on them as they appear.\\n      <br>\\n\\n      A central cross will appear in between each pair of series.\\n      While this cross is present you can rest your gaze and blink.\\n      <br>\\n\\n      Press the space bar to start.\\n            1\n",
       "\\n      <h3>Experimentation Session (6 / 8)</h3>\\n      8 times you will see a series of stimulus in the same\\n      positions in which you just calibrated.\\n      Fix your gaze on them as they appear.\\n      <br>\\n\\n      A central cross will appear in between each pair of series.\\n      While this cross is present you can rest your gaze and blink.\\n      <br>\\n\\n      Press the space bar to start.\\n            1\n",
       "\\n      <h3>Experimentation Session (7 / 8)</h3>\\n      8 times you will see a series of stimulus in the same\\n      positions in which you just calibrated.\\n      Fix your gaze on them as they appear.\\n      <br>\\n\\n      A central cross will appear in between each pair of series.\\n      While this cross is present you can rest your gaze and blink.\\n      <br>\\n\\n      Press the space bar to start.\\n            1\n",
       "\\n      <h3>Experimentation Session (8 / 8)</h3>\\n      8 times you will see a series of stimulus in the same\\n      positions in which you just calibrated.\\n      Fix your gaze on them as they appear.\\n      <br>\\n\\n      A central cross will appear in between each pair of series.\\n      While this cross is present you can rest your gaze and blink.\\n      <br>\\n\\n      Press the space bar to start.\\n            1\n",
       "\\n    Done!\\n    <br>\\n    To finish the experiment click on \"Finish\" and download the csv with the\\n    data.\\n                                                                                                                                                                                                                                                                                                                1\n",
       "Name: stimulus, dtype: int64"
      ]
     },
     "execution_count": 76,
     "metadata": {},
     "output_type": "execute_result"
    }
   ],
   "source": [
    "df['stimulus'].value_counts()"
   ]
  },
  {
   "cell_type": "code",
   "execution_count": null,
   "metadata": {},
   "outputs": [],
   "source": [
    "for i in df.columns:\n",
    "    print('columna: ',i)\n",
    "    print(' ')\n",
    "    print(df[i].value_counts())\n",
    "    print(' ')"
   ]
  },
  {
   "cell_type": "code",
   "execution_count": 78,
   "metadata": {},
   "outputs": [
    {
     "data": {
      "text/plain": [
       "NaN                    663\n",
       "{\"x\":412,\"y\":0}         16\n",
       "{\"x\":0,\"y\":-405}        16\n",
       "{\"x\":412,\"y\":-405}      16\n",
       "{\"x\":0,\"y\":0}           16\n",
       "{\"x\":-412,\"y\":-405}     16\n",
       "{\"x\":0,\"y\":405}         16\n",
       "{\"x\":-412,\"y\":0}        16\n",
       "{\"x\":412,\"y\":405}       16\n",
       "{\"x\":-412,\"y\":405}      16\n",
       "Name: stimulus-coordinate, dtype: int64"
      ]
     },
     "execution_count": 78,
     "metadata": {},
     "output_type": "execute_result"
    }
   ],
   "source": [
    "df['stimulus-coordinate'].value_counts(dropna=False)"
   ]
  },
  {
   "cell_type": "code",
   "execution_count": 92,
   "metadata": {},
   "outputs": [
    {
     "data": {
      "text/plain": [
       "<function matplotlib.pyplot.xlim(*args, **kwargs)>"
      ]
     },
     "execution_count": 92,
     "metadata": {},
     "output_type": "execute_result"
    },
    {
     "data": {
      "image/png": "[encoded data removed]",
      "text/plain": [
       "<Figure size 640x480 with 1 Axes>"
      ]
     },
     "metadata": {},
     "output_type": "display_data"
    }
   ],
   "source": [
    "coords = df[~df['stimulus-coordinate'].isna()].iloc[:9]['stimulus-coordinate'].map(eval)\n",
    "xs = []\n",
    "ys = []\n",
    "for i in coords:\n",
    "    xs.append(i['x'])\n",
    "    ys.append(i['y'])\n",
    "\n",
    "plt.scatter(xs,ys)\n",
    "plt.xlim"
   ]
  },
  {
   "cell_type": "code",
   "execution_count": 50,
   "metadata": {},
   "outputs": [
    {
     "data": {
      "text/plain": [
       "26     [{\"x\":1189,\"y\":494,\"t\":0},{\"x\":1101,\"y\":478,\"t...\n",
       "27     [{\"x\":1148,\"y\":493,\"t\":0},{\"x\":1119,\"y\":451,\"t...\n",
       "28     [{\"x\":1248,\"y\":743,\"t\":0},{\"x\":1296,\"y\":731,\"t...\n",
       "29     [{\"x\":469,\"y\":191,\"t\":0},{\"x\":500,\"y\":178,\"t\":...\n",
       "30     [{\"x\":1188,\"y\":322,\"t\":0},{\"x\":1164,\"y\":292,\"t...\n",
       "                             ...                        \n",
       "800    [{\"x\":959,\"y\":899,\"t\":0},{\"x\":972,\"y\":779,\"t\":...\n",
       "801    [{\"x\":1439,\"y\":466,\"t\":0},{\"x\":1347,\"y\":445,\"t...\n",
       "802    [{\"x\":499,\"y\":820,\"t\":0},{\"x\":504,\"y\":741,\"t\":...\n",
       "803    [{\"x\":539,\"y\":139,\"t\":0},{\"x\":531,\"y\":141,\"t\":...\n",
       "804    [{\"x\":1313,\"y\":694,\"t\":0},{\"x\":1326,\"y\":680,\"t...\n",
       "Name: webgazer_data, Length: 576, dtype: object"
      ]
     },
     "execution_count": 50,
     "metadata": {},
     "output_type": "execute_result"
    }
   ],
   "source": [
    "df[df['trial-tag'] == 'validation-stimulus']['webgazer_data']"
   ]
  },
  {
   "cell_type": "code",
   "execution_count": null,
   "metadata": {},
   "outputs": [],
   "source": [
    "df[~df['webgazer_data'].isna()]"
   ]
  },
  {
   "cell_type": "code",
   "execution_count": null,
   "metadata": {},
   "outputs": [],
   "source": [
    "# for d in df[~df['webgazer_data'].isna()]['webgazer_data'].map(eval):\n",
    "TAG = 'fixation-stimulus' # Es el momento donde aparece la cruz de fijacion\n",
    "\n",
    "k = 0\n",
    "plt.vlines(960,0,1080,'k')\n",
    "plt.hlines(540,0,1920,'k')\n",
    "for d in df[df['trial-tag'] == TAG]['webgazer_data'].map(eval):\n",
    "    n = sum(df['trial-tag'] == TAG)\n",
    "    xs = []\n",
    "    ys = []\n",
    "    ts = []\n",
    "    for i in d:\n",
    "        xs.append(i['x'])\n",
    "        ys.append(i['y'])\n",
    "        ts.append(i['t'])\n",
    "    \n",
    "    plt.scatter(xs,ys,c=(k/n)*np.reshape(np.repeat(np.ones(len(xs)),3),(len(xs),3)))\n",
    "    k+=1\n",
    "\n",
    "plt.xlim(0, 1920)\n",
    "plt.ylim(0, 1080)\n",
    "plt.show()"
   ]
  },
  {
   "cell_type": "code",
   "execution_count": 1,
   "metadata": {},
   "outputs": [
    {
     "ename": "NameError",
     "evalue": "name 'df' is not defined",
     "output_type": "error",
     "traceback": [
      "\u001b[0;31m---------------------------------------------------------------------------\u001b[0m",
      "\u001b[0;31mNameError\u001b[0m                                 Traceback (most recent call last)",
      "Cell \u001b[0;32mIn[1], line 160\u001b[0m\n\u001b[1;32m    157\u001b[0m \u001b[39m# TRIAL_TAG = 'validation-stimulus'\u001b[39;00m\n\u001b[1;32m    158\u001b[0m TRIAL_TAG \u001b[39m=\u001b[39m \u001b[39m\"\u001b[39m\u001b[39mfixation-stimulus\u001b[39m\u001b[39m\"\u001b[39m  \u001b[39m# Es el momento donde aparece la cruz de fijacion\u001b[39;00m\n\u001b[0;32m--> 160\u001b[0m df_res \u001b[39m=\u001b[39m calculate_and_plot_errors(df, TRIAL_TAG, max_plots\u001b[39m=\u001b[39m\u001b[39m11\u001b[39m)\n\u001b[1;32m    161\u001b[0m df_res\n",
      "\u001b[0;31mNameError\u001b[0m: name 'df' is not defined"
     ]
    }
   ],
   "source": [
    "def calculate_and_plot_errors(\n",
    "    df, TRIAL_TAG, first_sample=0, max_plots=5, screen_res=(1920, 1080)\n",
    "):\n",
    "    \"\"\"_summary_\n",
    "\n",
    "    Args:\n",
    "        df (Pandas DataFrame): Data\n",
    "        TRIAL_TAG (str): Type of trial (`validation-stimulus` or `fixation-stimulus`)\n",
    "        first_sample (int, optional): First sample fo evaluate. Useful for filtering. Defaults to 0.\n",
    "        max_plots (int, optional): Max number of plots. Defaults to 5.\n",
    "        screen_res (tuple, optional): Screen Resolution of experiment. Defaults to (1920, 1080).\n",
    "\n",
    "    Returns:\n",
    "        pd.DataFrame: Analyzed data with columns:\n",
    "            \"trials\": trials\n",
    "            \"presented_point\": presented_points\n",
    "            \"time_between_samples_mean\": time_between_samples_mean\n",
    "            \"time_between_samples_std\": time_between_samples_std\n",
    "            \"sampling_rate_mean\": sampling_rate_mean\n",
    "            \"sampling_rate_std\": sampling_rate_std\n",
    "            \"last_time_sample\": last_time_sample\n",
    "            \"horizontal_errors_pxs_mean\": horizontal_errors_pxs_mean,\n",
    "            \"horizontal_errors_pxs_std\": horizontal_errors_pxs_std,\n",
    "            \"vertical_errors_pxs_mean\": vertical_errors_pxs_mean,\n",
    "            \"vertical_errors_pxs_std\": vertical_errors_pxs_std,\n",
    "            \"total_errors_pxs_mean\": total_errors_pxs_mean,\n",
    "            \"total_errors_pxs_std\": total_errors_pxs_std\n",
    "    \"\"\"\n",
    "    trials = []\n",
    "    presented_points = []\n",
    "    time_between_samples_mean = []\n",
    "    time_between_samples_std = []\n",
    "    sampling_rate_mean = []\n",
    "    sampling_rate_std = []\n",
    "    last_time_sample = []\n",
    "    horizontal_errors_pxs_mean = []\n",
    "    horizontal_errors_pxs_std = []\n",
    "    vertical_errors_pxs_mean = []\n",
    "    vertical_errors_pxs_std = []\n",
    "    total_errors_pxs_mean = []\n",
    "    total_errors_pxs_std = []\n",
    "\n",
    "    center_x = df[df[\"trial-tag\"] == TRIAL_TAG][\"center_x\"].iloc[0]\n",
    "    center_y = df[df[\"trial-tag\"] == TRIAL_TAG][\"center_y\"].iloc[0]\n",
    "\n",
    "    n = sum(df[\"trial-tag\"] == TRIAL_TAG)\n",
    "\n",
    "    nv = df[df[\"trial-tag\"] == TRIAL_TAG][\"validation-id\"].values\n",
    "    xv = df[df[\"trial-tag\"] == TRIAL_TAG][\"start-x\"].values + center_x\n",
    "    yv = df[df[\"trial-tag\"] == TRIAL_TAG][\"start-y\"].values + center_y\n",
    "\n",
    "    first_sample = 0\n",
    "    k = 0\n",
    "    for d in df[df[\"trial-tag\"] == TRIAL_TAG][\"webgazer_data\"].map(eval):\n",
    "        xs = []\n",
    "        ys = []\n",
    "        ts = []\n",
    "        for i in d:\n",
    "            xs.append(i[\"x\"])\n",
    "            ys.append(i[\"y\"])\n",
    "            ts.append(i[\"t\"])\n",
    "\n",
    "        trials.append(nv[k])\n",
    "        presented_points.append((xv[k], yv[k]))\n",
    "        time_between_samples_mean.append(np.mean(np.diff(ts)))\n",
    "        time_between_samples_std.append(np.std(np.diff(ts)))\n",
    "        sampling_rate_mean.append(np.mean(1000 / np.diff(ts)))\n",
    "        sampling_rate_std.append(np.std(1000 / np.diff(ts)))\n",
    "        last_time_sample.append(max(ts))\n",
    "        print(\"Validation point (%d): %d, %d\" % (nv[k], xv[k], yv[k]))\n",
    "        print(\n",
    "            \"Time between samples (ms) = %.0f +- %.0f \"\n",
    "            % (np.mean(np.diff(ts)), np.std(np.diff(ts)))\n",
    "        )\n",
    "        print(\n",
    "            \"Sampling rate (Hz) = %.0f +- %.0f \"\n",
    "            % (np.mean(1000 / np.diff(ts)), np.std(1000 / np.diff(ts)))\n",
    "        )\n",
    "        print(\"Last time sample = %d\" % max(ts))\n",
    "\n",
    "        xs = np.array(xs)\n",
    "        ys = np.array(ys)\n",
    "        ts = np.array(ts)\n",
    "\n",
    "        xs = xs[ts > first_sample]\n",
    "        ys = ys[ts > first_sample]\n",
    "        ts = ts[ts > first_sample]\n",
    "\n",
    "        ex = abs(xs - xv[k])\n",
    "        ey = abs(ys - yv[k])\n",
    "        ee = np.sqrt(ex**2 + ey**2)\n",
    "\n",
    "        horizontal_errors_pxs_mean.append(np.mean(ex))\n",
    "        horizontal_errors_pxs_std.append(np.std(ex))\n",
    "        vertical_errors_pxs_mean.append(np.mean(ey))\n",
    "        vertical_errors_pxs_std.append(np.std(ey))\n",
    "        total_errors_pxs_mean.append(np.mean(ee))\n",
    "        total_errors_pxs_std.append(np.std(ee))\n",
    "        print(\"Horizontal error (pxs) = %.0f +- %.0f \" % (np.mean(ex), np.std(ex)))\n",
    "        print(\"Vertical error (pxs) = %.0f +- %.0f \" % (np.mean(ey), np.std(ey)))\n",
    "        print(\"Total error (pxs) = %.0f +- %.0f \" % (np.mean(ee), np.std(ee)))\n",
    "\n",
    "        gs = gridspec.GridSpec(2, 4)\n",
    "        gs.update(wspace=1)\n",
    "        ax1 = plt.subplot(gs[0, :2], )\n",
    "        ax1.set_title('ax1')\n",
    "\n",
    "        ax2 = plt.subplot(gs[0, 2:])\n",
    "        ax2.set_title('ax2')\n",
    "\n",
    "        ax3 = plt.subplot(gs[1, 1:3])\n",
    "        ax3.set_title('ax3')\n",
    "\n",
    "        ax1.scatter(xv, yv, c=\"c\")\n",
    "        ax1.vlines(screen_res[0] / 2, 0, screen_res[1], \"k\")\n",
    "        ax1.hlines(screen_res[1] / 2, 0, screen_res[0], \"k\")\n",
    "        ax1.scatter(\n",
    "            xs, ys, c=(k / n) * np.reshape(np.repeat(np.ones(len(xs)), 3), (len(xs), 3))\n",
    "        )\n",
    "        ax1.scatter(xv[k], yv[k], c=\"b\")\n",
    "        ax1.set_xlim(0, screen_res[0])\n",
    "        ax1.set_ylim(0, screen_res[1])\n",
    "\n",
    "        ax2.plot(ts, xs, \"k.\")\n",
    "        ax2.set_ylim(0, center_x * 2)\n",
    "        ax2.hlines(center_x, 0, max(ts), \"k\")\n",
    "\n",
    "        ax3.plot(ts, ys, \"k.\")\n",
    "        ax3.set_ylim(0, center_y * 2)\n",
    "        ax3.hlines(center_y, 0, max(ts), \"k\")\n",
    "\n",
    "        plt.show()\n",
    "\n",
    "        k += 1\n",
    "        if k == max_plots:\n",
    "            break\n",
    "\n",
    "    return pd.DataFrame(\n",
    "        {\n",
    "            \"trials\": trials,\n",
    "            \"presented_point\": presented_points,\n",
    "            \"time_between_samples_mean\": time_between_samples_mean,\n",
    "            \"time_between_samples_std\": time_between_samples_std,\n",
    "            \"sampling_rate_mean\": sampling_rate_mean,\n",
    "            \"sampling_rate_std\": sampling_rate_std,\n",
    "            \"last_time_sample\": last_time_sample,\n",
    "            \"horizontal_errors_pxs_mean\": horizontal_errors_pxs_mean,\n",
    "            \"horizontal_errors_pxs_std\": horizontal_errors_pxs_std,\n",
    "            \"vertical_errors_pxs_mean\": vertical_errors_pxs_mean,\n",
    "            \"vertical_errors_pxs_std\": vertical_errors_pxs_std,\n",
    "            \"total_errors_pxs_mean\": total_errors_pxs_mean,\n",
    "            \"total_errors_pxs_std\": total_errors_pxs_std\n",
    "        }\n",
    "    )\n",
    "\n",
    "\n",
    "# TRIAL_TAG = 'validation-stimulus'\n",
    "TRIAL_TAG = \"fixation-stimulus\"  # Es el momento donde aparece la cruz de fijacion\n",
    "\n",
    "df_res = calculate_and_plot_errors(df, TRIAL_TAG, max_plots=11)\n",
    "df_res\n"
   ]
  },
  {
   "cell_type": "code",
   "execution_count": 227,
   "metadata": {},
   "outputs": [
    {
     "data": {
      "image/png": "[encoded data removed]",
      "text/plain": [
       "<Figure size 640x480 with 3 Axes>"
      ]
     },
     "metadata": {},
     "output_type": "display_data"
    }
   ],
   "source": [
    "\n",
    "\n",
    "plt.show()"
   ]
  },
  {
   "cell_type": "code",
   "execution_count": 52,
   "metadata": {},
   "outputs": [],
   "source": [
    "# def graficar_un_sujeto(df, SUJ_NUM, TRIAL_NUM, RADIUS=18, CANVAS_SIZE=750):\n",
    "#         # Style\n",
    "#         COLORMAP_traj = \"inferno\"\n",
    "#         plt.style.use(\"seaborn\")\n",
    "#         plt.rcParams[\"image.cmap\"] = COLORMAP_traj\n",
    "#         # plt.rcParams['font.size'] = 1\n",
    "#         sns.set(font_scale=1.5)\n",
    "\n",
    "#         # Tamanio del grafico\n",
    "#         _, axs = plt.subplots(figsize=(12, 12))\n",
    "\n",
    "#         # #Settings para ploteo de items\n",
    "\n",
    "#         # Position fo the items presented on screen\n",
    "\n",
    "#         circle_coords = eval(df[\"all_xy_data\"][SUJ_NUM])[TRIAL_NUM]  # Posicion de items\n",
    "#         stim_content = eval(df[\"all_content_data\"][SUJ_NUM])[\n",
    "#             TRIAL_NUM\n",
    "#         ]  # Contenido de los items\n",
    "#         # diccionario_items = dict(zip(circle_coords,stim_content))\n",
    "#         CIRCLE_RADIUS = RADIUS\n",
    "#         FONT_SIZE = 14\n",
    "\n",
    "#         g2 = plt.scatter(\n",
    "#             x=eval(df[\"x_y_first_click\"][SUJ_NUM])[TRIAL_NUM][0],\n",
    "#             y=eval(df[\"x_y_first_click\"][SUJ_NUM])[TRIAL_NUM][1],\n",
    "#             color=\"g\",\n",
    "#             edgecolors=\"yellow\",\n",
    "#             marker=\"o\",\n",
    "#             s=100,\n",
    "#             zorder=1000,\n",
    "#         )\n",
    "\n",
    "#         for stim_iterator, i in enumerate(circle_coords):\n",
    "\n",
    "#             a_circle = plt.Circle(i, CIRCLE_RADIUS, zorder=190)\n",
    "\n",
    "#             axs.add_artist(a_circle)\n",
    "\n",
    "#             axs.add_patch(a_circle)\n",
    "\n",
    "#             label = axs.annotate(\n",
    "#                 stim_content[stim_iterator],\n",
    "#                 xy=i,\n",
    "#                 fontsize=FONT_SIZE,\n",
    "#                 horizontalalignment=\"center\",\n",
    "#                 verticalalignment=\"center\",\n",
    "#                 color=\"white\",\n",
    "#                 zorder=200,\n",
    "#             )\n",
    "\n",
    "#         # Grafico la trayectoria\n",
    "#         g = sns.scatterplot(\n",
    "#             x=eval(df[\"x\"][SUJ_NUM])[TRIAL_NUM],\n",
    "#             y=eval(df[\"y\"][SUJ_NUM])[TRIAL_NUM],\n",
    "#             c=eval(df[\"t\"][SUJ_NUM])[TRIAL_NUM],\n",
    "#             cmap=COLORMAP_traj,\n",
    "#             zorder=10,\n",
    "#         )  # z-order sirve para seleccionar la capa donde se plote (por delante o por detras de las otras cosas)\n",
    "\n",
    "#         # Aca invierto los ejes porque en mi experimento el (0,0) es la esquina superior izquierda\n",
    "#         g = plt.gca()  # get the axis\n",
    "#         g.set_ylim(g.get_ylim()[::-1])  # invert the axis\n",
    "#         g.xaxis.tick_top()  # and move the X-Axis\n",
    "\n",
    "#         # Set axis\n",
    "#         g.set_xlim(0, CANVAS_SIZE)  # set the ylim to left, right\n",
    "#         g.set_ylim(CANVAS_SIZE, 0)  # set the xlim to left, right\n",
    "\n",
    "#         # Grafico los puntos que tocan los circulos\n",
    "#         g3 = plt.scatter(\n",
    "#             x=eval(df[\"within_circle_x\"][SUJ_NUM])[TRIAL_NUM],\n",
    "#             y=eval(df[\"within_circle_y\"][SUJ_NUM])[TRIAL_NUM],\n",
    "#             color=\"red\",\n",
    "#             edgecolors=\"red\",\n",
    "#             marker=\"o\",\n",
    "#             s=20,\n",
    "#             zorder=500,\n",
    "#         )\n",
    "\n",
    "#         # Labels\n",
    "#         g.set(\n",
    "#             xlabel=\"x coordinate\",\n",
    "#             ylabel=\"y coordinate\",\n",
    "#             title=f\"Trayectoria del mouse en la pantalla para el sujetx {SUJ_NUM} trial {TRIAL_NUM} \\n\",\n",
    "#         )\n",
    "\n",
    "#         plt.colorbar(label=\"Time\", orientation=\"horizontal\", pad=0.001)\n",
    "\n",
    "#         plt.show"
   ]
  },
  {
   "cell_type": "code",
   "execution_count": null,
   "metadata": {},
   "outputs": [],
   "source": [
    "# Style\n",
    "COLORMAP_traj = \"inferno\"\n",
    "plt.style.use(\"seaborn\")\n",
    "plt.rcParams[\"image.cmap\"] = COLORMAP_traj\n",
    "sns.set(font_scale=1.5)\n",
    "\n",
    "# Tamanio del grafico\n",
    "_, axs = plt.subplots(figsize=(12, 12))\n",
    "\n",
    "\n",
    "# plots \n",
    "\n",
    "CIRCLE_RADIUS = 10\n",
    "circle_coords = []\n",
    "\n",
    "for stim_iterator, i in enumerate(circle_coords):\n",
    "\n",
    "    a_circle = plt.Circle(i, CIRCLE_RADIUS, zorder=190)\n",
    "    axs.add_artist(a_circle)\n",
    "    axs.add_patch(a_circle)"
   ]
  }
 ],
 "metadata": {
  "kernelspec": {
   "display_name": "Python 3.8.10 ('et_precision')",
   "language": "python",
   "name": "python3"
  },
  "language_info": {
   "codemirror_mode": {
    "name": "ipython",
    "version": 3
   },
   "file_extension": ".py",
   "mimetype": "text/x-python",
   "name": "python",
   "nbconvert_exporter": "python",
   "pygments_lexer": "ipython3",
   "version": "3.8.10"
  },
  "orig_nbformat": 4,
  "vscode": {
   "interpreter": {
    "hash": "b5031880019b5846dbc734b1eb6d904a70fed99316a8d5a5a15b33a7b17cf54d"
   }
  }
 },
 "nbformat": 4,
 "nbformat_minor": 2
}
