{
 "cells": [
  {
   "cell_type": "code",
   "execution_count": null,
   "metadata": {},
   "outputs": [],
   "source": [
    "import pandas as pd\n",
    "import numpy as np\n",
    "import matplotlib.pyplot as plt\n",
    "import matplotlib.gridspec as gridspec\n",
    "import seaborn as sns\n",
    "from pathlib import Path\n",
    "\n",
    "import precision_functions as prefun\n",
    "\n",
    "pd.set_option(\"display.max_columns\", None)\n",
    "pd.set_option(\"display.max_rows\", 300)"
   ]
  },
  {
   "cell_type": "markdown",
   "metadata": {},
   "source": [
    "### Constants"
   ]
  },
  {
   "cell_type": "code",
   "execution_count": null,
   "metadata": {},
   "outputs": [],
   "source": [
    "EVENT = \"rastoc:stillness-position-lost\"\n",
    "TRIAL_TAG = 'validation-stimulus' #Opcion: \"fixation-stimulus\"  # Es el momento donde aparece la cruz de fijacion\n",
    "FIRST_SAMPLE = 500\n",
    "MAX_VAR = 75\n",
    "MAX_PLOTS = None\n",
    "VERBOSE = False\n",
    "ALL_FILES_RAW = list(Path(\"./raw_data\").glob(\"*.csv\"))\n",
    "LOAD_PATH = './raw_data/juan_repeticion_webcam9_computer3_chrome_ubuntu.csv' #str(ALL_FILES_RAW[0])\n",
    "# LOAD_INFO = LOAD_PATH.split('/')[1].split('_')\n",
    "\n",
    "\n",
    "# print(\"All files:\",ALL_FILES_RAW, end='\\n\\n')\n",
    "# print(f\"\"\"File loaded:\n",
    "# {LOAD_INFO[0]}\n",
    "# {LOAD_INFO[1]}\n",
    "# {LOAD_INFO[2]}\n",
    "# {LOAD_INFO[3]}\n",
    "# {LOAD_INFO[4].split('.')[0]}\"\"\")\n"
   ]
  },
  {
   "cell_type": "markdown",
   "metadata": {},
   "source": [
    "### Data load"
   ]
  },
  {
   "cell_type": "code",
   "execution_count": null,
   "metadata": {},
   "outputs": [],
   "source": [
    "print(LOAD_PATH)\n",
    "df = pd.read_csv(LOAD_PATH)\n",
    "df.head(5)"
   ]
  },
  {
   "cell_type": "markdown",
   "metadata": {},
   "source": [
    "### Check rastoc events"
   ]
  },
  {
   "cell_type": "code",
   "execution_count": null,
   "metadata": {},
   "outputs": [],
   "source": [
    "events  = prefun.get_rastoc_events(df, EVENT)\n",
    "print(\"len(events):\", len(events))"
   ]
  },
  {
   "cell_type": "markdown",
   "metadata": {},
   "source": [
    "### Precision experiment analysis"
   ]
  },
  {
   "cell_type": "code",
   "execution_count": null,
   "metadata": {},
   "outputs": [],
   "source": [
    "df_res = prefun.calculate_and_plot_errors(df, \n",
    "                                   TRIAL_TAG,\n",
    "                                   first_sample=FIRST_SAMPLE,\n",
    "                                   max_var=MAX_VAR,\n",
    "                                   max_plots=MAX_PLOTS, \n",
    "                                   verbose=VERBOSE)\n",
    "\n",
    "print(f\"Error: {df_res['total_errors_pxs_mean'].mean():.2f} +- {df_res['total_errors_pxs_mean'].std():.2f}\")"
   ]
  },
  {
   "cell_type": "markdown",
   "metadata": {},
   "source": [
    "### Analysis"
   ]
  },
  {
   "cell_type": "code",
   "execution_count": null,
   "metadata": {},
   "outputs": [],
   "source": [
    "print(f\"Error: {df_res['total_errors_pxs_mean'].mean():.2f} +- {df_res['total_errors_pxs_mean'].std():.2f}\")\n",
    "print(f\"Cantidad de NaNs: {df_res['total_errors_pxs_mean'].isna().sum()}\")\n"
   ]
  },
  {
   "cell_type": "code",
   "execution_count": null,
   "metadata": {},
   "outputs": [],
   "source": [
    "plt.plot((df_res['trials']-1)%8,df_res['total_errors_pxs_mean'],'.')"
   ]
  },
  {
   "cell_type": "code",
   "execution_count": null,
   "metadata": {},
   "outputs": [],
   "source": [
    "# plt.plot((df_res['trials']-1)%8,df_res['total_errors_pxs_mean'],'.')\n",
    "\n",
    "sns.regplot(df_res, x=(df_res['trials']-1)%8, y='total_errors_pxs_mean')\n",
    "\n",
    "# a = (df_res['trials']-1)%8\n",
    "# sns.boxplot(data=df_res, x=a, y='total_errors_pxs_mean')"
   ]
  },
  {
   "cell_type": "code",
   "execution_count": null,
   "metadata": {},
   "outputs": [],
   "source": [
    "a = (df_res['trials']-1)%8\n",
    "# sns.regplot(df_res, x=a, y='total_errors_pxs_mean')\n",
    "ax = sns.scatterplot(df_res,  x=a, y='total_errors_pxs_mean', hue='presented_point')\n",
    "ax.legend(bbox_to_anchor=(1.3, 1.3))"
   ]
  },
  {
   "cell_type": "code",
   "execution_count": null,
   "metadata": {},
   "outputs": [],
   "source": [
    "center_x = df[df[\"trial-tag\"] == TRIAL_TAG][\"center_x\"].iloc[0]\n",
    "center_y = df[df[\"trial-tag\"] == TRIAL_TAG][\"center_y\"].iloc[0]\n",
    "\n",
    "df_res['presented_distance'] = df_res['presented_point'].apply(lambda x: np.sqrt((x[0] - center_x)**2 + (x[1] - center_y)**2))\n",
    "\n",
    "df_res.groupby('presented_distance').mean()\n",
    "\n"
   ]
  },
  {
   "cell_type": "code",
   "execution_count": null,
   "metadata": {},
   "outputs": [],
   "source": [
    "plt.scatter(df_res['webgazer_x'].iloc[10], df_res['webgazer_y'].iloc[10])\n",
    "plt.xlim(0, 1920)\n",
    "plt.ylim(0, 1080)"
   ]
  },
  {
   "cell_type": "code",
   "execution_count": null,
   "metadata": {},
   "outputs": [],
   "source": [
    "df_res.plot.scatter(x='presented_point_x',y='presented_point_y')"
   ]
  },
  {
   "cell_type": "code",
   "execution_count": null,
   "metadata": {},
   "outputs": [],
   "source": [
    "df_res[['presented_point_x','presented_point_y']] = pd.DataFrame(df_res['presented_point'].tolist())"
   ]
  },
  {
   "cell_type": "code",
   "execution_count": null,
   "metadata": {},
   "outputs": [],
   "source": [
    "points_position_dict = dict(zip(df_res['presented_point'].unique(), range(1,10)))\n",
    "\n",
    "df_res['presented_point_index'] = df_res[\"presented_point\"].map(points_position_dict)"
   ]
  },
  {
   "cell_type": "code",
   "execution_count": null,
   "metadata": {},
   "outputs": [],
   "source": [
    "df_res[['presented_point_index', 'presented_point']].head(20)"
   ]
  },
  {
   "cell_type": "code",
   "execution_count": null,
   "metadata": {},
   "outputs": [],
   "source": [
    "# U = df_res['presented_point'].unique()\n",
    "# U\n",
    "\n",
    "# [idx for x,y in df_res['presented_point'] ]\n",
    "\n",
    "df.columns"
   ]
  },
  {
   "cell_type": "code",
   "execution_count": null,
   "metadata": {},
   "outputs": [],
   "source": [
    "# plt.plot(df_res['trials'],df_res['total_errors_pxs_mean'],'.')\n",
    "sns.regplot(df_res, x='trials', y='total_errors_pxs_mean')\n"
   ]
  },
  {
   "cell_type": "code",
   "execution_count": null,
   "metadata": {},
   "outputs": [],
   "source": [
    "(8-1)%8"
   ]
  },
  {
   "cell_type": "code",
   "execution_count": null,
   "metadata": {},
   "outputs": [],
   "source": [
    "ALL_FILES_ANALYZED = list(Path(\"./analyzed\").glob(\"*.csv\"))\n",
    "ALL_FILES_ANALYZED\n",
    "\n",
    "prefun.evaluate_experiment_instances(ALL_FILES_ANALYZED)"
   ]
  },
  {
   "cell_type": "code",
   "execution_count": null,
   "metadata": {},
   "outputs": [],
   "source": [
    "df_res['first_sample'].iloc[0]"
   ]
  },
  {
   "cell_type": "markdown",
   "metadata": {},
   "source": [
    "### Save"
   ]
  },
  {
   "cell_type": "code",
   "execution_count": null,
   "metadata": {},
   "outputs": [],
   "source": [
    "SAVE_PATH = f\"analyzed/analyzed_{LOAD_PATH.split('/')[-1]}\"\n",
    "print(f'Saved: {SAVE_PATH}')\n",
    "df_res.to_csv(SAVE_PATH, index=False)"
   ]
  },
  {
   "cell_type": "markdown",
   "metadata": {},
   "source": [
    "### Cosas"
   ]
  },
  {
   "cell_type": "code",
   "execution_count": null,
   "metadata": {},
   "outputs": [],
   "source": [
    "\n",
    "df = pd.read_csv('/home/gus/Downloads/antisacadas_91.csv')\n",
    "df.head(5)"
   ]
  },
  {
   "cell_type": "code",
   "execution_count": null,
   "metadata": {},
   "outputs": [],
   "source": [
    "df.columns"
   ]
  },
  {
   "cell_type": "code",
   "execution_count": null,
   "metadata": {},
   "outputs": [],
   "source": [
    "# df[~df['webgazer_data'].isna()]['webgazer_data']\n",
    "\n",
    "# Antisacadas\n",
    "df_antisacadas = df.query(\"not webgazer_data.isnull() and not typeOfSaccade == 'antisaccade'\")\n",
    "\n",
    "webgazer_data_antisacadas = df_antisacadas['webgazer_data'].map(eval)\n",
    "for trial in range(len(df_antisacadas)):\n",
    "    xs = [i['x'] for i in webgazer_data_antisacadas.iloc[trial]]\n",
    "    ys = [i['y'] for i in webgazer_data_antisacadas.iloc[trial]]\n",
    "    ts = [i['t'] for i in webgazer_data_antisacadas.iloc[trial]]\n",
    "    plt.plot(ts, xs)\n",
    "\n",
    "plt.title(f'antisacadas\\nN={len(webgazer_data_antisacadas)}')\n",
    "plt.ylabel('x coordinate (pxs)')\n",
    "plt.xlabel('time (ms)')\n",
    "plt.show()\n",
    "\n",
    "# Prosacadas\n",
    "df_prosacadas = df.query(\"not webgazer_data.isnull() and not typeOfSaccade == 'prosaccade'\")\n",
    "\n",
    "webgazer_data_prosacadas = df_prosacadas['webgazer_data'].map(eval)\n",
    "for trial in range(len(df_antisacadas)):\n",
    "    xs = [i['x'] for i in webgazer_data_prosacadas.iloc[trial]]\n",
    "    ys = [i['y'] for i in webgazer_data_prosacadas.iloc[trial]]\n",
    "    ts = [i['t'] for i in webgazer_data_prosacadas.iloc[trial]]\n",
    "    plt.plot(ts, xs)\n",
    "\n",
    "plt.title(f'Prosacadas\\nN={len(webgazer_data_prosacadas)}')\n",
    "plt.ylabel('x coordinate (pxs)')\n",
    "plt.xlabel('time (ms)')\n",
    "plt.show()"
   ]
  },
  {
   "cell_type": "code",
   "execution_count": null,
   "metadata": {},
   "outputs": [],
   "source": [
    "trial = 100\n",
    "xs = [i['x'] for i in df[~df['webgazer_data'].isna()]['webgazer_data'].map(eval).iloc[trial]]\n",
    "ys = [i['y'] for i in df[~df['webgazer_data'].isna()]['webgazer_data'].map(eval).iloc[trial]]\n",
    "ts = [i['t'] for i in df[~df['webgazer_data'].isna()]['webgazer_data'].map(eval).iloc[trial]]\n",
    "\n",
    "plt.plot(ts, xs)\n",
    "# plt.xlim(0, int(df[~df['webgazer_data'].isna()]['viewportWidth'].iloc[-1]))\n",
    "# plt.ylim(0, df[~df['webgazer_data'].isna()]['viewportHeight'].iloc[-1])\n",
    "# plt.colorbar()\n",
    "plt.show()"
   ]
  }
 ],
 "metadata": {
  "kernelspec": {
   "display_name": "Python 3.8.10 ('et_precision')",
   "language": "python",
   "name": "python3"
  },
  "language_info": {
   "codemirror_mode": {
    "name": "ipython",
    "version": 3
   },
   "file_extension": ".py",
   "mimetype": "text/x-python",
   "name": "python",
   "nbconvert_exporter": "python",
   "pygments_lexer": "ipython3",
   "version": "3.8.10"
  },
  "vscode": {
   "interpreter": {
    "hash": "6f0d42c22a5736a7a0eed5c53d5493904972f3860a3efc761472d071d7e111ea"
   }
  }
 },
 "nbformat": 4,
 "nbformat_minor": 2
}
