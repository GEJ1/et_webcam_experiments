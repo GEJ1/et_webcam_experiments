{
 "cells": [
  {
   "cell_type": "code",
   "execution_count": null,
   "metadata": {},
   "outputs": [],
   "source": [
    "import pandas as pd\n",
    "import numpy as np\n",
    "import matplotlib.pyplot as plt\n",
    "import matplotlib.gridspec as gridspec\n",
    "import seaborn as sns\n",
    "from pathlib import Path\n",
    "\n",
    "import precision_functions as prefun\n",
    "\n",
    "pd.set_option(\"display.max_columns\", None)\n",
    "pd.set_option(\"display.max_rows\", 100)"
   ]
  },
  {
   "cell_type": "markdown",
   "metadata": {},
   "source": [
    "### Constants"
   ]
  },
  {
   "cell_type": "code",
   "execution_count": null,
   "metadata": {},
   "outputs": [],
   "source": [
    "EVENT = \"rastoc:stillness-position-lost\"\n",
    "\n",
    "TRIAL_TAG = 'validation-stimulus' #Opcion: \"fixation-stimulus\"  # Es el momento donde aparece la cruz de fijacion\n",
    "FIRST_SAMPLE = 500\n",
    "MAX_PLOTS = None\n",
    "VERBOSE = False\n",
    "\n",
    "ALL_FILES_RAW = list(Path(\"./raw_data\").glob(\"*.csv\"))\n",
    "LOAD_PATH = \"raw_data/precision-experiment-2023-02-01T18_55_26.364Z.csv\""
   ]
  },
  {
   "cell_type": "markdown",
   "metadata": {},
   "source": [
    "### Data load"
   ]
  },
  {
   "cell_type": "code",
   "execution_count": null,
   "metadata": {},
   "outputs": [],
   "source": [
    "print(LOAD_PATH)\n",
    "df = pd.read_csv(LOAD_PATH)\n",
    "df.head(5)"
   ]
  },
  {
   "cell_type": "markdown",
   "metadata": {},
   "source": [
    "### Check rastoc events"
   ]
  },
  {
   "cell_type": "code",
   "execution_count": null,
   "metadata": {},
   "outputs": [],
   "source": [
    "events  = prefun.get_rastoc_events(df, EVENT)\n",
    "print(\"len(events):\", len(events))"
   ]
  },
  {
   "cell_type": "markdown",
   "metadata": {},
   "source": [
    "### Precision experiment analysis"
   ]
  },
  {
   "cell_type": "code",
   "execution_count": null,
   "metadata": {},
   "outputs": [],
   "source": [
    "df_res = prefun.calculate_and_plot_errors(df, \n",
    "                                   TRIAL_TAG,\n",
    "                                   first_sample=FIRST_SAMPLE,\n",
    "                                   max_plots=MAX_PLOTS, \n",
    "                                   verbose=VERBOSE)\n",
    "\n",
    "print(f\"Error: {df_res['total_errors_pxs_mean'].mean():.2f} +- {df_res['total_errors_pxs_mean'].std():.2f}\")"
   ]
  },
  {
   "cell_type": "markdown",
   "metadata": {},
   "source": [
    "### Save"
   ]
  },
  {
   "cell_type": "code",
   "execution_count": null,
   "metadata": {},
   "outputs": [],
   "source": [
    "SAVE_PATH = f\"analyzed/analyzed_{LOAD_PATH.split('/')[-1]}\"\n",
    "print(f'Saved: {SAVE_PATH}')\n",
    "df_res.to_csv(SAVE_PATH, index=False)"
   ]
  },
  {
   "cell_type": "code",
   "execution_count": null,
   "metadata": {},
   "outputs": [],
   "source": [
    "print(f\"Error: {df_res['total_errors_pxs_mean'].mean():.2f} +- {df_res['total_errors_pxs_mean'].std():.2f}\")"
   ]
  },
  {
   "cell_type": "code",
   "execution_count": null,
   "metadata": {},
   "outputs": [],
   "source": [
    "print(f\"Error: {df_res['total_errors_pxs_mean'].mean():.2f} +- {df_res['total_errors_pxs_mean'].std():.2f}\")"
   ]
  },
  {
   "cell_type": "code",
   "execution_count": null,
   "metadata": {},
   "outputs": [],
   "source": [
    "ALL_FILES_ANALYZED = list(Path(\"./analyzed\").glob(\"*.csv\"))\n",
    "ALL_FILES_ANALYZED\n",
    "\n",
    "prefun.evaluate_experiment_instances(ALL_FILES_ANALYZED)"
   ]
  },
  {
   "cell_type": "code",
   "execution_count": null,
   "metadata": {},
   "outputs": [],
   "source": [
    "df_res['first_sample'].iloc[0]"
   ]
  }
 ],
 "metadata": {
  "kernelspec": {
   "display_name": "metodos",
   "language": "python",
   "name": "metodos"
  },
  "language_info": {
   "codemirror_mode": {
    "name": "ipython",
    "version": 3
   },
   "file_extension": ".py",
   "mimetype": "text/x-python",
   "name": "python",
   "nbconvert_exporter": "python",
   "pygments_lexer": "ipython3",
   "version": "3.8.10"
  },
  "vscode": {
   "interpreter": {
    "hash": "6f0d42c22a5736a7a0eed5c53d5493904972f3860a3efc761472d071d7e111ea"
   }
  }
 },
 "nbformat": 4,
 "nbformat_minor": 2
}
